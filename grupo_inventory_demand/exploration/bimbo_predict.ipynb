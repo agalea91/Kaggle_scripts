{
 "cells": [
  {
   "cell_type": "code",
   "execution_count": 1,
   "metadata": {
    "collapsed": false
   },
   "outputs": [
    {
     "name": "stderr",
     "output_type": "stream",
     "text": [
      "C:\\Anaconda3\\Lib\\site-packages\\pandas\\computation\\__init__.py:19: UserWarning: The installed version of numexpr 2.4.4 is not supported in pandas and will be not be used\n",
      "\n",
      "  UserWarning)\n"
     ]
    }
   ],
   "source": [
    "import sys\n",
    "sys.path.append('C:\\Anaconda3\\Lib\\site-packages')\n",
    "\n",
    "import os\n",
    "import pandas as pd\n",
    "import numpy as np\n",
    "from tqdm import *\n",
    "import matplotlib.pyplot as plt\n",
    "%matplotlib inline\n",
    "import json"
   ]
  },
  {
   "cell_type": "code",
   "execution_count": 3,
   "metadata": {
    "collapsed": false
   },
   "outputs": [],
   "source": [
    "%load_ext snakeviz"
   ]
  },
  {
   "cell_type": "markdown",
   "metadata": {},
   "source": [
    "## Predicting Groupo Bimbo inventory demands\n",
    "Author: Alex Galea  \n",
    "Date: August 17th, 2016"
   ]
  },
  {
   "cell_type": "markdown",
   "metadata": {},
   "source": [
    "### Import data and set up features"
   ]
  },
  {
   "cell_type": "code",
   "execution_count": 176,
   "metadata": {
    "collapsed": false
   },
   "outputs": [
    {
     "name": "stdout",
     "output_type": "stream",
     "text": [
      "Wall time: 38.1 s\n"
     ]
    }
   ],
   "source": [
    "%%time\n",
    "types = {'Agencia_ID': np.uint16, 'Ruta_SAK':np.uint16,\n",
    "         'Cliente_ID': np.uint32, 'Producto_ID':np.uint16}\n",
    "#          'demand_w3': np.uint32 , 'demand_w4': np.uint32,\n",
    "#          'demand_w5': np.uint32 , 'demand_w6': np.uint32,\n",
    "#          'demand_w7': np.uint32 , 'demand_w8': np.uint32,\n",
    "#          'demand_w9': np.uint32}\n",
    "\n",
    "df = pd.read_csv('../input/train_features.csv',\n",
    "                 usecols=list(types.keys())+\\\n",
    "                 'demand_w3 demand_w4 demand_w5 demand_w6 demand_w7 demand_w8 demand_w9'.split(),\n",
    "                 dtype=types)\n",
    "df.head()"
   ]
  },
  {
   "cell_type": "markdown",
   "metadata": {},
   "source": [
    "Finding mean and log-transformed mean for demands in each row."
   ]
  },
  {
   "cell_type": "code",
   "execution_count": 177,
   "metadata": {
    "collapsed": false
   },
   "outputs": [
    {
     "name": "stdout",
     "output_type": "stream",
     "text": [
      "Wall time: 13min 21s\n"
     ]
    }
   ],
   "source": [
    "%%time\n",
    "df['demand_mean'] = df.iloc[:, 4:11].\\\n",
    "                    apply(lambda x: np.mean(x),\n",
    "                          axis=1)"
   ]
  },
  {
   "cell_type": "code",
   "execution_count": 178,
   "metadata": {
    "collapsed": false
   },
   "outputs": [
    {
     "name": "stdout",
     "output_type": "stream",
     "text": [
      "Wall time: 51min 43s\n"
     ]
    }
   ],
   "source": [
    "%%time\n",
    "df['demand_log_transform_mean'] = df.iloc[:, 4:11].\\\n",
    "    apply(lambda x: np.exp((np.log(x + 1)).mean()) - 1,\n",
    "          axis=1)"
   ]
  },
  {
   "cell_type": "code",
   "execution_count": 179,
   "metadata": {
    "collapsed": false
   },
   "outputs": [],
   "source": [
    "df['demand_mean'] = df.demand_mean.apply(lambda x: np.round(x))\n",
    "df['demand_log_transform_mean'] = df.demand_log_transform_mean.apply(lambda x: np.round(x))"
   ]
  },
  {
   "cell_type": "code",
   "execution_count": 181,
   "metadata": {
    "collapsed": false
   },
   "outputs": [],
   "source": [
    "# If it doesn't already exist, save a processed version of the dataframe\n",
    "name = 'train_df_means.csv'\n",
    "if not os.path.isfile('../input/'+name):\n",
    "    df.to_csv('../input/'+name)"
   ]
  },
  {
   "cell_type": "markdown",
   "metadata": {},
   "source": [
    "### Start here"
   ]
  },
  {
   "cell_type": "code",
   "execution_count": 4,
   "metadata": {
    "collapsed": false
   },
   "outputs": [
    {
     "data": {
      "text/html": [
       "<div>\n",
       "<table border=\"1\" class=\"dataframe\">\n",
       "  <thead>\n",
       "    <tr style=\"text-align: right;\">\n",
       "      <th></th>\n",
       "      <th>Agencia_ID</th>\n",
       "      <th>Ruta_SAK</th>\n",
       "      <th>Cliente_ID</th>\n",
       "      <th>Producto_ID</th>\n",
       "      <th>demand_w3</th>\n",
       "      <th>demand_w4</th>\n",
       "      <th>demand_w5</th>\n",
       "      <th>demand_w6</th>\n",
       "      <th>demand_w7</th>\n",
       "      <th>demand_w8</th>\n",
       "      <th>demand_w9</th>\n",
       "      <th>demand_mean</th>\n",
       "      <th>demand_log_transform_mean</th>\n",
       "      <th>demand_mean_last2weeks</th>\n",
       "      <th>demand_mean_last3weeks</th>\n",
       "      <th>demand_mean_last4weeks</th>\n",
       "      <th>demand_log_mean_last4weeks</th>\n",
       "      <th>demand_log_mean_last5weeks</th>\n",
       "      <th>demand_log_mean_last6weeks</th>\n",
       "    </tr>\n",
       "  </thead>\n",
       "  <tbody>\n",
       "    <tr>\n",
       "      <th>0</th>\n",
       "      <td>1110</td>\n",
       "      <td>3301</td>\n",
       "      <td>15766</td>\n",
       "      <td>1211</td>\n",
       "      <td>3.0</td>\n",
       "      <td>4.0</td>\n",
       "      <td>5.0</td>\n",
       "      <td>NaN</td>\n",
       "      <td>NaN</td>\n",
       "      <td>4.0</td>\n",
       "      <td>1.0</td>\n",
       "      <td>3.0</td>\n",
       "      <td>3.0</td>\n",
       "      <td>2</td>\n",
       "      <td>3</td>\n",
       "      <td>4</td>\n",
       "      <td>3</td>\n",
       "      <td>3</td>\n",
       "      <td>3</td>\n",
       "    </tr>\n",
       "    <tr>\n",
       "      <th>1</th>\n",
       "      <td>1110</td>\n",
       "      <td>3301</td>\n",
       "      <td>15766</td>\n",
       "      <td>1216</td>\n",
       "      <td>4.0</td>\n",
       "      <td>2.0</td>\n",
       "      <td>3.0</td>\n",
       "      <td>1.0</td>\n",
       "      <td>2.0</td>\n",
       "      <td>5.0</td>\n",
       "      <td>NaN</td>\n",
       "      <td>3.0</td>\n",
       "      <td>3.0</td>\n",
       "      <td>4</td>\n",
       "      <td>3</td>\n",
       "      <td>3</td>\n",
       "      <td>2</td>\n",
       "      <td>2</td>\n",
       "      <td>3</td>\n",
       "    </tr>\n",
       "    <tr>\n",
       "      <th>2</th>\n",
       "      <td>1110</td>\n",
       "      <td>3301</td>\n",
       "      <td>15766</td>\n",
       "      <td>1238</td>\n",
       "      <td>4.0</td>\n",
       "      <td>3.0</td>\n",
       "      <td>1.0</td>\n",
       "      <td>2.0</td>\n",
       "      <td>2.0</td>\n",
       "      <td>3.0</td>\n",
       "      <td>2.0</td>\n",
       "      <td>2.0</td>\n",
       "      <td>2.0</td>\n",
       "      <td>2</td>\n",
       "      <td>2</td>\n",
       "      <td>2</td>\n",
       "      <td>2</td>\n",
       "      <td>2</td>\n",
       "      <td>2</td>\n",
       "    </tr>\n",
       "    <tr>\n",
       "      <th>3</th>\n",
       "      <td>1110</td>\n",
       "      <td>3301</td>\n",
       "      <td>15766</td>\n",
       "      <td>1240</td>\n",
       "      <td>4.0</td>\n",
       "      <td>7.0</td>\n",
       "      <td>NaN</td>\n",
       "      <td>NaN</td>\n",
       "      <td>8.0</td>\n",
       "      <td>2.0</td>\n",
       "      <td>2.0</td>\n",
       "      <td>5.0</td>\n",
       "      <td>4.0</td>\n",
       "      <td>2</td>\n",
       "      <td>4</td>\n",
       "      <td>5</td>\n",
       "      <td>4</td>\n",
       "      <td>4</td>\n",
       "      <td>4</td>\n",
       "    </tr>\n",
       "    <tr>\n",
       "      <th>4</th>\n",
       "      <td>1110</td>\n",
       "      <td>3301</td>\n",
       "      <td>15766</td>\n",
       "      <td>1242</td>\n",
       "      <td>3.0</td>\n",
       "      <td>3.0</td>\n",
       "      <td>2.0</td>\n",
       "      <td>3.0</td>\n",
       "      <td>2.0</td>\n",
       "      <td>1.0</td>\n",
       "      <td>1.0</td>\n",
       "      <td>2.0</td>\n",
       "      <td>2.0</td>\n",
       "      <td>1</td>\n",
       "      <td>1</td>\n",
       "      <td>2</td>\n",
       "      <td>2</td>\n",
       "      <td>2</td>\n",
       "      <td>2</td>\n",
       "    </tr>\n",
       "  </tbody>\n",
       "</table>\n",
       "</div>"
      ],
      "text/plain": [
       "   Agencia_ID  Ruta_SAK  Cliente_ID  Producto_ID  demand_w3  demand_w4  \\\n",
       "0        1110      3301       15766         1211        3.0        4.0   \n",
       "1        1110      3301       15766         1216        4.0        2.0   \n",
       "2        1110      3301       15766         1238        4.0        3.0   \n",
       "3        1110      3301       15766         1240        4.0        7.0   \n",
       "4        1110      3301       15766         1242        3.0        3.0   \n",
       "\n",
       "   demand_w5  demand_w6  demand_w7  demand_w8  demand_w9  demand_mean  \\\n",
       "0        5.0        NaN        NaN        4.0        1.0          3.0   \n",
       "1        3.0        1.0        2.0        5.0        NaN          3.0   \n",
       "2        1.0        2.0        2.0        3.0        2.0          2.0   \n",
       "3        NaN        NaN        8.0        2.0        2.0          5.0   \n",
       "4        2.0        3.0        2.0        1.0        1.0          2.0   \n",
       "\n",
       "   demand_log_transform_mean  demand_mean_last2weeks  demand_mean_last3weeks  \\\n",
       "0                        3.0                       2                       3   \n",
       "1                        3.0                       4                       3   \n",
       "2                        2.0                       2                       2   \n",
       "3                        4.0                       2                       4   \n",
       "4                        2.0                       1                       1   \n",
       "\n",
       "   demand_mean_last4weeks  demand_log_mean_last4weeks  \\\n",
       "0                       4                           3   \n",
       "1                       3                           2   \n",
       "2                       2                           2   \n",
       "3                       5                           4   \n",
       "4                       2                           2   \n",
       "\n",
       "   demand_log_mean_last5weeks  demand_log_mean_last6weeks  \n",
       "0                           3                           3  \n",
       "1                           2                           3  \n",
       "2                           2                           2  \n",
       "3                           4                           4  \n",
       "4                           2                           2  "
      ]
     },
     "execution_count": 4,
     "metadata": {},
     "output_type": "execute_result"
    }
   ],
   "source": [
    "# Can skip the above computations and load processed version of dataframe\n",
    "if True:\n",
    "    \n",
    "    name = 'train_df_means.csv'\n",
    "    \n",
    "    types = {'Agencia_ID': np.uint16, 'Ruta_SAK': np.uint16,\n",
    "             'Cliente_ID': np.uint32, 'Producto_ID': np.uint16}\n",
    "#              'demand_w3': np.uint32 , 'demand_w4': np.uint32,\n",
    "#              'demand_w5': np.uint32 , 'demand_w6': np.uint32,\n",
    "#              'demand_w7': np.uint32 , 'demand_w8': np.uint32,\n",
    "#              'demand_w9': np.uint32, 'demand_mean': np.uint32,\n",
    "#              'demand_log_transform_mean': np.uint32,\n",
    "#              'demand_mean_last2weeks': np.uint32,\n",
    "#              'demand_mean_last3weeks': np.uint32,\n",
    "#              'demand_mean_last4weeks': np.uint32,\n",
    "#              'demand_log_mean_last4weeks': np.uint32,\n",
    "#              'demand_log_mean_last5weeks': np.uint32,\n",
    "#              'demand_log_mean_last6weeks': np.uint32}\n",
    "\n",
    "    df = pd.read_csv('../input/'+name,\n",
    "#                      usecols=list(types.keys()),\n",
    "                     dtype=types, index_col='Unnamed: 0')\n",
    "df.head()"
   ]
  },
  {
   "cell_type": "markdown",
   "metadata": {},
   "source": [
    "Getting client means to use for new product predictions and overall mean for new clients. Should do this before inserting values for NaN."
   ]
  },
  {
   "cell_type": "code",
   "execution_count": 6,
   "metadata": {
    "collapsed": false
   },
   "outputs": [
    {
     "name": "stdout",
     "output_type": "stream",
     "text": [
      "Wall time: 2.88 s\n"
     ]
    }
   ],
   "source": [
    "%%time\n",
    "# dict of client means combining all products and all weeks\n",
    "dict_client_mean = df[['Cliente_ID', 'demand_log_transform_mean']].\\\n",
    "                    groupby(['Cliente_ID']).mean().\\\n",
    "                    apply(lambda x: np.round(x)).\\\n",
    "                    to_dict()['demand_log_transform_mean']"
   ]
  },
  {
   "cell_type": "code",
   "execution_count": 7,
   "metadata": {
    "collapsed": false
   },
   "outputs": [
    {
     "name": "stdout",
     "output_type": "stream",
     "text": [
      "Wall time: 1.13 s\n"
     ]
    }
   ],
   "source": [
    "%%time\n",
    "# dict of product means combining all clients and all weeks\n",
    "dict_product_mean = df[['Producto_ID', 'demand_log_transform_mean']].\\\n",
    "                    groupby(['Producto_ID']).mean().\\\n",
    "                    apply(lambda x: np.round(x)).\\\n",
    "                    to_dict()['demand_log_transform_mean']"
   ]
  },
  {
   "cell_type": "code",
   "execution_count": 8,
   "metadata": {
    "collapsed": false
   },
   "outputs": [
    {
     "name": "stdout",
     "output_type": "stream",
     "text": [
      "5.34379471363\n",
      "47.7177777778\n"
     ]
    }
   ],
   "source": [
    "print(np.mean(list(dict_client_mean.values())))\n",
    "print(np.mean(list(dict_product_mean.values())))"
   ]
  },
  {
   "cell_type": "code",
   "execution_count": 9,
   "metadata": {
    "collapsed": false
   },
   "outputs": [
    {
     "data": {
      "text/plain": [
       "5"
      ]
     },
     "execution_count": 9,
     "metadata": {},
     "output_type": "execute_result"
    }
   ],
   "source": [
    "overall_mean = int(np.round(np.mean(list(dict_client_mean.values()))))\n",
    "overall_mean"
   ]
  },
  {
   "cell_type": "code",
   "execution_count": 10,
   "metadata": {
    "collapsed": true
   },
   "outputs": [],
   "source": [
    "for key in dict_client_mean.keys():\n",
    "    dict_client_mean[key] = int(dict_client_mean[key])\n",
    "    \n",
    "for key in dict_product_mean.keys():\n",
    "    dict_product_mean[key] = int(dict_product_mean[key])"
   ]
  },
  {
   "cell_type": "code",
   "execution_count": 11,
   "metadata": {
    "collapsed": false
   },
   "outputs": [
    {
     "data": {
      "text/plain": [
       "880604"
      ]
     },
     "execution_count": 11,
     "metadata": {},
     "output_type": "execute_result"
    }
   ],
   "source": [
    "len(dict_client_mean)"
   ]
  },
  {
   "cell_type": "code",
   "execution_count": 12,
   "metadata": {
    "collapsed": true
   },
   "outputs": [],
   "source": [
    "# Fill NaN entries with average for each product\n",
    "# across all weeks (demand_mean column)\n",
    "for i in range(4,11):\n",
    "    df.iloc[:, i].fillna(df.demand_log_transform_mean, inplace=True)"
   ]
  },
  {
   "cell_type": "code",
   "execution_count": 13,
   "metadata": {
    "collapsed": false
   },
   "outputs": [
    {
     "data": {
      "text/html": [
       "<div>\n",
       "<table border=\"1\" class=\"dataframe\">\n",
       "  <thead>\n",
       "    <tr style=\"text-align: right;\">\n",
       "      <th></th>\n",
       "      <th>Agencia_ID</th>\n",
       "      <th>Ruta_SAK</th>\n",
       "      <th>Cliente_ID</th>\n",
       "      <th>Producto_ID</th>\n",
       "      <th>demand_w3</th>\n",
       "      <th>demand_w4</th>\n",
       "      <th>demand_w5</th>\n",
       "      <th>demand_w6</th>\n",
       "      <th>demand_w7</th>\n",
       "      <th>demand_w8</th>\n",
       "      <th>demand_w9</th>\n",
       "      <th>demand_mean</th>\n",
       "      <th>demand_log_transform_mean</th>\n",
       "      <th>demand_mean_last2weeks</th>\n",
       "      <th>demand_mean_last3weeks</th>\n",
       "      <th>demand_mean_last4weeks</th>\n",
       "      <th>demand_log_mean_last4weeks</th>\n",
       "      <th>demand_log_mean_last5weeks</th>\n",
       "      <th>demand_log_mean_last6weeks</th>\n",
       "    </tr>\n",
       "  </thead>\n",
       "  <tbody>\n",
       "    <tr>\n",
       "      <th>0</th>\n",
       "      <td>1110</td>\n",
       "      <td>3301</td>\n",
       "      <td>15766</td>\n",
       "      <td>1211</td>\n",
       "      <td>3.0</td>\n",
       "      <td>4.0</td>\n",
       "      <td>5.0</td>\n",
       "      <td>3.0</td>\n",
       "      <td>3.0</td>\n",
       "      <td>4.0</td>\n",
       "      <td>1.0</td>\n",
       "      <td>3.0</td>\n",
       "      <td>3.0</td>\n",
       "      <td>2</td>\n",
       "      <td>3</td>\n",
       "      <td>4</td>\n",
       "      <td>3</td>\n",
       "      <td>3</td>\n",
       "      <td>3</td>\n",
       "    </tr>\n",
       "    <tr>\n",
       "      <th>1</th>\n",
       "      <td>1110</td>\n",
       "      <td>3301</td>\n",
       "      <td>15766</td>\n",
       "      <td>1216</td>\n",
       "      <td>4.0</td>\n",
       "      <td>2.0</td>\n",
       "      <td>3.0</td>\n",
       "      <td>1.0</td>\n",
       "      <td>2.0</td>\n",
       "      <td>5.0</td>\n",
       "      <td>3.0</td>\n",
       "      <td>3.0</td>\n",
       "      <td>3.0</td>\n",
       "      <td>4</td>\n",
       "      <td>3</td>\n",
       "      <td>3</td>\n",
       "      <td>2</td>\n",
       "      <td>2</td>\n",
       "      <td>3</td>\n",
       "    </tr>\n",
       "    <tr>\n",
       "      <th>2</th>\n",
       "      <td>1110</td>\n",
       "      <td>3301</td>\n",
       "      <td>15766</td>\n",
       "      <td>1238</td>\n",
       "      <td>4.0</td>\n",
       "      <td>3.0</td>\n",
       "      <td>1.0</td>\n",
       "      <td>2.0</td>\n",
       "      <td>2.0</td>\n",
       "      <td>3.0</td>\n",
       "      <td>2.0</td>\n",
       "      <td>2.0</td>\n",
       "      <td>2.0</td>\n",
       "      <td>2</td>\n",
       "      <td>2</td>\n",
       "      <td>2</td>\n",
       "      <td>2</td>\n",
       "      <td>2</td>\n",
       "      <td>2</td>\n",
       "    </tr>\n",
       "    <tr>\n",
       "      <th>3</th>\n",
       "      <td>1110</td>\n",
       "      <td>3301</td>\n",
       "      <td>15766</td>\n",
       "      <td>1240</td>\n",
       "      <td>4.0</td>\n",
       "      <td>7.0</td>\n",
       "      <td>4.0</td>\n",
       "      <td>4.0</td>\n",
       "      <td>8.0</td>\n",
       "      <td>2.0</td>\n",
       "      <td>2.0</td>\n",
       "      <td>5.0</td>\n",
       "      <td>4.0</td>\n",
       "      <td>2</td>\n",
       "      <td>4</td>\n",
       "      <td>5</td>\n",
       "      <td>4</td>\n",
       "      <td>4</td>\n",
       "      <td>4</td>\n",
       "    </tr>\n",
       "    <tr>\n",
       "      <th>4</th>\n",
       "      <td>1110</td>\n",
       "      <td>3301</td>\n",
       "      <td>15766</td>\n",
       "      <td>1242</td>\n",
       "      <td>3.0</td>\n",
       "      <td>3.0</td>\n",
       "      <td>2.0</td>\n",
       "      <td>3.0</td>\n",
       "      <td>2.0</td>\n",
       "      <td>1.0</td>\n",
       "      <td>1.0</td>\n",
       "      <td>2.0</td>\n",
       "      <td>2.0</td>\n",
       "      <td>1</td>\n",
       "      <td>1</td>\n",
       "      <td>2</td>\n",
       "      <td>2</td>\n",
       "      <td>2</td>\n",
       "      <td>2</td>\n",
       "    </tr>\n",
       "  </tbody>\n",
       "</table>\n",
       "</div>"
      ],
      "text/plain": [
       "   Agencia_ID  Ruta_SAK  Cliente_ID  Producto_ID  demand_w3  demand_w4  \\\n",
       "0        1110      3301       15766         1211        3.0        4.0   \n",
       "1        1110      3301       15766         1216        4.0        2.0   \n",
       "2        1110      3301       15766         1238        4.0        3.0   \n",
       "3        1110      3301       15766         1240        4.0        7.0   \n",
       "4        1110      3301       15766         1242        3.0        3.0   \n",
       "\n",
       "   demand_w5  demand_w6  demand_w7  demand_w8  demand_w9  demand_mean  \\\n",
       "0        5.0        3.0        3.0        4.0        1.0          3.0   \n",
       "1        3.0        1.0        2.0        5.0        3.0          3.0   \n",
       "2        1.0        2.0        2.0        3.0        2.0          2.0   \n",
       "3        4.0        4.0        8.0        2.0        2.0          5.0   \n",
       "4        2.0        3.0        2.0        1.0        1.0          2.0   \n",
       "\n",
       "   demand_log_transform_mean  demand_mean_last2weeks  demand_mean_last3weeks  \\\n",
       "0                        3.0                       2                       3   \n",
       "1                        3.0                       4                       3   \n",
       "2                        2.0                       2                       2   \n",
       "3                        4.0                       2                       4   \n",
       "4                        2.0                       1                       1   \n",
       "\n",
       "   demand_mean_last4weeks  demand_log_mean_last4weeks  \\\n",
       "0                       4                           3   \n",
       "1                       3                           2   \n",
       "2                       2                           2   \n",
       "3                       5                           4   \n",
       "4                       2                           2   \n",
       "\n",
       "   demand_log_mean_last5weeks  demand_log_mean_last6weeks  \n",
       "0                           3                           3  \n",
       "1                           2                           3  \n",
       "2                           2                           2  \n",
       "3                           4                           4  \n",
       "4                           2                           2  "
      ]
     },
     "execution_count": 13,
     "metadata": {},
     "output_type": "execute_result"
    }
   ],
   "source": [
    "df.head()"
   ]
  },
  {
   "cell_type": "code",
   "execution_count": 14,
   "metadata": {
    "collapsed": true
   },
   "outputs": [],
   "source": [
    "# Save the results of the above calculations\n",
    "name = 'train_df_means_NaN_filled.csv'\n",
    "df.to_csv('../input/'+name)"
   ]
  },
  {
   "cell_type": "code",
   "execution_count": 21,
   "metadata": {
    "collapsed": false
   },
   "outputs": [],
   "source": [
    "tmp_dict = {str(k): v for k, v in dict_client_mean.items()}\n",
    "name = 'dict_client_mean.json'\n",
    "with open('../input/'+name, 'w') as f:\n",
    "    json.dump(tmp_dict, f)\n",
    "\n",
    "tmp_dict = {str(k): v for k, v in dict_product_mean.items()}\n",
    "name = 'dict_product_mean.json'\n",
    "with open('../input/'+name, 'w') as f:\n",
    "    json.dump(tmp_dict, f)\n",
    "    \n",
    "tmp_dict = {}"
   ]
  },
  {
   "cell_type": "markdown",
   "metadata": {},
   "source": [
    "### Start here if you don't need to load NaNs (replaced by means)"
   ]
  },
  {
   "cell_type": "code",
   "execution_count": 2,
   "metadata": {
    "collapsed": false
   },
   "outputs": [
    {
     "data": {
      "text/html": [
       "<div>\n",
       "<table border=\"1\" class=\"dataframe\">\n",
       "  <thead>\n",
       "    <tr style=\"text-align: right;\">\n",
       "      <th></th>\n",
       "      <th>Agencia_ID</th>\n",
       "      <th>Ruta_SAK</th>\n",
       "      <th>Cliente_ID</th>\n",
       "      <th>Producto_ID</th>\n",
       "      <th>demand_w5</th>\n",
       "      <th>demand_w6</th>\n",
       "      <th>demand_w7</th>\n",
       "      <th>demand_w8</th>\n",
       "      <th>demand_w9</th>\n",
       "      <th>demand_log_mean_last6weeks</th>\n",
       "      <th>NombreCliente_id</th>\n",
       "    </tr>\n",
       "  </thead>\n",
       "  <tbody>\n",
       "    <tr>\n",
       "      <th>0</th>\n",
       "      <td>1110</td>\n",
       "      <td>3301</td>\n",
       "      <td>15766</td>\n",
       "      <td>1211</td>\n",
       "      <td>5</td>\n",
       "      <td>3</td>\n",
       "      <td>3</td>\n",
       "      <td>4</td>\n",
       "      <td>1</td>\n",
       "      <td>3</td>\n",
       "      <td>11</td>\n",
       "    </tr>\n",
       "    <tr>\n",
       "      <th>1</th>\n",
       "      <td>1110</td>\n",
       "      <td>3301</td>\n",
       "      <td>15766</td>\n",
       "      <td>1216</td>\n",
       "      <td>3</td>\n",
       "      <td>1</td>\n",
       "      <td>2</td>\n",
       "      <td>5</td>\n",
       "      <td>3</td>\n",
       "      <td>3</td>\n",
       "      <td>11</td>\n",
       "    </tr>\n",
       "    <tr>\n",
       "      <th>2</th>\n",
       "      <td>1110</td>\n",
       "      <td>3301</td>\n",
       "      <td>15766</td>\n",
       "      <td>1238</td>\n",
       "      <td>1</td>\n",
       "      <td>2</td>\n",
       "      <td>2</td>\n",
       "      <td>3</td>\n",
       "      <td>2</td>\n",
       "      <td>2</td>\n",
       "      <td>11</td>\n",
       "    </tr>\n",
       "    <tr>\n",
       "      <th>3</th>\n",
       "      <td>1110</td>\n",
       "      <td>3301</td>\n",
       "      <td>15766</td>\n",
       "      <td>1240</td>\n",
       "      <td>4</td>\n",
       "      <td>4</td>\n",
       "      <td>8</td>\n",
       "      <td>2</td>\n",
       "      <td>2</td>\n",
       "      <td>4</td>\n",
       "      <td>11</td>\n",
       "    </tr>\n",
       "    <tr>\n",
       "      <th>4</th>\n",
       "      <td>1110</td>\n",
       "      <td>3301</td>\n",
       "      <td>15766</td>\n",
       "      <td>1242</td>\n",
       "      <td>2</td>\n",
       "      <td>3</td>\n",
       "      <td>2</td>\n",
       "      <td>1</td>\n",
       "      <td>1</td>\n",
       "      <td>2</td>\n",
       "      <td>11</td>\n",
       "    </tr>\n",
       "  </tbody>\n",
       "</table>\n",
       "</div>"
      ],
      "text/plain": [
       "   Agencia_ID  Ruta_SAK  Cliente_ID  Producto_ID  demand_w5  demand_w6  \\\n",
       "0        1110      3301       15766         1211          5          3   \n",
       "1        1110      3301       15766         1216          3          1   \n",
       "2        1110      3301       15766         1238          1          2   \n",
       "3        1110      3301       15766         1240          4          4   \n",
       "4        1110      3301       15766         1242          2          3   \n",
       "\n",
       "   demand_w7  demand_w8  demand_w9  demand_log_mean_last6weeks  \\\n",
       "0          3          4          1                           3   \n",
       "1          2          5          3                           3   \n",
       "2          2          3          2                           2   \n",
       "3          8          2          2                           4   \n",
       "4          2          1          1                           2   \n",
       "\n",
       "   NombreCliente_id  \n",
       "0                11  \n",
       "1                11  \n",
       "2                11  \n",
       "3                11  \n",
       "4                11  "
      ]
     },
     "execution_count": 2,
     "metadata": {},
     "output_type": "execute_result"
    }
   ],
   "source": [
    "# Can skip the above computations and load processed version of dataframe\n",
    "if True:\n",
    "    \n",
    "    name = 'train_with_cnames_id_NaN_filled.csv'\n",
    "    \n",
    "    types = {'Agencia_ID': np.uint16, 'Ruta_SAK': np.uint16,\n",
    "             'NombreCliente_id': np.uint8,\n",
    "             'Cliente_ID': np.uint32, 'Producto_ID': np.uint16,\n",
    "             # 'demand_w3': np.uint32 , 'demand_w4': np.uint32,\n",
    "             'demand_w5': np.uint32, 'demand_w6': np.uint32,\n",
    "             'demand_w7': np.uint32 , 'demand_w8': np.uint32,\n",
    "             'demand_w9': np.uint32, #'demand_mean': np.uint32,\n",
    "#              'demand_log_transform_mean': np.uint32,\n",
    "#              'demand_mean_last2weeks': np.uint32,\n",
    "#              'demand_mean_last3weeks': np.uint32,\n",
    "#              'demand_mean_last4weeks': np.uint32,\n",
    "#              'demand_log_mean_last4weeks': np.uint32,\n",
    "#              'demand_log_mean_last5weeks': np.uint32,\n",
    "             'demand_log_mean_last6weeks': np.uint32}\n",
    "\n",
    "    df = pd.read_csv('../input/'+name,\n",
    "                      usecols=list(types.keys()),\n",
    "                     dtype=types)#, index_col='Unnamed: 0')\n",
    "df.head()"
   ]
  },
  {
   "cell_type": "code",
   "execution_count": 3,
   "metadata": {
    "collapsed": true
   },
   "outputs": [],
   "source": [
    "name = 'dict_client_mean.json'\n",
    "with open('../input/'+name, 'r') as f:\n",
    "    dict_client_mean = json.load(f)\n",
    "\n",
    "name = 'dict_product_mean.json'\n",
    "with open('../input/'+name, 'r') as f:\n",
    "    dict_product_mean = json.load(f)\n",
    "    \n",
    "dict_client_mean = {int(k): v for k, v in dict_client_mean.items()}\n",
    "dict_product_mean = {int(k): v for k, v in dict_product_mean.items()}"
   ]
  },
  {
   "cell_type": "code",
   "execution_count": 4,
   "metadata": {
    "collapsed": true
   },
   "outputs": [],
   "source": [
    "overall_mean = 5"
   ]
  },
  {
   "cell_type": "code",
   "execution_count": null,
   "metadata": {
    "collapsed": true
   },
   "outputs": [],
   "source": []
  },
  {
   "cell_type": "markdown",
   "metadata": {},
   "source": [
    "Get a slice of `df` where NaN rows in week 8 and 9 are removed (for training). _An alternate (better) method would be to keep NaNs in weeks 8 and 9 in `df` and deal with them during the prediction stage._ _This could take quite a lot longer though. In any case I want to avoid scoring my models on filled in (i.e. made up) target variables_ `y_true`."
   ]
  },
  {
   "cell_type": "code",
   "execution_count": 95,
   "metadata": {
    "collapsed": false
   },
   "outputs": [],
   "source": [
    "df_train = df.dropna(subset=['demand_w8', 'demand_w9'])\n",
    "# print(len(df_train)/len(df)*100, '% of rows remaining after drops')"
   ]
  },
  {
   "cell_type": "markdown",
   "metadata": {},
   "source": [
    "Filling in NaN's of `df` and `df_train` slice."
   ]
  },
  {
   "cell_type": "code",
   "execution_count": 12,
   "metadata": {
    "collapsed": false
   },
   "outputs": [
    {
     "name": "stdout",
     "output_type": "stream",
     "text": [
      "Wall time: 5.54 s\n"
     ]
    }
   ],
   "source": [
    "%%time\n",
    "# Fill NaN entries with average for each product\n",
    "# across all weeks (demand_mean column)\n",
    "for i in range(4,11):\n",
    "    df.iloc[:, i].fillna(df.demand_mean, inplace=True)\n",
    "    # df_train.iloc[:, i].fillna(df_train.demand_mean, inplace=True)"
   ]
  },
  {
   "cell_type": "code",
   "execution_count": 13,
   "metadata": {
    "collapsed": false
   },
   "outputs": [
    {
     "name": "stdout",
     "output_type": "stream",
     "text": [
      "Wall time: 1min 41s\n"
     ]
    }
   ],
   "source": [
    "%%time\n",
    "# Convert to integer and reduce memory cost\n",
    "df.iloc[:, 4:13] = df.iloc[:, 4:13].astype(np.uint32)\n",
    "# df_train.iloc[:, 4:13] = df_train.iloc[:, 4:13].astype(np.uint32)"
   ]
  },
  {
   "cell_type": "code",
   "execution_count": 14,
   "metadata": {
    "collapsed": false
   },
   "outputs": [],
   "source": [
    "# df_train.head()"
   ]
  },
  {
   "cell_type": "code",
   "execution_count": 15,
   "metadata": {
    "collapsed": false
   },
   "outputs": [
    {
     "data": {
      "text/html": [
       "<div>\n",
       "<table border=\"1\" class=\"dataframe\">\n",
       "  <thead>\n",
       "    <tr style=\"text-align: right;\">\n",
       "      <th></th>\n",
       "      <th>Agencia_ID</th>\n",
       "      <th>Ruta_SAK</th>\n",
       "      <th>Cliente_ID</th>\n",
       "      <th>Producto_ID</th>\n",
       "      <th>demand_w3</th>\n",
       "      <th>demand_w4</th>\n",
       "      <th>demand_w5</th>\n",
       "      <th>demand_w6</th>\n",
       "      <th>demand_w7</th>\n",
       "      <th>demand_w8</th>\n",
       "      <th>demand_w9</th>\n",
       "      <th>demand_mean</th>\n",
       "      <th>demand_log_transform_mean</th>\n",
       "    </tr>\n",
       "  </thead>\n",
       "  <tbody>\n",
       "    <tr>\n",
       "      <th>0</th>\n",
       "      <td>1110</td>\n",
       "      <td>3301</td>\n",
       "      <td>15766</td>\n",
       "      <td>1211</td>\n",
       "      <td>3</td>\n",
       "      <td>4</td>\n",
       "      <td>5</td>\n",
       "      <td>3</td>\n",
       "      <td>3</td>\n",
       "      <td>4</td>\n",
       "      <td>1</td>\n",
       "      <td>3</td>\n",
       "      <td>3</td>\n",
       "    </tr>\n",
       "    <tr>\n",
       "      <th>1</th>\n",
       "      <td>1110</td>\n",
       "      <td>3301</td>\n",
       "      <td>15766</td>\n",
       "      <td>1216</td>\n",
       "      <td>4</td>\n",
       "      <td>2</td>\n",
       "      <td>3</td>\n",
       "      <td>1</td>\n",
       "      <td>2</td>\n",
       "      <td>5</td>\n",
       "      <td>3</td>\n",
       "      <td>3</td>\n",
       "      <td>3</td>\n",
       "    </tr>\n",
       "    <tr>\n",
       "      <th>2</th>\n",
       "      <td>1110</td>\n",
       "      <td>3301</td>\n",
       "      <td>15766</td>\n",
       "      <td>1238</td>\n",
       "      <td>4</td>\n",
       "      <td>3</td>\n",
       "      <td>1</td>\n",
       "      <td>2</td>\n",
       "      <td>2</td>\n",
       "      <td>3</td>\n",
       "      <td>2</td>\n",
       "      <td>2</td>\n",
       "      <td>2</td>\n",
       "    </tr>\n",
       "    <tr>\n",
       "      <th>3</th>\n",
       "      <td>1110</td>\n",
       "      <td>3301</td>\n",
       "      <td>15766</td>\n",
       "      <td>1240</td>\n",
       "      <td>4</td>\n",
       "      <td>7</td>\n",
       "      <td>5</td>\n",
       "      <td>5</td>\n",
       "      <td>8</td>\n",
       "      <td>2</td>\n",
       "      <td>2</td>\n",
       "      <td>5</td>\n",
       "      <td>4</td>\n",
       "    </tr>\n",
       "    <tr>\n",
       "      <th>4</th>\n",
       "      <td>1110</td>\n",
       "      <td>3301</td>\n",
       "      <td>15766</td>\n",
       "      <td>1242</td>\n",
       "      <td>3</td>\n",
       "      <td>3</td>\n",
       "      <td>2</td>\n",
       "      <td>3</td>\n",
       "      <td>2</td>\n",
       "      <td>1</td>\n",
       "      <td>1</td>\n",
       "      <td>2</td>\n",
       "      <td>2</td>\n",
       "    </tr>\n",
       "  </tbody>\n",
       "</table>\n",
       "</div>"
      ],
      "text/plain": [
       "   Agencia_ID  Ruta_SAK  Cliente_ID  Producto_ID  demand_w3  demand_w4  \\\n",
       "0        1110      3301       15766         1211          3          4   \n",
       "1        1110      3301       15766         1216          4          2   \n",
       "2        1110      3301       15766         1238          4          3   \n",
       "3        1110      3301       15766         1240          4          7   \n",
       "4        1110      3301       15766         1242          3          3   \n",
       "\n",
       "   demand_w5  demand_w6  demand_w7  demand_w8  demand_w9  demand_mean  \\\n",
       "0          5          3          3          4          1            3   \n",
       "1          3          1          2          5          3            3   \n",
       "2          1          2          2          3          2            2   \n",
       "3          5          5          8          2          2            5   \n",
       "4          2          3          2          1          1            2   \n",
       "\n",
       "   demand_log_transform_mean  \n",
       "0                          3  \n",
       "1                          3  \n",
       "2                          2  \n",
       "3                          4  \n",
       "4                          2  "
      ]
     },
     "execution_count": 15,
     "metadata": {},
     "output_type": "execute_result"
    }
   ],
   "source": [
    "df.head()"
   ]
  },
  {
   "cell_type": "markdown",
   "metadata": {},
   "source": [
    "### Make predictions on weeks 8 and 9 using data from weeks 3-7\n",
    "I took a slice (not a copy) of the entire dataframe `df` called `df_train` where the NaN rows from weeks 8 and 9 are removed. This will be used for evaluating model performance. For submissions, we'll use the entire data with NaN's filled for weeks 8 and 9."
   ]
  },
  {
   "cell_type": "code",
   "execution_count": 187,
   "metadata": {
    "collapsed": false
   },
   "outputs": [],
   "source": [
    "features_i = range(4,9)\n",
    "predict_i = range(9,11)"
   ]
  },
  {
   "cell_type": "markdown",
   "metadata": {},
   "source": [
    "Predicting using __demand mean__ for given product and store."
   ]
  },
  {
   "cell_type": "code",
   "execution_count": 188,
   "metadata": {
    "collapsed": false
   },
   "outputs": [],
   "source": [
    "p_w8_w9 = df_train.demand_mean.values"
   ]
  },
  {
   "cell_type": "code",
   "execution_count": 189,
   "metadata": {
    "collapsed": false
   },
   "outputs": [],
   "source": [
    "y_pred = np.vstack((p_w8_w9, p_w8_w9)).T\n",
    "y_true = df_train.iloc[:,predict_i].values"
   ]
  },
  {
   "cell_type": "code",
   "execution_count": 190,
   "metadata": {
    "collapsed": true
   },
   "outputs": [],
   "source": [
    "def score_predictions(y_pred, y_true):\n",
    "    ''' Input numpy arrays for the predictions and\n",
    "    true labels that are the same size. Return the\n",
    "    Root Mean Square Least Error RMSLE as defined\n",
    "    by Kaggle: https://www.kaggle.com/c/grupo-bimbo-inventory-demand/details/evaluation.\n",
    "    '''\n",
    "    \n",
    "    epsilon = 0\n",
    "    for p, a in zip(y_pred.flatten(), y_true.flatten()):\n",
    "        epsilon += (np.log(p + 1) - np.log(a + 1))**2\n",
    "    \n",
    "    return np.sqrt(epsilon/len(y_pred))"
   ]
  },
  {
   "cell_type": "code",
   "execution_count": 191,
   "metadata": {
    "collapsed": false
   },
   "outputs": [
    {
     "name": "stdout",
     "output_type": "stream",
     "text": [
      "RMSLE score = 0.5307\n"
     ]
    }
   ],
   "source": [
    "score = score_predictions(y_pred, y_true)\n",
    "print('RMSLE score = {:.4f}'.format(score))"
   ]
  },
  {
   "cell_type": "markdown",
   "metadata": {},
   "source": [
    "Predicting using __log-transformed mean of demand__ (this minimizes the RMSLE)."
   ]
  },
  {
   "cell_type": "code",
   "execution_count": 192,
   "metadata": {
    "collapsed": false
   },
   "outputs": [
    {
     "name": "stdout",
     "output_type": "stream",
     "text": [
      "RMSLE score = 0.5098\n",
      "Wall time: 1min 20s\n"
     ]
    }
   ],
   "source": [
    "%%time\n",
    "p_w8_w9 = df_train.demand_log_transform_mean.values\n",
    "\n",
    "y_pred = np.vstack((p_w8_w9, p_w8_w9)).T\n",
    "y_true = df_train.iloc[:,predict_i].values\n",
    "\n",
    "score = score_predictions(y_pred, y_true)\n",
    "print('RMSLE score = {:.4f}'.format(score))"
   ]
  },
  {
   "cell_type": "code",
   "execution_count": null,
   "metadata": {
    "collapsed": true
   },
   "outputs": [],
   "source": []
  },
  {
   "cell_type": "code",
   "execution_count": null,
   "metadata": {
    "collapsed": true
   },
   "outputs": [],
   "source": []
  },
  {
   "cell_type": "code",
   "execution_count": null,
   "metadata": {
    "collapsed": true
   },
   "outputs": [],
   "source": []
  },
  {
   "cell_type": "code",
   "execution_count": null,
   "metadata": {
    "collapsed": true
   },
   "outputs": [],
   "source": []
  },
  {
   "cell_type": "markdown",
   "metadata": {},
   "source": [
    "### Making predictions for test set"
   ]
  },
  {
   "cell_type": "code",
   "execution_count": 10,
   "metadata": {
    "collapsed": false
   },
   "outputs": [
    {
     "data": {
      "text/html": [
       "<div>\n",
       "<table border=\"1\" class=\"dataframe\">\n",
       "  <thead>\n",
       "    <tr style=\"text-align: right;\">\n",
       "      <th></th>\n",
       "      <th>Semana</th>\n",
       "      <th>Cliente_ID</th>\n",
       "      <th>Producto_ID</th>\n",
       "    </tr>\n",
       "  </thead>\n",
       "  <tbody>\n",
       "    <tr>\n",
       "      <th>6999246</th>\n",
       "      <td>11</td>\n",
       "      <td>4379638</td>\n",
       "      <td>1232</td>\n",
       "    </tr>\n",
       "    <tr>\n",
       "      <th>6999247</th>\n",
       "      <td>10</td>\n",
       "      <td>970421</td>\n",
       "      <td>43069</td>\n",
       "    </tr>\n",
       "    <tr>\n",
       "      <th>6999248</th>\n",
       "      <td>11</td>\n",
       "      <td>192749</td>\n",
       "      <td>30532</td>\n",
       "    </tr>\n",
       "    <tr>\n",
       "      <th>6999249</th>\n",
       "      <td>11</td>\n",
       "      <td>286071</td>\n",
       "      <td>35107</td>\n",
       "    </tr>\n",
       "    <tr>\n",
       "      <th>6999250</th>\n",
       "      <td>11</td>\n",
       "      <td>978760</td>\n",
       "      <td>1232</td>\n",
       "    </tr>\n",
       "  </tbody>\n",
       "</table>\n",
       "</div>"
      ],
      "text/plain": [
       "         Semana  Cliente_ID  Producto_ID\n",
       "6999246      11     4379638         1232\n",
       "6999247      10      970421        43069\n",
       "6999248      11      192749        30532\n",
       "6999249      11      286071        35107\n",
       "6999250      11      978760         1232"
      ]
     },
     "execution_count": 10,
     "metadata": {},
     "output_type": "execute_result"
    }
   ],
   "source": [
    "types = {'Semana': np.uint8, #'Agencia_ID': np.uint16, 'Ruta_SAK': np.uint16,\n",
    "         'Cliente_ID': np.uint32, 'Producto_ID':np.uint16}\n",
    "\n",
    "df_test = pd.read_csv('../input/test.csv',\n",
    "                      usecols=list(types.keys()),\n",
    "                      dtype=types)\n",
    "df_test.tail()"
   ]
  },
  {
   "cell_type": "code",
   "execution_count": 11,
   "metadata": {
    "collapsed": false
   },
   "outputs": [
    {
     "data": {
      "text/plain": [
       "6.999251"
      ]
     },
     "execution_count": 11,
     "metadata": {},
     "output_type": "execute_result"
    }
   ],
   "source": [
    "len(df_test)/10**6"
   ]
  },
  {
   "cell_type": "markdown",
   "metadata": {},
   "source": [
    "Making a couple changes to `dict_client_mean` and `dict_product_mean` dictionaries before predictions."
   ]
  },
  {
   "cell_type": "code",
   "execution_count": 12,
   "metadata": {
    "collapsed": false
   },
   "outputs": [],
   "source": [
    "# # Cap demand at max value of 30 as per previous exporation\n",
    "# # which revealed 90% of demand is within this limit\n",
    "\n",
    "# for k, v in dict_client_mean.items():\n",
    "#     dict_client_mean[k] = np.min((v, 30))\n",
    "    \n",
    "# for k, v in dict_product_mean.items():\n",
    "#     dict_product_mean[k] = np.min((v, 100))"
   ]
  },
  {
   "cell_type": "code",
   "execution_count": 47,
   "metadata": {
    "collapsed": false
   },
   "outputs": [
    {
     "name": "stdout",
     "output_type": "stream",
     "text": [
      "Found 9663 new clients in test set\n"
     ]
    }
   ],
   "source": [
    "# Add overall average values for missing clients\n",
    "count = 0\n",
    "for k in np.unique(df_test.Cliente_ID.values):\n",
    "    if k not in dict_client_mean.keys():\n",
    "        count += 1\n",
    "        dict_client_mean[k] = overall_mean\n",
    "print('Found %d new clients in test set' % count)"
   ]
  },
  {
   "cell_type": "code",
   "execution_count": 48,
   "metadata": {
    "collapsed": false
   },
   "outputs": [
    {
     "name": "stdout",
     "output_type": "stream",
     "text": [
      "Found 34 new products in test set\n"
     ]
    }
   ],
   "source": [
    "# Add overall average values for missing products\n",
    "count = 0\n",
    "for k in np.unique(df_test.Producto_ID.values):\n",
    "    if k not in dict_product_mean.keys():\n",
    "        count += 1\n",
    "        dict_product_mean[k] = overall_mean\n",
    "print('Found %d new products in test set' % count)"
   ]
  },
  {
   "cell_type": "code",
   "execution_count": 49,
   "metadata": {
    "collapsed": true
   },
   "outputs": [],
   "source": [
    "tmp_dict = {str(k): v for k, v in dict_client_mean.items()}\n",
    "name = 'dict_client_mean.json'\n",
    "with open('../input/'+name, 'w') as f:\n",
    "    json.dump(tmp_dict, f)\n",
    "\n",
    "tmp_dict = {str(k): v for k, v in dict_product_mean.items()}\n",
    "name = 'dict_product_mean.json'\n",
    "with open('../input/'+name, 'w') as f:\n",
    "    json.dump(tmp_dict, f)\n",
    "    \n",
    "tmp_dict = {}"
   ]
  },
  {
   "cell_type": "markdown",
   "metadata": {},
   "source": [
    "Creating a function to apply to `df_test` to get mean predictions from `df`."
   ]
  },
  {
   "cell_type": "code",
   "execution_count": 48,
   "metadata": {
    "collapsed": false
   },
   "outputs": [],
   "source": [
    "def log_transform_mean_lookup(lookup_df, x, f, i):\n",
    "    c_id, p_id = x\n",
    "    try:\n",
    "        val = lookup_df[(lookup_df.Cliente_ID == c_id)\n",
    "                        &(lookup_df.Producto_ID == p_id)]\\\n",
    "             .demand_log_transform_mean[0]\n",
    "    except:\n",
    "        val = dict_client_mean[c_id]\n",
    "        f.write(str(i)+','+str(int(val))+'\\n')\n",
    "    \n",
    "    return int(val)"
   ]
  },
  {
   "cell_type": "code",
   "execution_count": 49,
   "metadata": {
    "collapsed": false
   },
   "outputs": [],
   "source": [
    "def write_submission(lookup_df, test_df, lookup_function, file, file2):\n",
    "    f = open(file, 'w')\n",
    "    f2 = open(file2, 'w')\n",
    "    f.write('id,Demanda_uni_equil\\n')\n",
    "    for i, (c_id, p_id) in tqdm(enumerate(zip(test_df.Cliente_ID,\n",
    "                                              test_df.Producto_ID))):\n",
    "        val = lookup_function(lookup_df,\n",
    "                              (c_id, p_id), f2, i)\n",
    "        f.write(str(i)+','+str(val)+'\\n')\n",
    "    f.close()\n",
    "    f2.close()"
   ]
  },
  {
   "cell_type": "code",
   "execution_count": 50,
   "metadata": {
    "collapsed": false
   },
   "outputs": [
    {
     "name": "stderr",
     "output_type": "stream",
     "text": [
      "10it [00:01,  6.88it/s]"
     ]
    },
    {
     "name": "stdout",
     "output_type": "stream",
     "text": [
      " \n",
      "*** Profile stats marshalled to file 'C:\\\\Users\\\\agale\\\\AppData\\\\Local\\\\Temp\\\\tmpwqbgn6vx'. \n"
     ]
    },
    {
     "name": "stderr",
     "output_type": "stream",
     "text": [
      "\n"
     ]
    }
   ],
   "source": [
    "%%snakeviz\n",
    "write_submission(df[['Cliente_ID', 'Producto_ID',\n",
    "                     'demand_log_transform_mean']],\n",
    "                 df_test[:10], log_transform_mean_lookup,\n",
    "                 'submission.csv', 'new_product_predictions.csv')"
   ]
  },
  {
   "cell_type": "markdown",
   "metadata": {},
   "source": [
    "This is great and all, but it will take ~11 days to predict. The function below might be faster but who knows. I want to boost it up to about 100 it/s, which should take about 24 hours (i.e. a reasonable time) to predict."
   ]
  },
  {
   "cell_type": "code",
   "execution_count": null,
   "metadata": {
    "collapsed": false
   },
   "outputs": [],
   "source": [
    "# %%time\n",
    "# y_pred = df_test[['Cliente_ID', 'Producto_ID']]\\\n",
    "#             .apply(log_transform_mean_lookup, axis=1).values"
   ]
  },
  {
   "cell_type": "markdown",
   "metadata": {},
   "source": [
    "Running the above computation without multithreading uses about 4.8 gigs of memory and 40% of CPU and takes AT LEAST 12 hours (at which point I stopped it)."
   ]
  },
  {
   "cell_type": "markdown",
   "metadata": {},
   "source": [
    "Maybe it's reasonable to assign the __average of all products for each client__."
   ]
  },
  {
   "cell_type": "code",
   "execution_count": 32,
   "metadata": {
    "collapsed": false
   },
   "outputs": [
    {
     "data": {
      "image/png": "[encoded data removed]",
      "text/plain": [
       "<matplotlib.figure.Figure at 0x20d186e7a90>"
      ]
     },
     "metadata": {},
     "output_type": "display_data"
    }
   ],
   "source": [
    "plt.hist(list(dict_client_mean.values()), bins=30);"
   ]
  },
  {
   "cell_type": "code",
   "execution_count": 62,
   "metadata": {
    "collapsed": true
   },
   "outputs": [],
   "source": [
    "def log_transform_mean_lookup_c(c_id):\n",
    "    try:\n",
    "        val = dict_client_mean[c_id]\n",
    "    except:\n",
    "        val = overall_mean\n",
    "    return int(val)\n",
    "\n",
    "def write_submission(df, lookup_function, file):\n",
    "    f = open(file, 'w')\n",
    "    f.write('id,Demanda_uni_equil\\n')\n",
    "    for i, c_id in tqdm(enumerate(df.Cliente_ID.values)):\n",
    "        val = lookup_function(c_id)\n",
    "        f.write(str(i)+','+str(val)+'\\n')\n",
    "    f.close()"
   ]
  },
  {
   "cell_type": "code",
   "execution_count": 59,
   "metadata": {
    "collapsed": false
   },
   "outputs": [
    {
     "name": "stderr",
     "output_type": "stream",
     "text": [
      "6999251it [00:23, 299108.27it/s]\n"
     ]
    }
   ],
   "source": [
    "write_submission(df_test, log_transform_mean_lookup_c,\n",
    "                 '../submissions/submission_1.csv')"
   ]
  },
  {
   "cell_type": "markdown",
   "metadata": {},
   "source": [
    "Alternatively, a simple solution is to assign the __average of each product for all clients__."
   ]
  },
  {
   "cell_type": "code",
   "execution_count": 82,
   "metadata": {
    "collapsed": false
   },
   "outputs": [
    {
     "data": {
      "image/png": "[encoded data removed]",
      "text/plain": [
       "<matplotlib.figure.Figure at 0x20d189ab710>"
      ]
     },
     "metadata": {},
     "output_type": "display_data"
    }
   ],
   "source": [
    "plt.hist(list(dict_product_mean.values()), bins=100);"
   ]
  },
  {
   "cell_type": "code",
   "execution_count": 83,
   "metadata": {
    "collapsed": true
   },
   "outputs": [],
   "source": [
    "def log_transform_mean_lookup_p(p_id):\n",
    "    try:\n",
    "        val = dict_product_mean[p_id]\n",
    "    except:\n",
    "        val = overall_mean\n",
    "    return int(val)\n",
    "\n",
    "def write_submission(df, lookup_function, file):\n",
    "    f = open(file, 'w')\n",
    "    f.write('id,Demanda_uni_equil\\n')\n",
    "    for i, p_id in tqdm(enumerate(df.Producto_ID.values)):\n",
    "        val = lookup_function(p_id)\n",
    "        f.write(str(i)+','+str(val)+'\\n')\n",
    "    f.close()"
   ]
  },
  {
   "cell_type": "code",
   "execution_count": 84,
   "metadata": {
    "collapsed": false
   },
   "outputs": [
    {
     "name": "stderr",
     "output_type": "stream",
     "text": [
      "6999251it [00:19, 361052.11it/s]\n"
     ]
    }
   ],
   "source": [
    "write_submission(df_test, log_transform_mean_lookup_p,\n",
    "                 '../submissions/submission_2.csv')"
   ]
  },
  {
   "cell_type": "markdown",
   "metadata": {},
   "source": [
    "How different are the two models?"
   ]
  },
  {
   "cell_type": "code",
   "execution_count": 85,
   "metadata": {
    "collapsed": true
   },
   "outputs": [],
   "source": [
    "y_client = df_test.Cliente_ID.apply(log_transform_mean_lookup_c)\n",
    "y_product = df_test.Producto_ID.apply(log_transform_mean_lookup_p)"
   ]
  },
  {
   "cell_type": "code",
   "execution_count": 87,
   "metadata": {
    "collapsed": false
   },
   "outputs": [
    {
     "data": {
      "image/png": "[encoded data removed]",
      "text/plain": [
       "<matplotlib.figure.Figure at 0x20c8ad19cc0>"
      ]
     },
     "metadata": {},
     "output_type": "display_data"
    }
   ],
   "source": [
    "plt.hist(y_product-y_client, bins=100);"
   ]
  },
  {
   "cell_type": "markdown",
   "metadata": {},
   "source": [
    "Lets create a model that knows about both. We'll __average the two with equal weights__ and round to the nearest integer."
   ]
  },
  {
   "cell_type": "code",
   "execution_count": 93,
   "metadata": {
    "collapsed": true
   },
   "outputs": [],
   "source": [
    "def mean_lookup_p_c(x):\n",
    "    p_id, c_id = x\n",
    "    val = (dict_product_mean[p_id] + dict_client_mean[c_id])/2\n",
    "    return int(np.round(val))\n",
    "\n",
    "def write_submission(df, lookup_function, file):\n",
    "    f = open(file, 'w')\n",
    "    f.write('id,Demanda_uni_equil\\n')\n",
    "    for i, (p_id, c_id) in tqdm(enumerate(zip(df.Producto_ID.values,\n",
    "                                      df.Cliente_ID.values))):\n",
    "        val = lookup_function((p_id, c_id))\n",
    "        f.write(str(i)+','+str(val)+'\\n')\n",
    "    f.close()"
   ]
  },
  {
   "cell_type": "code",
   "execution_count": 94,
   "metadata": {
    "collapsed": false
   },
   "outputs": [
    {
     "name": "stderr",
     "output_type": "stream",
     "text": [
      "6999251it [00:40, 170820.58it/s]\n"
     ]
    }
   ],
   "source": [
    "write_submission(df_test, mean_lookup_p_c,\n",
    "                 '../submissions/submission_3.csv')"
   ]
  },
  {
   "cell_type": "markdown",
   "metadata": {},
   "source": [
    "__TO DO:__ \n",
    "\n",
    "- reshape train dataframe to look like test dataframe\n",
    "- make scoring function and compare to kaggle scores\n",
    "- use ML algorithm to predict instead"
   ]
  },
  {
   "cell_type": "code",
   "execution_count": null,
   "metadata": {
    "collapsed": true
   },
   "outputs": [],
   "source": [
    "def score_submission(df, lookup_function):\n",
    "#     y_true = df.\n",
    "    \n",
    "#     epsilon = 0\n",
    "#     for p, a in zip(y_pred.flatten(), y_true.flatten()):\n",
    "#         epsilon += (np.log(p + 1) - np.log(a + 1))**2\n",
    "    \n",
    "#     return np.sqrt(epsilon/len(y_pred))"
   ]
  },
  {
   "cell_type": "code",
   "execution_count": null,
   "metadata": {
    "collapsed": true
   },
   "outputs": [],
   "source": []
  },
  {
   "cell_type": "code",
   "execution_count": null,
   "metadata": {
    "collapsed": true
   },
   "outputs": [],
   "source": []
  },
  {
   "cell_type": "markdown",
   "metadata": {},
   "source": [
    "It might be possible to __store the client + product combination in a dictionary__ for quick lookup."
   ]
  },
  {
   "cell_type": "code",
   "execution_count": 15,
   "metadata": {
    "collapsed": true
   },
   "outputs": [],
   "source": [
    "def make_dict(df):\n",
    "    dict_client_product = {str(c)+' '+str(p): int(d) for c, p, d in\n",
    "                           zip(df.Cliente_ID, df.Producto_ID, df.demand_mean)}\n",
    "    return dict_client_product"
   ]
  },
  {
   "cell_type": "code",
   "execution_count": 16,
   "metadata": {
    "collapsed": false
   },
   "outputs": [
    {
     "name": "stdout",
     "output_type": "stream",
     "text": [
      "Wall time: 1min 29s\n"
     ]
    }
   ],
   "source": [
    "%%time\n",
    "dict_client_product_mean = make_dict(df)"
   ]
  },
  {
   "cell_type": "code",
   "execution_count": 17,
   "metadata": {
    "collapsed": false
   },
   "outputs": [
    {
     "data": {
      "image/png": "[encoded data removed]",
      "text/plain": [
       "<matplotlib.figure.Figure at 0x2c173c1be48>"
      ]
     },
     "metadata": {},
     "output_type": "display_data"
    }
   ],
   "source": [
    "plt.hist(sorted(list(dict_client_product_mean.values()))[:-100000], bins=50);"
   ]
  },
  {
   "cell_type": "markdown",
   "metadata": {},
   "source": [
    "Let's cap demand at 30 based on the figure above."
   ]
  },
  {
   "cell_type": "code",
   "execution_count": 18,
   "metadata": {
    "collapsed": false
   },
   "outputs": [],
   "source": [
    "for k, v in dict_client_product_mean.items():\n",
    "    dict_client_product_mean[k] = np.min((v, 30))"
   ]
  },
  {
   "cell_type": "code",
   "execution_count": 19,
   "metadata": {
    "collapsed": false
   },
   "outputs": [
    {
     "data": {
      "image/png": "[encoded data removed]",
      "text/plain": [
       "<matplotlib.figure.Figure at 0x2c195a7ee80>"
      ]
     },
     "metadata": {},
     "output_type": "display_data"
    }
   ],
   "source": [
    "plt.hist(list(dict_client_product_mean.values()), bins=30);"
   ]
  },
  {
   "cell_type": "markdown",
   "metadata": {},
   "source": [
    "Now I can predict using both __client and product combinations__."
   ]
  },
  {
   "cell_type": "code",
   "execution_count": 55,
   "metadata": {
    "collapsed": true
   },
   "outputs": [],
   "source": [
    "def mean_lookup_p_and_c(x):\n",
    "    c_id, p_id = x\n",
    "    try:\n",
    "        val = dict_client_product_mean[str(c_id)+' '+str(p_id)]\n",
    "    except:\n",
    "        val = dict_product_mean[p_id]\n",
    "    return val\n",
    "\n",
    "def write_submission(df, lookup_function, file):\n",
    "    f = open(file, 'w')\n",
    "    f.write('id,Demanda_uni_equil\\n')\n",
    "    for i, (c_id, p_id) in tqdm(enumerate(zip(df.Cliente_ID.values,\n",
    "                                              df.Producto_ID.values))):\n",
    "        val = lookup_function((c_id, p_id))\n",
    "        f.write(str(i)+','+str(val)+'\\n')\n",
    "    f.close()"
   ]
  },
  {
   "cell_type": "code",
   "execution_count": 26,
   "metadata": {
    "collapsed": false
   },
   "outputs": [
    {
     "name": "stderr",
     "output_type": "stream",
     "text": [
      "6999251it [00:54, 129263.96it/s]\n"
     ]
    }
   ],
   "source": [
    "write_submission(df_test, mean_lookup_p_and_c,\n",
    "                 '../submissions/submission_4.csv')"
   ]
  },
  {
   "cell_type": "markdown",
   "metadata": {},
   "source": [
    "Let's try __averaging only the last x number of weeks for each row__."
   ]
  },
  {
   "cell_type": "code",
   "execution_count": 47,
   "metadata": {
    "collapsed": false
   },
   "outputs": [],
   "source": [
    "def get_recent_mean(x, num_weeks: int):\n",
    "    ''' Get mean of most recent not NaN weeks\n",
    "    as defined by num_weeks. '''\n",
    "    val = np.round(np.mean(x.dropna()[-num_weeks:]))\n",
    "    return int(val)"
   ]
  },
  {
   "cell_type": "code",
   "execution_count": 49,
   "metadata": {
    "collapsed": false
   },
   "outputs": [
    {
     "name": "stdout",
     "output_type": "stream",
     "text": [
      "Wall time: 10h 4min 4s\n"
     ]
    }
   ],
   "source": [
    "%%time\n",
    "df['demand_mean_last2weeks'] = df.iloc[:, 4:11].apply(lambda x: get_recent_mean(x, 2), axis=1)\n",
    "df['demand_mean_last3weeks'] = df.iloc[:, 4:11].apply(lambda x: get_recent_mean(x, 3), axis=1)\n",
    "df['demand_mean_last4weeks'] = df.iloc[:, 4:11].apply(lambda x: get_recent_mean(x, 4), axis=1)"
   ]
  },
  {
   "cell_type": "code",
   "execution_count": 53,
   "metadata": {
    "collapsed": false
   },
   "outputs": [],
   "source": [
    "# Save the results of the above calculations\n",
    "name = 'train_df_means.csv'\n",
    "if not os.path.isfile('../input/'+name):\n",
    "    df.to_csv('../input/'+name)"
   ]
  },
  {
   "cell_type": "markdown",
   "metadata": {},
   "source": [
    "Creating submissions."
   ]
  },
  {
   "cell_type": "code",
   "execution_count": 56,
   "metadata": {
    "collapsed": true
   },
   "outputs": [],
   "source": [
    "def make_dict(df, column):\n",
    "    dict_client_product = {str(c)+' '+str(p): int(d) for c, p, d in\n",
    "                           zip(df.Cliente_ID, df.Producto_ID, df[column])}\n",
    "    return dict_client_product"
   ]
  },
  {
   "cell_type": "code",
   "execution_count": 57,
   "metadata": {
    "collapsed": false
   },
   "outputs": [
    {
     "name": "stderr",
     "output_type": "stream",
     "text": [
      "6999251it [01:06, 105785.00it/s]"
     ]
    },
    {
     "name": "stdout",
     "output_type": "stream",
     "text": [
      "Wall time: 2min 52s\n"
     ]
    },
    {
     "name": "stderr",
     "output_type": "stream",
     "text": [
      "\n"
     ]
    }
   ],
   "source": [
    "%%time\n",
    "dict_last2weeks = make_dict(df, 'demand_mean_last2weeks')\n",
    "\n",
    "def mean_lookup_p_and_c(x, target_dict):\n",
    "    c_id, p_id = x\n",
    "    try:\n",
    "        val = target_dict[str(c_id)+' '+str(p_id)]\n",
    "    except:\n",
    "        val = dict_product_mean[p_id]\n",
    "    return val\n",
    "\n",
    "def write_submission(df, lookup_function, target_dict, file):\n",
    "    f = open(file, 'w')\n",
    "    f.write('id,Demanda_uni_equil\\n')\n",
    "    for i, (c_id, p_id) in tqdm(enumerate(zip(df.Cliente_ID.values,\n",
    "                                              df.Producto_ID.values))):\n",
    "        val = lookup_function((c_id, p_id), target_dict)\n",
    "        f.write(str(i)+','+str(val)+'\\n')\n",
    "    f.close()\n",
    "\n",
    "write_submission(df_test, mean_lookup_p_and_c, dict_last2weeks,\n",
    "                 '../submissions/submission_5.csv')"
   ]
  },
  {
   "cell_type": "code",
   "execution_count": 58,
   "metadata": {
    "collapsed": false
   },
   "outputs": [
    {
     "name": "stderr",
     "output_type": "stream",
     "text": [
      "6999251it [00:46, 151291.43it/s]"
     ]
    },
    {
     "name": "stdout",
     "output_type": "stream",
     "text": [
      "Wall time: 3min 17s\n"
     ]
    },
    {
     "name": "stderr",
     "output_type": "stream",
     "text": [
      "\n"
     ]
    }
   ],
   "source": [
    "%%time\n",
    "dict_last3weeks = make_dict(df, 'demand_mean_last3weeks')\n",
    "\n",
    "def mean_lookup_p_and_c(x, target_dict):\n",
    "    c_id, p_id = x\n",
    "    try:\n",
    "        val = target_dict[str(c_id)+' '+str(p_id)]\n",
    "    except:\n",
    "        val = dict_product_mean[p_id]\n",
    "    return val\n",
    "\n",
    "def write_submission(df, lookup_function, target_dict, file):\n",
    "    f = open(file, 'w')\n",
    "    f.write('id,Demanda_uni_equil\\n')\n",
    "    for i, (c_id, p_id) in tqdm(enumerate(zip(df.Cliente_ID.values,\n",
    "                                              df.Producto_ID.values))):\n",
    "        val = lookup_function((c_id, p_id), target_dict)\n",
    "        f.write(str(i)+','+str(val)+'\\n')\n",
    "    f.close()\n",
    "\n",
    "write_submission(df_test, mean_lookup_p_and_c, dict_last3weeks,\n",
    "                 '../submissions/submission_6.csv')"
   ]
  },
  {
   "cell_type": "code",
   "execution_count": 59,
   "metadata": {
    "collapsed": true
   },
   "outputs": [],
   "source": [
    "# Overwrite dicts to save space\n",
    "dict_last2weeks = {}\n",
    "dict_last3weeks = {}"
   ]
  },
  {
   "cell_type": "code",
   "execution_count": 60,
   "metadata": {
    "collapsed": false
   },
   "outputs": [
    {
     "name": "stderr",
     "output_type": "stream",
     "text": [
      "6999251it [00:49, 141970.61it/s]"
     ]
    },
    {
     "name": "stdout",
     "output_type": "stream",
     "text": [
      "Wall time: 3min 3s\n",
      "Parser   : 161 ms\n"
     ]
    },
    {
     "name": "stderr",
     "output_type": "stream",
     "text": [
      "\n"
     ]
    }
   ],
   "source": [
    "%%time\n",
    "dict_last4weeks = make_dict(df, 'demand_mean_last4weeks')\n",
    "\n",
    "def mean_lookup_p_and_c(x, target_dict):\n",
    "    c_id, p_id = x\n",
    "    try:\n",
    "        val = target_dict[str(c_id)+' '+str(p_id)]\n",
    "    except:\n",
    "        val = dict_product_mean[p_id]\n",
    "    return val\n",
    "\n",
    "def write_submission(df, lookup_function, target_dict, file):\n",
    "    f = open(file, 'w')\n",
    "    f.write('id,Demanda_uni_equil\\n')\n",
    "    for i, (c_id, p_id) in tqdm(enumerate(zip(df.Cliente_ID.values,\n",
    "                                              df.Producto_ID.values))):\n",
    "        val = lookup_function((c_id, p_id), target_dict)\n",
    "        f.write(str(i)+','+str(val)+'\\n')\n",
    "    f.close()\n",
    "\n",
    "write_submission(df_test, mean_lookup_p_and_c, dict_last4weeks,\n",
    "                 '../submissions/submission_7.csv')"
   ]
  },
  {
   "cell_type": "code",
   "execution_count": 80,
   "metadata": {
    "collapsed": true
   },
   "outputs": [],
   "source": [
    "dict_client_product_mean = {}\n",
    "dict_last4weeks = {}"
   ]
  },
  {
   "cell_type": "markdown",
   "metadata": {},
   "source": [
    "Use log-means instead and check for improvement."
   ]
  },
  {
   "cell_type": "code",
   "execution_count": 76,
   "metadata": {
    "collapsed": true
   },
   "outputs": [],
   "source": [
    "def get_recent_log_mean(x, num_weeks: int):\n",
    "    ''' Get mean of most recent not NaN weeks\n",
    "    as defined by num_weeks. '''\n",
    "    val = np.round(np.exp((np.log(x.dropna()[-num_weeks:] + 1)).mean()) - 1)\n",
    "    return int(val)"
   ]
  },
  {
   "cell_type": "code",
   "execution_count": 77,
   "metadata": {
    "collapsed": false
   },
   "outputs": [
    {
     "name": "stdout",
     "output_type": "stream",
     "text": [
      "Wall time: 3h 53min 14s\n"
     ]
    }
   ],
   "source": [
    "%%time\n",
    "df['demand_log_mean_last4weeks'] = df.iloc[:, 4:11].apply(lambda x: get_recent_log_mean(x, 4), axis=1)"
   ]
  },
  {
   "cell_type": "code",
   "execution_count": 78,
   "metadata": {
    "collapsed": false
   },
   "outputs": [
    {
     "name": "stdout",
     "output_type": "stream",
     "text": [
      "Wall time: 3h 48min 56s\n"
     ]
    }
   ],
   "source": [
    "%%time\n",
    "df['demand_log_mean_last5weeks'] = df.iloc[:, 4:11].apply(lambda x: get_recent_log_mean(x, 5), axis=1)"
   ]
  },
  {
   "cell_type": "code",
   "execution_count": 79,
   "metadata": {
    "collapsed": false
   },
   "outputs": [
    {
     "name": "stdout",
     "output_type": "stream",
     "text": [
      "Wall time: 3h 46min 50s\n"
     ]
    }
   ],
   "source": [
    "%%time\n",
    "df['demand_log_mean_last6weeks'] = df.iloc[:, 4:11].apply(lambda x: get_recent_log_mean(x, 6), axis=1)"
   ]
  },
  {
   "cell_type": "code",
   "execution_count": 81,
   "metadata": {
    "collapsed": false
   },
   "outputs": [
    {
     "name": "stderr",
     "output_type": "stream",
     "text": [
      "6999251it [01:00, 116068.54it/s]"
     ]
    },
    {
     "name": "stdout",
     "output_type": "stream",
     "text": [
      "Wall time: 3min 7s\n"
     ]
    },
    {
     "name": "stderr",
     "output_type": "stream",
     "text": [
      "\n"
     ]
    }
   ],
   "source": [
    "%%time\n",
    "dict_lastXweeks = make_dict(df, 'demand_log_mean_last4weeks')\n",
    "\n",
    "def mean_lookup_p_and_c(x, target_dict):\n",
    "    c_id, p_id = x\n",
    "    try:\n",
    "        val = target_dict[str(c_id)+' '+str(p_id)]\n",
    "    except:\n",
    "        val = dict_product_mean[p_id]\n",
    "    return val\n",
    "\n",
    "def write_submission(df, lookup_function, target_dict, file):\n",
    "    f = open(file, 'w')\n",
    "    f.write('id,Demanda_uni_equil\\n')\n",
    "    for i, (c_id, p_id) in tqdm(enumerate(zip(df.Cliente_ID.values,\n",
    "                                              df.Producto_ID.values))):\n",
    "        val = lookup_function((c_id, p_id), target_dict)\n",
    "        f.write(str(i)+','+str(val)+'\\n')\n",
    "    f.close()\n",
    "\n",
    "write_submission(df_test, mean_lookup_p_and_c, dict_lastXweeks,\n",
    "                 '../submissions/submission_8.csv')"
   ]
  },
  {
   "cell_type": "code",
   "execution_count": 89,
   "metadata": {
    "collapsed": false
   },
   "outputs": [
    {
     "name": "stderr",
     "output_type": "stream",
     "text": [
      "6999251it [00:52, 132500.02it/s]"
     ]
    },
    {
     "name": "stdout",
     "output_type": "stream",
     "text": [
      "Wall time: 21min 40s\n"
     ]
    },
    {
     "name": "stderr",
     "output_type": "stream",
     "text": [
      "\n"
     ]
    }
   ],
   "source": [
    "%%time\n",
    "dict_lastXweeks = make_dict(df, 'demand_log_mean_last4weeks')\n",
    "\n",
    "# Cap max at 200 and predict\n",
    "for k, v in dict_lastXweeks.items():\n",
    "    dict_lastXweeks[k] = np.min((v, 200))\n",
    "    \n",
    "write_submission(df_test, mean_lookup_p_and_c, dict_lastXweeks,\n",
    "                 '../submissions/submission_9.csv')"
   ]
  },
  {
   "cell_type": "code",
   "execution_count": 90,
   "metadata": {
    "collapsed": false
   },
   "outputs": [
    {
     "name": "stderr",
     "output_type": "stream",
     "text": [
      "6999251it [00:49, 141789.09it/s]"
     ]
    },
    {
     "name": "stdout",
     "output_type": "stream",
     "text": [
      "Wall time: 3min 1s\n"
     ]
    },
    {
     "name": "stderr",
     "output_type": "stream",
     "text": [
      "\n"
     ]
    }
   ],
   "source": [
    "%%time\n",
    "# Cap max at 30 and predict\n",
    "for k, v in dict_lastXweeks.items():\n",
    "    dict_lastXweeks[k] = np.min((v, 30))\n",
    "    \n",
    "write_submission(df_test, mean_lookup_p_and_c, dict_lastXweeks,\n",
    "                 '../submissions/submission_10.csv')"
   ]
  },
  {
   "cell_type": "code",
   "execution_count": 82,
   "metadata": {
    "collapsed": false
   },
   "outputs": [
    {
     "name": "stderr",
     "output_type": "stream",
     "text": [
      "6999251it [01:48, 64603.28it/s] "
     ]
    },
    {
     "name": "stdout",
     "output_type": "stream",
     "text": [
      "Wall time: 7min\n"
     ]
    },
    {
     "name": "stderr",
     "output_type": "stream",
     "text": [
      "\n"
     ]
    }
   ],
   "source": [
    "%%time\n",
    "dict_lastXweeks = make_dict(df, 'demand_log_mean_last5weeks')\n",
    "\n",
    "write_submission(df_test, mean_lookup_p_and_c, dict_lastXweeks,\n",
    "                 '../submissions/submission_11.csv')"
   ]
  },
  {
   "cell_type": "code",
   "execution_count": 83,
   "metadata": {
    "collapsed": false
   },
   "outputs": [
    {
     "name": "stderr",
     "output_type": "stream",
     "text": [
      "6999251it [00:56, 124327.82it/s]"
     ]
    },
    {
     "name": "stdout",
     "output_type": "stream",
     "text": [
      "Wall time: 8min 29s\n",
      "Parser   : 103 ms\n"
     ]
    },
    {
     "name": "stderr",
     "output_type": "stream",
     "text": [
      "\n"
     ]
    }
   ],
   "source": [
    "%%time\n",
    "dict_lastXweeks = make_dict(df, 'demand_log_mean_last6weeks')\n",
    "\n",
    "write_submission(df_test, mean_lookup_p_and_c, dict_lastXweeks,\n",
    "                 '../submissions/submission_12.csv')"
   ]
  },
  {
   "cell_type": "code",
   "execution_count": 91,
   "metadata": {
    "collapsed": true
   },
   "outputs": [],
   "source": [
    "# Save the results of the above calculations\n",
    "name = 'train_df_means.csv'\n",
    "if not os.path.isfile('../input/'+name):\n",
    "    df.to_csv('../input/'+name)"
   ]
  },
  {
   "cell_type": "markdown",
   "metadata": {},
   "source": [
    "## Implementing decision tree solutions\n",
    "Ideas:\n",
    " - if memory is an issue, use (log) mean values for features e.g. previous week and mean (2 features) for each sample OR previous week, mean, and previous 4 weeks mean (3 features)"
   ]
  },
  {
   "cell_type": "code",
   "execution_count": 8,
   "metadata": {
    "collapsed": true
   },
   "outputs": [],
   "source": [
    "from sklearn.ensemble import RandomForestClassifier\n",
    "from sklearn.cross_validation import KFold\n",
    "from sklearn.metrics import log_loss\n",
    "from sklearn.tree import DecisionTreeClassifier\n",
    "# from sklearn.preprocessing import StandardScaler"
   ]
  },
  {
   "cell_type": "code",
   "execution_count": 9,
   "metadata": {
    "collapsed": false
   },
   "outputs": [
    {
     "data": {
      "text/html": [
       "<div>\n",
       "<table border=\"1\" class=\"dataframe\">\n",
       "  <thead>\n",
       "    <tr style=\"text-align: right;\">\n",
       "      <th></th>\n",
       "      <th>Semana</th>\n",
       "      <th>Cliente_ID</th>\n",
       "      <th>Producto_ID</th>\n",
       "    </tr>\n",
       "  </thead>\n",
       "  <tbody>\n",
       "    <tr>\n",
       "      <th>0</th>\n",
       "      <td>11</td>\n",
       "      <td>4639078</td>\n",
       "      <td>35305</td>\n",
       "    </tr>\n",
       "    <tr>\n",
       "      <th>1</th>\n",
       "      <td>11</td>\n",
       "      <td>4705135</td>\n",
       "      <td>1238</td>\n",
       "    </tr>\n",
       "    <tr>\n",
       "      <th>2</th>\n",
       "      <td>10</td>\n",
       "      <td>4549769</td>\n",
       "      <td>32940</td>\n",
       "    </tr>\n",
       "    <tr>\n",
       "      <th>3</th>\n",
       "      <td>11</td>\n",
       "      <td>4717855</td>\n",
       "      <td>43066</td>\n",
       "    </tr>\n",
       "    <tr>\n",
       "      <th>4</th>\n",
       "      <td>11</td>\n",
       "      <td>966351</td>\n",
       "      <td>1277</td>\n",
       "    </tr>\n",
       "  </tbody>\n",
       "</table>\n",
       "</div>"
      ],
      "text/plain": [
       "   Semana  Cliente_ID  Producto_ID\n",
       "0      11     4639078        35305\n",
       "1      11     4705135         1238\n",
       "2      10     4549769        32940\n",
       "3      11     4717855        43066\n",
       "4      11      966351         1277"
      ]
     },
     "execution_count": 9,
     "metadata": {},
     "output_type": "execute_result"
    }
   ],
   "source": [
    "name = 'test.csv'\n",
    "\n",
    "types = {#'Agencia_ID': np.uint16, 'Ruta_SAK': np.uint16,\n",
    "         'Semana': np.uint8, #'NombreCliente_id': np.uint8,\n",
    "         'Cliente_ID': np.uint32, 'Producto_ID': np.uint16}\n",
    "#         'demand_w3': np.uint32 , 'demand_w4': np.uint32,\n",
    "#         'demand_w5': np.uint32, #'demand_w6': np.uint32, 'demand_w7': np.uint32 ,\n",
    "#         'demand_w8': np.uint32,\n",
    "#         'demand_w9': np.uint32, #'demand_mean': np.uint32,\n",
    "#              'demand_log_transform_mean': np.uint32,\n",
    "#              'demand_mean_last2weeks': np.uint32,\n",
    "#              'demand_mean_last3weeks': np.uint32,\n",
    "#              'demand_mean_last4weeks': np.uint32,\n",
    "#              'demand_log_mean_last4weeks': np.uint32,\n",
    "#              'demand_log_mean_last5weeks': np.uint32,\n",
    "#         'demand_log_mean_last6weeks': np.uint32}\n",
    "\n",
    "df_test = pd.read_csv('../input/'+name,\n",
    "                    usecols=list(types.keys()),\n",
    "                    dtype=types)#, index_col='Unnamed: 0')\n",
    "df_test.head()"
   ]
  },
  {
   "cell_type": "markdown",
   "metadata": {},
   "source": [
    "___\n",
    "Use training dataframe with NaNs from week 8 removed (don't want to train on made-up target variables)."
   ]
  },
  {
   "cell_type": "code",
   "execution_count": 16,
   "metadata": {
    "collapsed": false
   },
   "outputs": [
    {
     "name": "stdout",
     "output_type": "stream",
     "text": [
      "39.431353007334415 % of rows remaining after drops\n"
     ]
    }
   ],
   "source": [
    "df_train = df.dropna(subset=['demand_w8'])\n",
    "print(len(df_train)/len(df)*100, '% of rows remaining after drops')"
   ]
  },
  {
   "cell_type": "code",
   "execution_count": 17,
   "metadata": {
    "collapsed": true
   },
   "outputs": [],
   "source": [
    "def get_features(df, features, target):\n",
    "    ''' Fill NaNs in the dataframe and return numpy array of values. '''\n",
    "    for i in features:\n",
    "        df.iloc[:, i].fillna(df.demand_log_transform_mean, inplace=True)\n",
    "    return df.iloc[:, features].values, df[target]"
   ]
  },
  {
   "cell_type": "code",
   "execution_count": 19,
   "metadata": {
    "collapsed": false
   },
   "outputs": [
    {
     "name": "stdout",
     "output_type": "stream",
     "text": [
      "0 Agencia_ID\n",
      "1 Ruta_SAK\n",
      "2 Cliente_ID\n",
      "3 Producto_ID\n",
      "4 demand_w3\n",
      "5 demand_w4\n",
      "6 demand_w5\n",
      "7 demand_w6\n",
      "8 demand_w7\n",
      "9 demand_w8\n",
      "10 demand_w9\n",
      "11 demand_mean\n",
      "12 demand_log_transform_mean\n",
      "13 demand_mean_last2weeks\n",
      "14 demand_mean_last3weeks\n",
      "15 demand_mean_last4weeks\n",
      "16 demand_log_mean_last4weeks\n",
      "17 demand_log_mean_last5weeks\n",
      "18 demand_log_mean_last6weeks\n"
     ]
    }
   ],
   "source": [
    "for i, n in enumerate(df.columns):\n",
    "    print(i, n)"
   ]
  },
  {
   "cell_type": "markdown",
   "metadata": {},
   "source": [
    "### Random forest of x decision trees\n",
    "Using x = 5 and getting poor results. Lower Kaggle score (root mean squared logarithmic error) than work above which is bottom 33% of the leaderboard.\n",
    "\n",
    "For more info on the scoring metric go to: https://www.kaggle.com/wiki/RootMeanSquaredLogarithmicError"
   ]
  },
  {
   "cell_type": "code",
   "execution_count": 20,
   "metadata": {
    "collapsed": false
   },
   "outputs": [
    {
     "name": "stdout",
     "output_type": "stream",
     "text": [
      "Wall time: 663 ms\n"
     ]
    }
   ],
   "source": [
    "%%time\n",
    "X_train, y_train = get_features(df=df_train,\n",
    "                                features=(8, 12), # Week 7 and demand_log_transform_mean\n",
    "                                target='demand_w8')"
   ]
  },
  {
   "cell_type": "code",
   "execution_count": 21,
   "metadata": {
    "collapsed": false
   },
   "outputs": [
    {
     "name": "stdout",
     "output_type": "stream",
     "text": [
      "Wall time: 54.7 s\n"
     ]
    }
   ],
   "source": [
    "%%time\n",
    "clf = RandomForestClassifier(n_estimators=5)\n",
    "clf.fit(X_train, y_train)"
   ]
  },
  {
   "cell_type": "code",
   "execution_count": 24,
   "metadata": {
    "collapsed": false
   },
   "outputs": [
    {
     "data": {
      "text/plain": [
       "RandomForestClassifier(bootstrap=True, class_weight=None, criterion='gini',\n",
       "            max_depth=None, max_features='auto', max_leaf_nodes=None,\n",
       "            min_samples_leaf=1, min_samples_split=2,\n",
       "            min_weight_fraction_leaf=0.0, n_estimators=5, n_jobs=1,\n",
       "            oob_score=False, random_state=None, verbose=0,\n",
       "            warm_start=False)"
      ]
     },
     "execution_count": 24,
     "metadata": {},
     "output_type": "execute_result"
    }
   ],
   "source": [
    "clf"
   ]
  },
  {
   "cell_type": "code",
   "execution_count": 25,
   "metadata": {
    "collapsed": true
   },
   "outputs": [],
   "source": [
    "def get_test_features(df, features):\n",
    "    for i in features:\n",
    "        df.iloc[:, i].fillna(df.demand_log_transform_mean, inplace=True)\n",
    "    return df.iloc[:, features].values"
   ]
  },
  {
   "cell_type": "code",
   "execution_count": 30,
   "metadata": {
    "collapsed": false
   },
   "outputs": [
    {
     "data": {
      "text/plain": [
       "264"
      ]
     },
     "execution_count": 30,
     "metadata": {},
     "output_type": "execute_result"
    }
   ],
   "source": [
    "int(np.ceil(len(df)/batch))"
   ]
  },
  {
   "cell_type": "code",
   "execution_count": null,
   "metadata": {
    "collapsed": true
   },
   "outputs": [],
   "source": [
    "df"
   ]
  },
  {
   "cell_type": "code",
   "execution_count": 26,
   "metadata": {
    "collapsed": false
   },
   "outputs": [
    {
     "name": "stderr",
     "output_type": "stream",
     "text": [
      "100%|███████████████████████████████████████████████████████████████████████████████▋| 264/265 [24:38<00:05,  5.04s/it]\n"
     ]
    },
    {
     "ename": "ValueError",
     "evalue": "Found array with 0 sample(s) (shape=(0, 2)) while a minimum of 1 is required.",
     "output_type": "error",
     "traceback": [
      "\u001b[1;31m---------------------------------------------------------------------------\u001b[0m",
      "\u001b[1;31mValueError\u001b[0m                                Traceback (most recent call last)",
      "\u001b[1;32m<ipython-input-26-c9611b9b23ee>\u001b[0m in \u001b[0;36m<module>\u001b[1;34m()\u001b[0m\n\u001b[1;32m----> 1\u001b[1;33m \u001b[0mget_ipython\u001b[0m\u001b[1;33m(\u001b[0m\u001b[1;33m)\u001b[0m\u001b[1;33m.\u001b[0m\u001b[0mrun_cell_magic\u001b[0m\u001b[1;33m(\u001b[0m\u001b[1;34m'time'\u001b[0m\u001b[1;33m,\u001b[0m \u001b[1;34m''\u001b[0m\u001b[1;33m,\u001b[0m \u001b[1;34m\"y_pred_wk10 = []\\nbatch = 100000\\nfor i in tqdm(range(int(np.ceil(len(df)/batch))+1)):\\n    try:\\n        X_test_wk10 = get_test_features(df=df.iloc[i*batch:(i+1)*batch],\\n                                        features=(10, 12))\\n    except:\\n        print('Final batch')\\n        X_test_wk10 = get_test_features(df=df.iloc[i*batch:],\\n                                        features=(10, 12))\\n    y_pred_wk10.append(clf.predict(X_test_wk10))\\n        \\ny_pred_wk10 = np.array(y_pred_wk10).flatten()\"\u001b[0m\u001b[1;33m)\u001b[0m\u001b[1;33m\u001b[0m\u001b[0m\n\u001b[0m",
      "\u001b[1;32mC:\\Anaconda3\\envs\\py35\\lib\\site-packages\\IPython\\core\\interactiveshell.py\u001b[0m in \u001b[0;36mrun_cell_magic\u001b[1;34m(self, magic_name, line, cell)\u001b[0m\n\u001b[0;32m   2291\u001b[0m             \u001b[0mmagic_arg_s\u001b[0m \u001b[1;33m=\u001b[0m \u001b[0mself\u001b[0m\u001b[1;33m.\u001b[0m\u001b[0mvar_expand\u001b[0m\u001b[1;33m(\u001b[0m\u001b[0mline\u001b[0m\u001b[1;33m,\u001b[0m \u001b[0mstack_depth\u001b[0m\u001b[1;33m)\u001b[0m\u001b[1;33m\u001b[0m\u001b[0m\n\u001b[0;32m   2292\u001b[0m             \u001b[1;32mwith\u001b[0m \u001b[0mself\u001b[0m\u001b[1;33m.\u001b[0m\u001b[0mbuiltin_trap\u001b[0m\u001b[1;33m:\u001b[0m\u001b[1;33m\u001b[0m\u001b[0m\n\u001b[1;32m-> 2293\u001b[1;33m                 \u001b[0mresult\u001b[0m \u001b[1;33m=\u001b[0m \u001b[0mfn\u001b[0m\u001b[1;33m(\u001b[0m\u001b[0mmagic_arg_s\u001b[0m\u001b[1;33m,\u001b[0m \u001b[0mcell\u001b[0m\u001b[1;33m)\u001b[0m\u001b[1;33m\u001b[0m\u001b[0m\n\u001b[0m\u001b[0;32m   2294\u001b[0m             \u001b[1;32mreturn\u001b[0m \u001b[0mresult\u001b[0m\u001b[1;33m\u001b[0m\u001b[0m\n\u001b[0;32m   2295\u001b[0m \u001b[1;33m\u001b[0m\u001b[0m\n",
      "\u001b[1;32m<decorator-gen-61>\u001b[0m in \u001b[0;36mtime\u001b[1;34m(self, line, cell, local_ns)\u001b[0m\n",
      "\u001b[1;32mC:\\Anaconda3\\envs\\py35\\lib\\site-packages\\IPython\\core\\magic.py\u001b[0m in \u001b[0;36m<lambda>\u001b[1;34m(f, *a, **k)\u001b[0m\n\u001b[0;32m    191\u001b[0m     \u001b[1;31m# but it's overkill for just that one bit of state.\u001b[0m\u001b[1;33m\u001b[0m\u001b[1;33m\u001b[0m\u001b[0m\n\u001b[0;32m    192\u001b[0m     \u001b[1;32mdef\u001b[0m \u001b[0mmagic_deco\u001b[0m\u001b[1;33m(\u001b[0m\u001b[0marg\u001b[0m\u001b[1;33m)\u001b[0m\u001b[1;33m:\u001b[0m\u001b[1;33m\u001b[0m\u001b[0m\n\u001b[1;32m--> 193\u001b[1;33m         \u001b[0mcall\u001b[0m \u001b[1;33m=\u001b[0m \u001b[1;32mlambda\u001b[0m \u001b[0mf\u001b[0m\u001b[1;33m,\u001b[0m \u001b[1;33m*\u001b[0m\u001b[0ma\u001b[0m\u001b[1;33m,\u001b[0m \u001b[1;33m**\u001b[0m\u001b[0mk\u001b[0m\u001b[1;33m:\u001b[0m \u001b[0mf\u001b[0m\u001b[1;33m(\u001b[0m\u001b[1;33m*\u001b[0m\u001b[0ma\u001b[0m\u001b[1;33m,\u001b[0m \u001b[1;33m**\u001b[0m\u001b[0mk\u001b[0m\u001b[1;33m)\u001b[0m\u001b[1;33m\u001b[0m\u001b[0m\n\u001b[0m\u001b[0;32m    194\u001b[0m \u001b[1;33m\u001b[0m\u001b[0m\n\u001b[0;32m    195\u001b[0m         \u001b[1;32mif\u001b[0m \u001b[0mcallable\u001b[0m\u001b[1;33m(\u001b[0m\u001b[0marg\u001b[0m\u001b[1;33m)\u001b[0m\u001b[1;33m:\u001b[0m\u001b[1;33m\u001b[0m\u001b[0m\n",
      "\u001b[1;32mC:\\Anaconda3\\envs\\py35\\lib\\site-packages\\IPython\\core\\magics\\execution.py\u001b[0m in \u001b[0;36mtime\u001b[1;34m(self, line, cell, local_ns)\u001b[0m\n\u001b[0;32m   1165\u001b[0m         \u001b[1;32melse\u001b[0m\u001b[1;33m:\u001b[0m\u001b[1;33m\u001b[0m\u001b[0m\n\u001b[0;32m   1166\u001b[0m             \u001b[0mst\u001b[0m \u001b[1;33m=\u001b[0m \u001b[0mclock2\u001b[0m\u001b[1;33m(\u001b[0m\u001b[1;33m)\u001b[0m\u001b[1;33m\u001b[0m\u001b[0m\n\u001b[1;32m-> 1167\u001b[1;33m             \u001b[0mexec\u001b[0m\u001b[1;33m(\u001b[0m\u001b[0mcode\u001b[0m\u001b[1;33m,\u001b[0m \u001b[0mglob\u001b[0m\u001b[1;33m,\u001b[0m \u001b[0mlocal_ns\u001b[0m\u001b[1;33m)\u001b[0m\u001b[1;33m\u001b[0m\u001b[0m\n\u001b[0m\u001b[0;32m   1168\u001b[0m             \u001b[0mend\u001b[0m \u001b[1;33m=\u001b[0m \u001b[0mclock2\u001b[0m\u001b[1;33m(\u001b[0m\u001b[1;33m)\u001b[0m\u001b[1;33m\u001b[0m\u001b[0m\n\u001b[0;32m   1169\u001b[0m             \u001b[0mout\u001b[0m \u001b[1;33m=\u001b[0m \u001b[1;32mNone\u001b[0m\u001b[1;33m\u001b[0m\u001b[0m\n",
      "\u001b[1;32m<timed exec>\u001b[0m in \u001b[0;36m<module>\u001b[1;34m()\u001b[0m\n",
      "\u001b[1;32mC:\\Anaconda3\\Lib\\site-packages\\sklearn\\ensemble\\forest.py\u001b[0m in \u001b[0;36mpredict\u001b[1;34m(self, X)\u001b[0m\n\u001b[0;32m    496\u001b[0m             \u001b[0mThe\u001b[0m \u001b[0mpredicted\u001b[0m \u001b[0mclasses\u001b[0m\u001b[1;33m.\u001b[0m\u001b[1;33m\u001b[0m\u001b[0m\n\u001b[0;32m    497\u001b[0m         \"\"\"\n\u001b[1;32m--> 498\u001b[1;33m         \u001b[0mproba\u001b[0m \u001b[1;33m=\u001b[0m \u001b[0mself\u001b[0m\u001b[1;33m.\u001b[0m\u001b[0mpredict_proba\u001b[0m\u001b[1;33m(\u001b[0m\u001b[0mX\u001b[0m\u001b[1;33m)\u001b[0m\u001b[1;33m\u001b[0m\u001b[0m\n\u001b[0m\u001b[0;32m    499\u001b[0m \u001b[1;33m\u001b[0m\u001b[0m\n\u001b[0;32m    500\u001b[0m         \u001b[1;32mif\u001b[0m \u001b[0mself\u001b[0m\u001b[1;33m.\u001b[0m\u001b[0mn_outputs_\u001b[0m \u001b[1;33m==\u001b[0m \u001b[1;36m1\u001b[0m\u001b[1;33m:\u001b[0m\u001b[1;33m\u001b[0m\u001b[0m\n",
      "\u001b[1;32mC:\\Anaconda3\\Lib\\site-packages\\sklearn\\ensemble\\forest.py\u001b[0m in \u001b[0;36mpredict_proba\u001b[1;34m(self, X)\u001b[0m\n\u001b[0;32m    535\u001b[0m         \"\"\"\n\u001b[0;32m    536\u001b[0m         \u001b[1;31m# Check data\u001b[0m\u001b[1;33m\u001b[0m\u001b[1;33m\u001b[0m\u001b[0m\n\u001b[1;32m--> 537\u001b[1;33m         \u001b[0mX\u001b[0m \u001b[1;33m=\u001b[0m \u001b[0mself\u001b[0m\u001b[1;33m.\u001b[0m\u001b[0m_validate_X_predict\u001b[0m\u001b[1;33m(\u001b[0m\u001b[0mX\u001b[0m\u001b[1;33m)\u001b[0m\u001b[1;33m\u001b[0m\u001b[0m\n\u001b[0m\u001b[0;32m    538\u001b[0m \u001b[1;33m\u001b[0m\u001b[0m\n\u001b[0;32m    539\u001b[0m         \u001b[1;31m# Assign chunk of trees to jobs\u001b[0m\u001b[1;33m\u001b[0m\u001b[1;33m\u001b[0m\u001b[0m\n",
      "\u001b[1;32mC:\\Anaconda3\\Lib\\site-packages\\sklearn\\ensemble\\forest.py\u001b[0m in \u001b[0;36m_validate_X_predict\u001b[1;34m(self, X)\u001b[0m\n\u001b[0;32m    317\u001b[0m                                  \"call `fit` before exploiting the model.\")\n\u001b[0;32m    318\u001b[0m \u001b[1;33m\u001b[0m\u001b[0m\n\u001b[1;32m--> 319\u001b[1;33m         \u001b[1;32mreturn\u001b[0m \u001b[0mself\u001b[0m\u001b[1;33m.\u001b[0m\u001b[0mestimators_\u001b[0m\u001b[1;33m[\u001b[0m\u001b[1;36m0\u001b[0m\u001b[1;33m]\u001b[0m\u001b[1;33m.\u001b[0m\u001b[0m_validate_X_predict\u001b[0m\u001b[1;33m(\u001b[0m\u001b[0mX\u001b[0m\u001b[1;33m,\u001b[0m \u001b[0mcheck_input\u001b[0m\u001b[1;33m=\u001b[0m\u001b[1;32mTrue\u001b[0m\u001b[1;33m)\u001b[0m\u001b[1;33m\u001b[0m\u001b[0m\n\u001b[0m\u001b[0;32m    320\u001b[0m \u001b[1;33m\u001b[0m\u001b[0m\n\u001b[0;32m    321\u001b[0m     \u001b[1;33m@\u001b[0m\u001b[0mproperty\u001b[0m\u001b[1;33m\u001b[0m\u001b[0m\n",
      "\u001b[1;32mC:\\Anaconda3\\Lib\\site-packages\\sklearn\\tree\\tree.py\u001b[0m in \u001b[0;36m_validate_X_predict\u001b[1;34m(self, X, check_input)\u001b[0m\n\u001b[0;32m    363\u001b[0m \u001b[1;33m\u001b[0m\u001b[0m\n\u001b[0;32m    364\u001b[0m         \u001b[1;32mif\u001b[0m \u001b[0mcheck_input\u001b[0m\u001b[1;33m:\u001b[0m\u001b[1;33m\u001b[0m\u001b[0m\n\u001b[1;32m--> 365\u001b[1;33m             \u001b[0mX\u001b[0m \u001b[1;33m=\u001b[0m \u001b[0mcheck_array\u001b[0m\u001b[1;33m(\u001b[0m\u001b[0mX\u001b[0m\u001b[1;33m,\u001b[0m \u001b[0mdtype\u001b[0m\u001b[1;33m=\u001b[0m\u001b[0mDTYPE\u001b[0m\u001b[1;33m,\u001b[0m \u001b[0maccept_sparse\u001b[0m\u001b[1;33m=\u001b[0m\u001b[1;34m\"csr\"\u001b[0m\u001b[1;33m)\u001b[0m\u001b[1;33m\u001b[0m\u001b[0m\n\u001b[0m\u001b[0;32m    366\u001b[0m             if issparse(X) and (X.indices.dtype != np.intc or\n\u001b[0;32m    367\u001b[0m                                 X.indptr.dtype != np.intc):\n",
      "\u001b[1;32mC:\\Anaconda3\\Lib\\site-packages\\sklearn\\utils\\validation.py\u001b[0m in \u001b[0;36mcheck_array\u001b[1;34m(array, accept_sparse, dtype, order, copy, force_all_finite, ensure_2d, allow_nd, ensure_min_samples, ensure_min_features, warn_on_dtype, estimator)\u001b[0m\n\u001b[0;32m    405\u001b[0m                              \u001b[1;34m\" minimum of %d is required%s.\"\u001b[0m\u001b[1;33m\u001b[0m\u001b[0m\n\u001b[0;32m    406\u001b[0m                              % (n_samples, shape_repr, ensure_min_samples,\n\u001b[1;32m--> 407\u001b[1;33m                                 context))\n\u001b[0m\u001b[0;32m    408\u001b[0m \u001b[1;33m\u001b[0m\u001b[0m\n\u001b[0;32m    409\u001b[0m     \u001b[1;32mif\u001b[0m \u001b[0mensure_min_features\u001b[0m \u001b[1;33m>\u001b[0m \u001b[1;36m0\u001b[0m \u001b[1;32mand\u001b[0m \u001b[0marray\u001b[0m\u001b[1;33m.\u001b[0m\u001b[0mndim\u001b[0m \u001b[1;33m==\u001b[0m \u001b[1;36m2\u001b[0m\u001b[1;33m:\u001b[0m\u001b[1;33m\u001b[0m\u001b[0m\n",
      "\u001b[1;31mValueError\u001b[0m: Found array with 0 sample(s) (shape=(0, 2)) while a minimum of 1 is required."
     ]
    }
   ],
   "source": [
    "%%time\n",
    "y_pred_wk10 = []\n",
    "batch = 100000\n",
    "for i in tqdm(range(int(np.ceil(len(df)/batch))+1)):\n",
    "    try:\n",
    "        X_test_wk10 = get_test_features(df=df.iloc[i*batch:(i+1)*batch],\n",
    "                                        features=(10, 12))\n",
    "    except:\n",
    "        print('Final batch')\n",
    "        X_test_wk10 = get_test_features(df=df.iloc[i*batch:],\n",
    "                                        features=(10, 12))\n",
    "    try:\n",
    "        y_pred_wk10.extend(list(clf.predict(X_test_wk10)))\n",
    "    except:\n",
    "        print('Done')\n",
    "        \n",
    "y_pred = np.array(y_pred_wk10)"
   ]
  },
  {
   "cell_type": "code",
   "execution_count": 36,
   "metadata": {
    "collapsed": true
   },
   "outputs": [],
   "source": [
    "y_pred_wk10 = np.array(y_pred_wk10).flatten()"
   ]
  },
  {
   "cell_type": "code",
   "execution_count": 47,
   "metadata": {
    "collapsed": true
   },
   "outputs": [],
   "source": [
    "df['demand_wk10_predict'] = y_pred"
   ]
  },
  {
   "cell_type": "code",
   "execution_count": 48,
   "metadata": {
    "collapsed": false
   },
   "outputs": [
    {
     "name": "stdout",
     "output_type": "stream",
     "text": [
      "0 Agencia_ID\n",
      "1 Ruta_SAK\n",
      "2 Cliente_ID\n",
      "3 Producto_ID\n",
      "4 demand_w3\n",
      "5 demand_w4\n",
      "6 demand_w5\n",
      "7 demand_w6\n",
      "8 demand_w7\n",
      "9 demand_w8\n",
      "10 demand_w9\n",
      "11 demand_mean\n",
      "12 demand_log_transform_mean\n",
      "13 demand_mean_last2weeks\n",
      "14 demand_mean_last3weeks\n",
      "15 demand_mean_last4weeks\n",
      "16 demand_log_mean_last4weeks\n",
      "17 demand_log_mean_last5weeks\n",
      "18 demand_log_mean_last6weeks\n",
      "19 demand_wk10_predict\n"
     ]
    }
   ],
   "source": [
    "for i, n in enumerate(df.columns):\n",
    "    print(i, n)"
   ]
  },
  {
   "cell_type": "code",
   "execution_count": 49,
   "metadata": {
    "collapsed": false
   },
   "outputs": [
    {
     "name": "stderr",
     "output_type": "stream",
     "text": [
      "100%|████████████████████████████████████████████████████████████████████████████████| 265/265 [31:14<00:00,  7.07s/it]"
     ]
    },
    {
     "name": "stdout",
     "output_type": "stream",
     "text": [
      "Done\n",
      "Wall time: 32min 8s\n"
     ]
    },
    {
     "name": "stderr",
     "output_type": "stream",
     "text": [
      "\n"
     ]
    }
   ],
   "source": [
    "%%time\n",
    "y_pred_wk11 = []\n",
    "batch = 100000\n",
    "for i in tqdm(range(int(np.ceil(len(df)/batch))+1)):\n",
    "    try:\n",
    "        X_test_wk11 = get_test_features(df=df.iloc[i*batch:(i+1)*batch],\n",
    "                                        features=(19, 12))\n",
    "    except:\n",
    "        print('Final batch')\n",
    "        X_test_wk11 = get_test_features(df=df.iloc[i*batch:],\n",
    "                                        features=(19, 12))\n",
    "    try:\n",
    "        y_pred_wk11.extend(list(clf.predict(X_test_wk11)))\n",
    "    except:\n",
    "        print('Done')\n",
    "        \n",
    "y_pred = np.array(y_pred_wk11)"
   ]
  },
  {
   "cell_type": "code",
   "execution_count": 50,
   "metadata": {
    "collapsed": true
   },
   "outputs": [],
   "source": [
    "df['demand_wk11_predict'] = y_pred"
   ]
  },
  {
   "cell_type": "code",
   "execution_count": null,
   "metadata": {
    "collapsed": true
   },
   "outputs": [],
   "source": [
    "df.to_csv('data_backup_temp.csv', columns=['Cliente_ID', 'Producto_ID',\n",
    "                                           'demand_wk10_predict', 'demand_wk11_predict'])"
   ]
  },
  {
   "cell_type": "code",
   "execution_count": null,
   "metadata": {
    "collapsed": false
   },
   "outputs": [
    {
     "name": "stderr",
     "output_type": "stream",
     "text": [
      "6999251it [26:36, 4385.43it/s]"
     ]
    },
    {
     "name": "stdout",
     "output_type": "stream",
     "text": [
      "Wall time: 32min 4s\n",
      "Parser   : 1.31 s\n"
     ]
    },
    {
     "name": "stderr",
     "output_type": "stream",
     "text": [
      "\n"
     ]
    }
   ],
   "source": [
    "%%time\n",
    "\n",
    "def make_dict(df, column):\n",
    "    dict_client_product = {str(c)+' '+str(p): int(d) for c, p, d in\n",
    "                           zip(df.Cliente_ID, df.Producto_ID, df[column])}\n",
    "    return dict_client_product\n",
    "\n",
    "dict_wk10 = make_dict(df, 'demand_wk10_predict')\n",
    "dict_wk11 = make_dict(df, 'demand_wk11_predict')\n",
    "\n",
    "def lookup_else_insert_mean(x, target_dict):\n",
    "    c_id, p_id = x\n",
    "    try:\n",
    "        val = target_dict[str(c_id)+' '+str(p_id)]\n",
    "    except:\n",
    "        val = dict_product_mean[p_id]\n",
    "    return val\n",
    "\n",
    "def write_submission(df, lookup_function, target_dict_wk10,\n",
    "                     target_dict_wk11, file):\n",
    "    f = open(file, 'w')\n",
    "    f.write('id,Demanda_uni_equil\\n')\n",
    "    for i, (c_id, p_id, s) in tqdm(enumerate(zip(df.Cliente_ID.values,\n",
    "                                                df.Producto_ID.values,\n",
    "                                                df.Semana.values))):\n",
    "        if s == 10:\n",
    "            val = lookup_function((c_id, p_id), target_dict_wk10)\n",
    "        elif s == 11:\n",
    "            val = lookup_function((c_id, p_id), target_dict_wk11)\n",
    "        else:\n",
    "            print('Warning unexpected behaviour')\n",
    "        f.write(str(i)+','+str(val)+'\\n')\n",
    "    f.close()\n",
    "\n",
    "write_submission(df_test, lookup_else_insert_mean,\n",
    "                 dict_wk10, dict_wk11,\n",
    "                 '../submissions/submission_13.csv')"
   ]
  },
  {
   "cell_type": "code",
   "execution_count": 30,
   "metadata": {
    "collapsed": true
   },
   "outputs": [],
   "source": []
  },
  {
   "cell_type": "markdown",
   "metadata": {},
   "source": [
    "I wonder what I can learn about the `demand_mean_lastXweeks` features. "
   ]
  },
  {
   "cell_type": "code",
   "execution_count": 41,
   "metadata": {
    "collapsed": true
   },
   "outputs": [],
   "source": [
    "demand_sorted_4wk = df.demand_log_mean_last4weeks.sort_values(ascending=True)\n",
    "demand_sorted_5wk = df.demand_log_mean_last5weeks.sort_values(ascending=True)\n",
    "demand_sorted_6wk = df.demand_log_mean_last6weeks.sort_values(ascending=True)\n",
    "demand_log_transform_mean = df.demand_log_transform_mean.sort_values(ascending=True)"
   ]
  },
  {
   "cell_type": "code",
   "execution_count": 43,
   "metadata": {
    "collapsed": false
   },
   "outputs": [
    {
     "data": {
      "image/png": "[encoded data removed]",
      "text/plain": [
       "<matplotlib.figure.Figure at 0x29ff05c7ba8>"
      ]
     },
     "metadata": {},
     "output_type": "display_data"
    },
    {
     "data": {
      "image/png": "[encoded data removed]",
      "text/plain": [
       "<matplotlib.figure.Figure at 0x29ff0a9e550>"
      ]
     },
     "metadata": {},
     "output_type": "display_data"
    },
    {
     "data": {
      "image/png": "[encoded data removed]",
      "text/plain": [
       "<matplotlib.figure.Figure at 0x29ff06e8c18>"
      ]
     },
     "metadata": {},
     "output_type": "display_data"
    }
   ],
   "source": [
    "cutoff = 30\n",
    "\n",
    "demand_sorted_4wk[demand_sorted_4wk < cutoff].hist(alpha=0.7, bins=cutoff);\n",
    "plt.title(\"Log-exp mean - last 4 non NaN weeks\")\n",
    "plt.show()\n",
    "\n",
    "demand_sorted_5wk[demand_sorted_5wk < cutoff].hist(alpha=0.7, bins=cutoff);\n",
    "plt.title(\"Log-exp mean - last 5 non NaN weeks\")\n",
    "plt.show()\n",
    "\n",
    "demand_sorted_6wk[demand_sorted_6wk < cutoff].hist(alpha=0.7, bins=cutoff);\n",
    "plt.title(\"Log-exp mean - last 6 non NaN weeks\")\n",
    "plt.show()"
   ]
  },
  {
   "cell_type": "markdown",
   "metadata": {},
   "source": [
    "They are basically identical. "
   ]
  },
  {
   "cell_type": "markdown",
   "metadata": {},
   "source": [
    "### Random forests with more variables and more data\n",
    "Bring in more feautres. Tonight see if I can use 3. For a better result, I could compute the average difference in weeks demands and feed it in as another feature. I could also try standardizing all features."
   ]
  },
  {
   "cell_type": "code",
   "execution_count": 12,
   "metadata": {
    "collapsed": false
   },
   "outputs": [
    {
     "name": "stdout",
     "output_type": "stream",
     "text": [
      "0 Cliente_ID\n",
      "1 Producto_ID\n",
      "2 demand_w3\n",
      "3 demand_w4\n",
      "4 demand_w5\n",
      "5 demand_log_mean_last6weeks\n"
     ]
    }
   ],
   "source": [
    "for i, c in enumerate(df.columns):\n",
    "    print(i, c)"
   ]
  },
  {
   "cell_type": "markdown",
   "metadata": {},
   "source": [
    "Training to predict demand for a gien week $w_i$ using the previous weeks ${w_{j<i}}$ demand. Due to memory considerations with my 8gb machine, I may have to settle for only a few feautres. In any case, it would be redundant to use more than one mean feautre.\n",
    "\n",
    "Lets train a model to use week 3 and 4 data (plus mean) to predict week 5 demand. We are only using a fraction of the data and (mostly) ignoring weeks 5, 6, 7, 8 and 9. My idea right now is to train a set of models on different parts of the data and take averages / modes of predictions."
   ]
  },
  {
   "cell_type": "code",
   "execution_count": 13,
   "metadata": {
    "collapsed": true
   },
   "outputs": [],
   "source": [
    "def get_features(df, features, target):\n",
    "    ''' Return numpy array of values. '''\n",
    "    return df.iloc[:, features].values, df[target]"
   ]
  },
  {
   "cell_type": "code",
   "execution_count": 21,
   "metadata": {
    "collapsed": true
   },
   "outputs": [],
   "source": [
    "def get_test_features(df, features):\n",
    "    ''' Return numpy array of values. '''\n",
    "    return df.iloc[:, features].values"
   ]
  },
  {
   "cell_type": "code",
   "execution_count": 17,
   "metadata": {
    "collapsed": false
   },
   "outputs": [
    {
     "name": "stdout",
     "output_type": "stream",
     "text": [
      "Wall time: 323 ms\n"
     ]
    }
   ],
   "source": [
    "%%time\n",
    "X_train, y_train = get_features(df=df, # note: swapped to df (training on inserted demand values)\n",
    "                                features=(2, 3, 5), # See above for key lookup\n",
    "                                target='demand_w5')"
   ]
  },
  {
   "cell_type": "code",
   "execution_count": 19,
   "metadata": {
    "collapsed": false
   },
   "outputs": [
    {
     "name": "stdout",
     "output_type": "stream",
     "text": [
      "Wall time: 39.6 s\n"
     ]
    }
   ],
   "source": [
    "%%time\n",
    "clf = DecisionTreeClassifier(max_depth=10)\n",
    "clf.fit(X_train, y_train)"
   ]
  },
  {
   "cell_type": "code",
   "execution_count": 38,
   "metadata": {
    "collapsed": false
   },
   "outputs": [
    {
     "name": "stdout",
     "output_type": "stream",
     "text": [
      "0 Cliente_ID\n",
      "1 Producto_ID\n",
      "2 demand_w3\n",
      "3 demand_w4\n",
      "4 demand_w5\n",
      "5 demand_log_mean_last6weeks\n"
     ]
    }
   ],
   "source": [
    "for i, c in enumerate(df.columns):\n",
    "    print(i, c)"
   ]
  },
  {
   "cell_type": "code",
   "execution_count": 39,
   "metadata": {
    "collapsed": false
   },
   "outputs": [
    {
     "name": "stderr",
     "output_type": "stream",
     "text": [
      "100%|████████████████████████████████████████████████████████████████████████████████| 265/265 [02:44<00:00,  1.61it/s]"
     ]
    },
    {
     "name": "stdout",
     "output_type": "stream",
     "text": [
      "Done\n",
      "Wall time: 2min 46s\n"
     ]
    },
    {
     "name": "stderr",
     "output_type": "stream",
     "text": [
      "\n"
     ]
    }
   ],
   "source": [
    "%%time\n",
    "y_pred = []\n",
    "batch = 100000\n",
    "for i in tqdm(range(int(np.ceil(len(df)/batch))+1)):\n",
    "    try:\n",
    "        X_test = get_test_features(df=df.iloc[i*batch:(i+1)*batch],\n",
    "                                        features=(2, 3, 5))\n",
    "    except:\n",
    "        print('Final batch')\n",
    "        X_test = get_test_features(df=df.iloc[i*batch:],\n",
    "                                        features=(2, 3, 5))\n",
    "    try:\n",
    "        y_pred.extend(list(clf.predict(X_test)))\n",
    "    except:\n",
    "        print('Done')\n",
    "        \n",
    "y_pred = np.array(y_pred)"
   ]
  },
  {
   "cell_type": "code",
   "execution_count": 40,
   "metadata": {
    "collapsed": false
   },
   "outputs": [],
   "source": [
    "df['demand_wk10_predict'] = y_pred"
   ]
  },
  {
   "cell_type": "code",
   "execution_count": 41,
   "metadata": {
    "collapsed": false
   },
   "outputs": [
    {
     "name": "stdout",
     "output_type": "stream",
     "text": [
      "0 Semana\n",
      "1 Cliente_ID\n",
      "2 Producto_ID\n"
     ]
    }
   ],
   "source": [
    "for i, n in enumerate(df.columns):\n",
    "    print(i, n)"
   ]
  },
  {
   "cell_type": "code",
   "execution_count": 42,
   "metadata": {
    "collapsed": false
   },
   "outputs": [
    {
     "name": "stderr",
     "output_type": "stream",
     "text": [
      "100%|████████████████████████████████████████████████████████████████████████████████| 265/265 [02:30<00:00,  1.76it/s]"
     ]
    },
    {
     "name": "stdout",
     "output_type": "stream",
     "text": [
      "Done\n",
      "Wall time: 2min 32s\n"
     ]
    },
    {
     "name": "stderr",
     "output_type": "stream",
     "text": [
      "\n"
     ]
    }
   ],
   "source": [
    "%%time\n",
    "y_pred = []\n",
    "batch = 100000\n",
    "for i in tqdm(range(int(np.ceil(len(df)/batch))+1)):\n",
    "    try:\n",
    "        X_test = get_test_features(df=df.iloc[i*batch:(i+1)*batch],\n",
    "                                        features=(3, 6, 5))\n",
    "    except:\n",
    "        print('Final batch')\n",
    "        X_test = get_test_features(df=df.iloc[i*batch:],\n",
    "                                        features=(3, 6, 5))\n",
    "    try:\n",
    "        y_pred.extend(list(clf.predict(X_test)))\n",
    "    except:\n",
    "        print('Done')\n",
    "        \n",
    "y_pred = np.array(y_pred)"
   ]
  },
  {
   "cell_type": "code",
   "execution_count": 44,
   "metadata": {
    "collapsed": false
   },
   "outputs": [],
   "source": [
    "df['demand_wk11_predict'] = y_pred"
   ]
  },
  {
   "cell_type": "code",
   "execution_count": 45,
   "metadata": {
    "collapsed": false
   },
   "outputs": [],
   "source": [
    "def make_dict(df, column):\n",
    "    dict_client_product = {str(c)+' '+str(p): int(d) for c, p, d in\n",
    "                           zip(df.Cliente_ID, df.Producto_ID, df[column])}\n",
    "    return dict_client_product\n",
    "\n",
    "dict_wk10 = make_dict(df, 'demand_wk10_predict')\n",
    "dict_wk11 = make_dict(df, 'demand_wk11_predict')"
   ]
  },
  {
   "cell_type": "code",
   "execution_count": 52,
   "metadata": {
    "collapsed": true
   },
   "outputs": [],
   "source": [
    "with open('sub14_wk10dict.json', 'w') as f:\n",
    "    json.dump(dict_wk10, f)\n",
    "\n",
    "with open('sub14_wk11dict.json', 'w') as f:\n",
    "    json.dump(dict_wk11, f)"
   ]
  },
  {
   "cell_type": "code",
   "execution_count": 53,
   "metadata": {
    "collapsed": false
   },
   "outputs": [
    {
     "name": "stderr",
     "output_type": "stream",
     "text": [
      "6999251it [52:53, 2205.80it/s] "
     ]
    },
    {
     "name": "stdout",
     "output_type": "stream",
     "text": [
      "Wall time: 52min 53s\n"
     ]
    },
    {
     "name": "stderr",
     "output_type": "stream",
     "text": [
      "\n"
     ]
    }
   ],
   "source": [
    "%%time\n",
    "\n",
    "def lookup_else_insert_mean(x, target_dict):\n",
    "    c_id, p_id = x\n",
    "    try:\n",
    "        val = target_dict[str(c_id)+' '+str(p_id)]\n",
    "    except:\n",
    "        val = dict_product_mean[p_id]\n",
    "    return val\n",
    "\n",
    "def write_submission(df, lookup_function, target_dict_wk10,\n",
    "                     target_dict_wk11, file):\n",
    "    f = open(file, 'w')\n",
    "    f.write('id,Demanda_uni_equil\\n')\n",
    "    for i, (c_id, p_id, s) in tqdm(enumerate(zip(df.Cliente_ID.values,\n",
    "                                                df.Producto_ID.values,\n",
    "                                                df.Semana.values))):\n",
    "        if s == 10:\n",
    "            val = lookup_function((c_id, p_id), target_dict_wk10)\n",
    "        elif s == 11:\n",
    "            val = lookup_function((c_id, p_id), target_dict_wk11)\n",
    "        else:\n",
    "            print('Warning unexpected behaviour')\n",
    "        f.write(str(i)+','+str(val)+'\\n')\n",
    "    f.close()\n",
    "\n",
    "write_submission(df_test, lookup_else_insert_mean,\n",
    "                 dict_wk10, dict_wk11,\n",
    "                 '../submissions/submission_14.csv')"
   ]
  },
  {
   "cell_type": "markdown",
   "metadata": {},
   "source": [
    "Can we fit __more than 3 features__ into memory for fitting?? What if we swap back to a random forest, then how many features can we use??"
   ]
  },
  {
   "cell_type": "code",
   "execution_count": 59,
   "metadata": {
    "collapsed": false
   },
   "outputs": [
    {
     "name": "stdout",
     "output_type": "stream",
     "text": [
      "0 Cliente_ID\n",
      "1 Producto_ID\n",
      "2 demand_w3\n",
      "3 demand_w4\n",
      "4 demand_w5\n",
      "5 demand_w6\n",
      "6 demand_w7\n",
      "7 demand_w8\n",
      "8 demand_w9\n",
      "9 demand_log_mean_last6weeks\n"
     ]
    }
   ],
   "source": [
    "for i, d in enumerate(df.columns):\n",
    "    print(i, d)"
   ]
  },
  {
   "cell_type": "code",
   "execution_count": 61,
   "metadata": {
    "collapsed": false
   },
   "outputs": [
    {
     "name": "stdout",
     "output_type": "stream",
     "text": [
      "Wall time: 1min 58s\n"
     ]
    }
   ],
   "source": [
    "%%time\n",
    "X_train, y_train = get_features(df=df, # note: swapped to df (training on inserted demand values)\n",
    "                                features=(2, 3, 4, 5, 6, 7, 9), # See above for key lookup\n",
    "                                target='demand_w9')\n",
    "\n",
    "clf = DecisionTreeClassifier(max_depth=10)\n",
    "clf.fit(X_train, y_train)"
   ]
  },
  {
   "cell_type": "markdown",
   "metadata": {},
   "source": [
    "### Random forest with 10 estimators, max depth 10"
   ]
  },
  {
   "cell_type": "code",
   "execution_count": 9,
   "metadata": {
    "collapsed": true
   },
   "outputs": [],
   "source": [
    "def get_features(df, features, target):\n",
    "    ''' Return numpy array of values. '''\n",
    "    return df.iloc[:, features].values, df[target]"
   ]
  },
  {
   "cell_type": "code",
   "execution_count": 10,
   "metadata": {
    "collapsed": true
   },
   "outputs": [],
   "source": [
    "def get_test_features(df, features):\n",
    "    ''' Return numpy array of values. '''\n",
    "    return df.iloc[:, features].values"
   ]
  },
  {
   "cell_type": "code",
   "execution_count": 7,
   "metadata": {
    "collapsed": false
   },
   "outputs": [
    {
     "name": "stdout",
     "output_type": "stream",
     "text": [
      "0 Cliente_ID\n",
      "1 Producto_ID\n",
      "2 demand_w3\n",
      "3 demand_w4\n",
      "4 demand_w5\n",
      "5 demand_w6\n",
      "6 demand_w7\n",
      "7 demand_w8\n",
      "8 demand_w9\n",
      "9 demand_log_mean_last6weeks\n"
     ]
    }
   ],
   "source": [
    "for i, d in enumerate(df.columns):\n",
    "    print(i, d)"
   ]
  },
  {
   "cell_type": "code",
   "execution_count": 11,
   "metadata": {
    "collapsed": false
   },
   "outputs": [
    {
     "name": "stdout",
     "output_type": "stream",
     "text": [
      "Wall time: 6min 42s\n"
     ]
    }
   ],
   "source": [
    "%%time\n",
    "X_train, y_train = get_features(df=df, # note: swapped to df (training on inserted demand values)\n",
    "                                features=(2, 3, 4, 5, 6, 7, 9), # See above for key lookup\n",
    "                                target='demand_w9')\n",
    "\n",
    "clf = RandomForestClassifier(n_estimators=10, max_depth=10)\n",
    "clf.fit(X_train, y_train)"
   ]
  },
  {
   "cell_type": "code",
   "execution_count": 12,
   "metadata": {
    "collapsed": false
   },
   "outputs": [
    {
     "name": "stderr",
     "output_type": "stream",
     "text": [
      "100%|██████████████████████████████████████████████████████████████████████████████| 265/265 [4:56:05<00:00, 40.66s/it]\n",
      "100%|█████████████████████████████████████████████████████████████████████████████▋| 264/265 [5:35:29<01:15, 75.00s/it]"
     ]
    },
    {
     "name": "stdout",
     "output_type": "stream",
     "text": [
      "Done\n",
      "Done"
     ]
    },
    {
     "name": "stderr",
     "output_type": "stream",
     "text": [
      "100%|██████████████████████████████████████████████████████████████████████████████| 265/265 [5:35:34<00:00, 53.94s/it]\n",
      "6999251it [01:14, 93533.95it/s]"
     ]
    },
    {
     "name": "stdout",
     "output_type": "stream",
     "text": [
      "\n",
      "Wall time: 10h 46min 58s\n"
     ]
    },
    {
     "name": "stderr",
     "output_type": "stream",
     "text": [
      "\n"
     ]
    }
   ],
   "source": [
    "%%time\n",
    "\n",
    "### Predict week 10\n",
    "\n",
    "y_pred = []\n",
    "batch = 100000\n",
    "for i in tqdm(range(int(np.ceil(len(df)/batch))+1)):\n",
    "    try:\n",
    "        X_test = get_test_features(df=df.iloc[i*batch:(i+1)*batch],\n",
    "                                        features=(3, 4, 5, 6, 7, 8, 9))\n",
    "    except:\n",
    "        print('Final batch')\n",
    "        X_test = get_test_features(df=df.iloc[i*batch:],\n",
    "                                        features=(3, 4, 5, 6, 7, 8, 9))\n",
    "    try:\n",
    "        y_pred.extend(list(clf.predict(X_test)))\n",
    "    except:\n",
    "        print('Done')\n",
    "        \n",
    "y_pred = np.array(y_pred)\n",
    "\n",
    "df['demand_wk10_predict'] = y_pred\n",
    "\n",
    "### Predict week 11 (using week 10 prediction as a feature)\n",
    "\n",
    "y_pred = []\n",
    "batch = 100000\n",
    "for i in tqdm(range(int(np.ceil(len(df)/batch))+1)):\n",
    "    try:\n",
    "        X_test = get_test_features(df=df.iloc[i*batch:(i+1)*batch],\n",
    "                                        features=(4, 5, 6, 7, 8, 10, 9))\n",
    "    except:\n",
    "        print('Final batch')\n",
    "        X_test = get_test_features(df=df.iloc[i*batch:],\n",
    "                                        features=(4, 5, 6, 7, 8, 10, 9))\n",
    "    try:\n",
    "        y_pred.extend(list(clf.predict(X_test)))\n",
    "    except:\n",
    "        print('Done')\n",
    "        \n",
    "y_pred = np.array(y_pred)\n",
    "\n",
    "df['demand_wk11_predict'] = y_pred\n",
    "\n",
    "### Make lookup dicts\n",
    "\n",
    "def make_dict(df, column):\n",
    "    dict_client_product = {str(c)+' '+str(p): int(d) for c, p, d in\n",
    "                           zip(df.Cliente_ID, df.Producto_ID, df[column])}\n",
    "    return dict_client_product\n",
    "\n",
    "dict_wk10 = make_dict(df, 'demand_wk10_predict')\n",
    "dict_wk11 = make_dict(df, 'demand_wk11_predict')\n",
    "\n",
    "### Save lookup dicts\n",
    "\n",
    "with open('sub14_wk10dict.json', 'w') as f:\n",
    "    json.dump(dict_wk10, f)\n",
    "\n",
    "with open('sub14_wk11dict.json', 'w') as f:\n",
    "    json.dump(dict_wk11, f)\n",
    "\n",
    "### Make submission using test data\n",
    "\n",
    "def lookup_else_insert_mean(x, target_dict):\n",
    "    c_id, p_id = x\n",
    "    try:\n",
    "        val = target_dict[str(c_id)+' '+str(p_id)]\n",
    "    except:\n",
    "        val = dict_product_mean[p_id]\n",
    "    return val\n",
    "\n",
    "def write_submission(df, lookup_function, target_dict_wk10,\n",
    "                     target_dict_wk11, file):\n",
    "    f = open(file, 'w')\n",
    "    f.write('id,Demanda_uni_equil\\n')\n",
    "    for i, (c_id, p_id, s) in tqdm(enumerate(zip(df.Cliente_ID.values,\n",
    "                                                df.Producto_ID.values,\n",
    "                                                df.Semana.values))):\n",
    "        if s == 10:\n",
    "            val = lookup_function((c_id, p_id), target_dict_wk10)\n",
    "        elif s == 11:\n",
    "            val = lookup_function((c_id, p_id), target_dict_wk11)\n",
    "        else:\n",
    "            print('Warning unexpected behaviour')\n",
    "        f.write(str(i)+','+str(val)+'\\n')\n",
    "    f.close()\n",
    "\n",
    "write_submission(df_test, lookup_else_insert_mean,\n",
    "                 dict_wk10, dict_wk11,\n",
    "                 '../submissions/submission_15.csv')"
   ]
  },
  {
   "cell_type": "markdown",
   "metadata": {
    "collapsed": false
   },
   "source": [
    "The model above scored about equal to the 6 week log-adjusted average submission. Sooooo. Not very good. I'm in the bottom half again. I'll try adding the other features - plus one I found in a kaggle script."
   ]
  },
  {
   "cell_type": "markdown",
   "metadata": {
    "collapsed": true
   },
   "source": [
    "### Using better features random forest with 10 trees and max depth 15"
   ]
  },
  {
   "cell_type": "code",
   "execution_count": 10,
   "metadata": {
    "collapsed": true
   },
   "outputs": [],
   "source": [
    "def get_features(df, features, target):\n",
    "    ''' Return numpy array of values. '''\n",
    "    return df.iloc[:, features].values, df[target]\n",
    "\n",
    "def get_test_features(df, features):\n",
    "    ''' Return numpy array of values. '''\n",
    "    return df.iloc[:, features].values"
   ]
  },
  {
   "cell_type": "code",
   "execution_count": 11,
   "metadata": {
    "collapsed": false
   },
   "outputs": [
    {
     "name": "stdout",
     "output_type": "stream",
     "text": [
      "0 Agencia_ID\n",
      "1 Ruta_SAK\n",
      "2 Cliente_ID\n",
      "3 Producto_ID\n",
      "4 demand_w5\n",
      "5 demand_w6\n",
      "6 demand_w7\n",
      "7 demand_w8\n",
      "8 demand_w9\n",
      "9 demand_log_mean_last6weeks\n",
      "10 NombreCliente_id\n"
     ]
    }
   ],
   "source": [
    "for i, d in enumerate(df.columns):\n",
    "    print(i, d)"
   ]
  },
  {
   "cell_type": "markdown",
   "metadata": {},
   "source": [
    "## ADJUST FEATURES BEFORE RUNNING THIS"
   ]
  },
  {
   "cell_type": "code",
   "execution_count": null,
   "metadata": {
    "collapsed": false
   },
   "outputs": [],
   "source": [
    "%%time \n",
    "X_train, y_train = get_features(df=df, # note: swapped to df (training on inserted demand values)\n",
    "                                features=(0, 1, 4, 5, 6, 7, 9, 10), # See above for key lookup\n",
    "                                target='demand_w9')\n",
    "\n",
    "clf = RandomForestClassifier(n_estimators=10, max_depth=15)\n",
    "clf.fit(X_train, y_train)"
   ]
  },
  {
   "cell_type": "code",
   "execution_count": null,
   "metadata": {
    "collapsed": true
   },
   "outputs": [],
   "source": [
    "%%time\n",
    "\n",
    "### Predict week 10\n",
    "\n",
    "y_pred = []\n",
    "batch = 100000\n",
    "for i in tqdm(range(int(np.ceil(len(df)/batch))+1)):\n",
    "    try:\n",
    "        X_test = get_test_features(df=df.iloc[i*batch:(i+1)*batch],\n",
    "                                        features=(0, 1, 5, 6, 7, 8, 9, 10))\n",
    "    except:\n",
    "        print('Final batch')\n",
    "        X_test = get_test_features(df=df.iloc[i*batch:],\n",
    "                                        features=(0, 1, 5, 6, 7, 8, 9, 10))\n",
    "    try:\n",
    "        y_pred.extend(list(clf.predict(X_test)))\n",
    "    except:\n",
    "        print('Done')\n",
    "        \n",
    "y_pred = np.array(y_pred)\n",
    "\n",
    "df['demand_wk10_predict'] = y_pred\n",
    "\n",
    "### Predict week 11 (using week 10 prediction as a feature)\n",
    "\n",
    "y_pred = []\n",
    "batch = 100000\n",
    "for i in tqdm(range(int(np.ceil(len(df)/batch))+1)):\n",
    "    try:\n",
    "        X_test = get_test_features(df=df.iloc[i*batch:(i+1)*batch],\n",
    "                                        features=(0, 1, 6, 7, 8, 11, 9, 10))\n",
    "    except:\n",
    "        print('Final batch')\n",
    "        X_test = get_test_features(df=df.iloc[i*batch:],\n",
    "                                        features=(0, 1, 6, 7, 8, 11, 9, 10))\n",
    "    try:\n",
    "        y_pred.extend(list(clf.predict(X_test)))\n",
    "    except:\n",
    "        print('Done')\n",
    "        \n",
    "y_pred = np.array(y_pred)\n",
    "\n",
    "df['demand_wk11_predict'] = y_pred\n",
    "\n",
    "### Make lookup dicts\n",
    "\n",
    "def make_dict(df, column):\n",
    "    dict_client_product = {str(c)+' '+str(p): int(d) for c, p, d in\n",
    "                           zip(df.Cliente_ID, df.Producto_ID, df[column])}\n",
    "    return dict_client_product\n",
    "\n",
    "dict_wk10 = make_dict(df, 'demand_wk10_predict')\n",
    "dict_wk11 = make_dict(df, 'demand_wk11_predict')\n",
    "\n",
    "### Save lookup dicts\n",
    "\n",
    "with open('sub14_wk10dict.json', 'w') as f:\n",
    "    json.dump(dict_wk10, f)\n",
    "\n",
    "with open('sub14_wk11dict.json', 'w') as f:\n",
    "    json.dump(dict_wk11, f)\n",
    "\n",
    "### Make submission using test data\n",
    "\n",
    "def lookup_else_insert_mean(x, target_dict):\n",
    "    c_id, p_id = x\n",
    "    try:\n",
    "        val = target_dict[str(c_id)+' '+str(p_id)]\n",
    "    except:\n",
    "        val = dict_product_mean[p_id]\n",
    "    return val\n",
    "\n",
    "def write_submission(df, lookup_function, target_dict_wk10,\n",
    "                     target_dict_wk11, file):\n",
    "    f = open(file, 'w')\n",
    "    f.write('id,Demanda_uni_equil\\n')\n",
    "    for i, (c_id, p_id, s) in tqdm(enumerate(zip(df.Cliente_ID.values,\n",
    "                                                df.Producto_ID.values,\n",
    "                                                df.Semana.values))):\n",
    "        if s == 10:\n",
    "            val = lookup_function((c_id, p_id), target_dict_wk10)\n",
    "        elif s == 11:\n",
    "            val = lookup_function((c_id, p_id), target_dict_wk11)\n",
    "        else:\n",
    "            print('Warning unexpected behaviour')\n",
    "            val = overall_mean\n",
    "        f.write(str(i)+','+str(val)+'\\n')\n",
    "    f.close()\n",
    "\n",
    "write_submission(df_test, lookup_else_insert_mean,\n",
    "                 dict_wk10, dict_wk11,\n",
    "                 '../submissions/submission_16.csv')"
   ]
  },
  {
   "cell_type": "code",
   "execution_count": null,
   "metadata": {
    "collapsed": true
   },
   "outputs": [],
   "source": []
  },
  {
   "cell_type": "code",
   "execution_count": null,
   "metadata": {
    "collapsed": true
   },
   "outputs": [],
   "source": []
  },
  {
   "cell_type": "code",
   "execution_count": null,
   "metadata": {
    "collapsed": true
   },
   "outputs": [],
   "source": []
  },
  {
   "cell_type": "code",
   "execution_count": null,
   "metadata": {
    "collapsed": true
   },
   "outputs": [],
   "source": []
  },
  {
   "cell_type": "markdown",
   "metadata": {},
   "source": [
    "Using __larger training sets by extracting properly from df__. This is hard-coded for a given set of features. Below we consider the previous two weeks of lag for demand plus the average."
   ]
  },
  {
   "cell_type": "code",
   "execution_count": 58,
   "metadata": {
    "collapsed": false
   },
   "outputs": [
    {
     "name": "stdout",
     "output_type": "stream",
     "text": [
      "0 Cliente_ID\n",
      "1 Producto_ID\n",
      "2 demand_w3\n",
      "3 demand_w4\n",
      "4 demand_w5\n",
      "5 demand_w6\n",
      "6 demand_w7\n",
      "7 demand_w8\n",
      "8 demand_w9\n",
      "9 demand_log_mean_last6weeks\n"
     ]
    }
   ],
   "source": [
    "for i, c in enumerate(df.columns):\n",
    "    print(i, c)"
   ]
  },
  {
   "cell_type": "code",
   "execution_count": null,
   "metadata": {
    "collapsed": true
   },
   "outputs": [],
   "source": [
    "def get_features(df, features, target):\n",
    "    ''' Return numpy array of values. '''\n",
    "    return df.iloc[:, features].values, df[target]"
   ]
  },
  {
   "cell_type": "code",
   "execution_count": null,
   "metadata": {
    "collapsed": true
   },
   "outputs": [],
   "source": [
    "%%time\n",
    "# Aggregate training data for two week lagged predictions\n",
    "X_train, y_train = get_features(df=df, # note: swapped to df (training on inserted demand values)\n",
    "                                features=(2, 3, 9), # See above for key lookup\n",
    "                                target='demand_w5')\n",
    "\n",
    "X, y = get_features(df=df, # note: swapped to df (training on inserted demand values)\n",
    "                    features=(3, 4, 9), # See above for key lookup\n",
    "                    target='demand_w6')\n",
    "X_train = np.concatenate((X_train, X))\n",
    "y_train = np.concatenate((y_train, y))\n",
    "\n",
    "X, y = get_features(df=df,\n",
    "                    features=(4, 5, 9), # See above for key lookup\n",
    "                    target='demand_w7')\n",
    "X_train = np.concatenate((X_train, X))\n",
    "y_train = np.concatenate((y_train, y))\n",
    "\n",
    "X, y = get_features(df=df,\n",
    "                    features=(5, 6, 9), # See above for key lookup\n",
    "                    target='demand_w8')\n",
    "X_train = np.concatenate((X_train, X))\n",
    "y_train = np.concatenate((y_train, y))\n",
    "\n",
    "X, y = get_features(df=df,\n",
    "                    features=(6, 7, 9), # See above for key lookup\n",
    "                    target='demand_w9')\n",
    "X_train = np.concatenate((X_train, X))\n",
    "y_train = np.concatenate((y_train, y))"
   ]
  },
  {
   "cell_type": "code",
   "execution_count": 57,
   "metadata": {
    "collapsed": false
   },
   "outputs": [
    {
     "data": {
      "text/plain": [
       "array([[1, 2, 3],\n",
       "       [5, 5, 6],\n",
       "       [1, 2, 1],\n",
       "       [3, 3, 3],\n",
       "       [5, 4, 6],\n",
       "       [4, 2, 4]])"
      ]
     },
     "execution_count": 57,
     "metadata": {},
     "output_type": "execute_result"
    }
   ],
   "source": [
    "np.concatenate((a, b))"
   ]
  },
  {
   "cell_type": "code",
   "execution_count": null,
   "metadata": {
    "collapsed": true
   },
   "outputs": [],
   "source": []
  },
  {
   "cell_type": "code",
   "execution_count": null,
   "metadata": {
    "collapsed": true
   },
   "outputs": [],
   "source": []
  },
  {
   "cell_type": "code",
   "execution_count": null,
   "metadata": {
    "collapsed": true
   },
   "outputs": [],
   "source": []
  },
  {
   "cell_type": "code",
   "execution_count": null,
   "metadata": {
    "collapsed": true
   },
   "outputs": [],
   "source": []
  },
  {
   "cell_type": "code",
   "execution_count": null,
   "metadata": {
    "collapsed": true
   },
   "outputs": [],
   "source": []
  },
  {
   "cell_type": "code",
   "execution_count": null,
   "metadata": {
    "collapsed": true
   },
   "outputs": [],
   "source": []
  }
 ],
 "metadata": {
  "kernelspec": {
   "display_name": "Python 3",
   "language": "python",
   "name": "python3"
  },
  "language_info": {
   "codemirror_mode": {
    "name": "ipython",
    "version": 3
   },
   "file_extension": ".py",
   "mimetype": "text/x-python",
   "name": "python",
   "nbconvert_exporter": "python",
   "pygments_lexer": "ipython3",
   "version": "3.5.1"
  }
 },
 "nbformat": 4,
 "nbformat_minor": 0
}
