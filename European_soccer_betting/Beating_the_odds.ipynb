{
 "cells": [
  {
   "cell_type": "code",
   "execution_count": 3,
   "metadata": {
    "collapsed": true
   },
   "outputs": [],
   "source": [
    "import sys\n",
    "sys.path.append('C:/Anaconda3/Lib/site-packages')\n",
    "\n",
    "import sqlite3\n",
    "import numpy as np\n",
    "import matplotlib.pyplot as plt\n",
    "%matplotlib inline\n",
    "import pandas as pd"
   ]
  },
  {
   "cell_type": "markdown",
   "metadata": {},
   "source": [
    "## European Football Kaggle Database\n",
    "Author: Alex Galea\n",
    "- +25,000 matches\n",
    "- +10,000 players\n",
    "- 11 European Countries with their lead championship\n",
    "- Seasons 2008 to 2016\n",
    "- Player's statistics sourced from EA Sports' FIFA video game series, including the weekly updates\n",
    "- Team line up with squad formation (X, Y coordinates)\n",
    "- Betting odds from up to 10 providers\n",
    "- Detailed match events (goal types, possession, corner, cross, fouls, cards etc...) for +10,000 matches\n",
    "---\n",
    "I would like to develop an algorithm for identifying \"good bets\" where the better is likely to beat the odds. This is a supervised learning problem where the target is probably a binary classification (win/loss or over/under).\n",
    "\n",
    "The idea here is not to try and predict the winner, but instead guess probabilities and identify situations where you can \"beat the odds\". For example: for a given team and season, compute the probabilities of winning the bet for each game and compare to the odds. Then look at the cases where there is the largest difference between predicted probabilites and odds."
   ]
  },
  {
   "cell_type": "code",
   "execution_count": null,
   "metadata": {
    "collapsed": true
   },
   "outputs": [],
   "source": [
    "database = sqlite3.connect('database.sqlite')"
   ]
  }
 ],
 "metadata": {
  "kernelspec": {
   "display_name": "Python 3",
   "language": "python",
   "name": "python3"
  },
  "language_info": {
   "codemirror_mode": {
    "name": "ipython",
    "version": 3
   },
   "file_extension": ".py",
   "mimetype": "text/x-python",
   "name": "python",
   "nbconvert_exporter": "python",
   "pygments_lexer": "ipython3",
   "version": "3.5.1"
  }
 },
 "nbformat": 4,
 "nbformat_minor": 0
}
