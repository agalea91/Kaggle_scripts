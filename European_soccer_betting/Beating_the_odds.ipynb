{
 "cells": [
  {
   "cell_type": "code",
   "execution_count": 160,
   "metadata": {
    "collapsed": true
   },
   "outputs": [],
   "source": [
    "import sys\n",
    "sys.path.append('C:/Anaconda3/Lib/site-packages')\n",
    "\n",
    "import sqlite3\n",
    "import numpy as np\n",
    "import matplotlib.pyplot as plt\n",
    "%matplotlib inline\n",
    "import datetime as dt\n",
    "import traceback\n",
    "%load_ext snakeviz"
   ]
  },
  {
   "cell_type": "markdown",
   "metadata": {},
   "source": [
    "## European Football Kaggle Database\n",
    "Author: Alex Galea\n",
    "- +25,000 matches\n",
    "- +10,000 players\n",
    "- 11 European Countries with their lead championship\n",
    "- Seasons 2008 to 2016\n",
    "- Player's statistics sourced from EA Sports' FIFA video game series, including the weekly updates\n",
    "- Team line up with squad formation (X, Y coordinates)\n",
    "- Betting odds from up to 10 providers\n",
    "- Detailed match events (goal types, possession, corner, cross, fouls, cards etc...) for +10,000 matches\n",
    "---\n",
    "I would like to develop an algorithm for identifying \"good bets\" where the better is likely to beat the odds. This is a supervised learning problem where the target is probably a binary classification (win/loss or over/under).\n",
    "\n",
    "The idea here is not to try and predict the winner, but instead guess probabilities and identify situations where you can \"beat the odds\". For example: for a given team and season, compute the probabilities of winning the bet for each game and compare to the odds. Then look at the cases where there is the largest difference between predicted probabilites and odds."
   ]
  },
  {
   "cell_type": "code",
   "execution_count": 3,
   "metadata": {
    "collapsed": false
   },
   "outputs": [],
   "source": [
    "conn = sqlite3.connect('my_database.sqlite')\n",
    "c = conn.cursor()"
   ]
  },
  {
   "cell_type": "markdown",
   "metadata": {},
   "source": [
    "#### Team ID dictionaries"
   ]
  },
  {
   "cell_type": "code",
   "execution_count": 4,
   "metadata": {
    "collapsed": false
   },
   "outputs": [
    {
     "data": {
      "text/plain": [
       "[(0, 'id', 'INTEGER', 0, None, 1),\n",
       " (1, 'team_api_id', 'INTEGER', 0, None, 0),\n",
       " (2, 'team_long_name', 'TEXT', 0, None, 0),\n",
       " (3, 'team_short_name', 'TEXT', 0, None, 0)]"
      ]
     },
     "execution_count": 4,
     "metadata": {},
     "output_type": "execute_result"
    }
   ],
   "source": [
    "# ID key exists in the \"Team\" table\n",
    "c.execute('PRAGMA TABLE_INFO(Team)')\n",
    "c.fetchall()"
   ]
  },
  {
   "cell_type": "code",
   "execution_count": 161,
   "metadata": {
    "collapsed": false
   },
   "outputs": [
    {
     "name": "stdout",
     "output_type": "stream",
     "text": [
      "Final row reached (number 51538)\n",
      " \n",
      "*** Profile stats marshalled to file 'C:\\\\Users\\\\agale\\\\AppData\\\\Local\\\\Temp\\\\tmpd1tos14p'. \n"
     ]
    }
   ],
   "source": [
    "%%snakeviz\n",
    "\n",
    "Team_long, Team_short = {}, {}\n",
    "row_id = 0\n",
    "c.execute('SELECT MAX(id) FROM Team')\n",
    "max_id = c.fetchall()[0][0]\n",
    "while True:\n",
    "    try:\n",
    "        c.execute('SELECT team_api_id, team_long_name, team_short_name FROM Team WHERE id=\"{}\"'.\\\n",
    "                  format(row_id))\n",
    "        query = c.fetchall()[0]\n",
    "        Team_long[query[0]] = query[1]\n",
    "        Team_short[query[0]] = query[2]\n",
    "    except:\n",
    "        pass\n",
    "    if row_id == max_id:\n",
    "        print('Final row reached (number {0:s})'.format(str(row_id)))\n",
    "        break\n",
    "    row_id += 1"
   ]
  },
  {
   "cell_type": "code",
   "execution_count": 6,
   "metadata": {
    "collapsed": false
   },
   "outputs": [
    {
     "name": "stdout",
     "output_type": "stream",
     "text": [
      "Fortuna Duesseldorf FDU\n",
      "FC Zuerich ZUR\n",
      "Leicester LEI\n",
      "Montpellier MON\n",
      "KV Mechelen MEC\n",
      "Aston Villa AVL\n",
      "Troyes TRO\n",
      "Ajax AJA\n",
      "Wolfsburg WOL\n",
      "FC Cologne FCK\n",
      "...\n"
     ]
    }
   ],
   "source": [
    "for i in list(Team_long.keys())[:10]:\n",
    "    print(Team_long[i], Team_short[i])\n",
    "print('...')"
   ]
  },
  {
   "cell_type": "markdown",
   "metadata": {},
   "source": [
    "#### Useful features?\n",
    "This may involve a lot of data collection on my part.\n",
    "- teams\n",
    "    - include ELO score (points at that given time in the season) as a fraction (i.e. home_ELO_score/away_ELO_score). when extracting will have to assign ELO score of 1 if 0 (at start of season) to aviod dividing by zero errors with ratio\n",
    "    - home or away\n",
    "    - goals on the year\n",
    "- players\n",
    "    - cumulative player stats (i.e. total career goals)\n",
    "- meta\n",
    "    - betting odds?? since I'm ultimately comparing to the betting odds, is it cheating if I also include the average betting odds across all companies as a feature?\n",
    "\n",
    "*the Elo system is widely used by sharp bettors as a reliable tool in the search of value bets, i.e. bets with positive expected value, because it provides a solid statistical foundation for calculating the probabilities of the different outcomes with great accuracy.\n",
    "\n",
    "___\n",
    "\n",
    "Let's start with just the FIFA EA player data (which has time dependence!) and generate features for each game.\n",
    "\n",
    "- use average value of all players on the team\n",
    "    - break it down by position so that each has different weights?\n",
    "- do something else for binary features"
   ]
  },
  {
   "cell_type": "markdown",
   "metadata": {},
   "source": [
    "#### Add EA Sports player data to Match table"
   ]
  },
  {
   "cell_type": "code",
   "execution_count": 42,
   "metadata": {
    "collapsed": false
   },
   "outputs": [
    {
     "data": {
      "text/plain": [
       "25945"
      ]
     },
     "execution_count": 42,
     "metadata": {},
     "output_type": "execute_result"
    }
   ],
   "source": [
    "# c.execute('SELECT MAX(id) FROM Match')\n",
    "# max_id = c.fetchall()[0][0]\n",
    "\n",
    "# List of row ids for Match table\n",
    "c.execute('SELECT id FROM Match')\n",
    "Match_id = [f[0] for f in sorted(c.fetchall(), key=lambda x: x[0])]\n",
    "len(Match_id)"
   ]
  },
  {
   "cell_type": "code",
   "execution_count": 41,
   "metadata": {
    "collapsed": false
   },
   "outputs": [
    {
     "name": "stdout",
     "output_type": "stream",
     "text": [
      "1.0\n",
      "0.0\n",
      "0.952823280015\n"
     ]
    }
   ],
   "source": [
    "# Perentage of column that has an entry\n",
    "\n",
    "def isMatchElement(column, row_id):\n",
    "    c.execute('SELECT {0:s} FROM Match WHERE id=\"{1:d}\"'.\\\n",
    "              format(column, row_id))\n",
    "    query = c.fetchall()[0]\n",
    "    if not query[0]:\n",
    "        return False\n",
    "    else:\n",
    "        return True\n",
    "\n",
    "def fullFrac(column, Match_id):\n",
    "    column_isnul = [isMatchElement(column, row_id) for row_id in Match_id]\n",
    "    return np.sum(column_isnul)/len(column_isnul)\n",
    "\n",
    "full_frac = fullFrac('id', Match_id)\n",
    "print(full_frac)\n",
    "\n",
    "full_frac = fullFrac('goal', Match_id)\n",
    "print(full_frac)\n",
    "\n",
    "full_frac = fullFrac('home_player_1', Match_id)\n",
    "print(full_frac)"
   ]
  },
  {
   "cell_type": "markdown",
   "metadata": {},
   "source": [
    "What Y values are we dealing with and how can we determine forwards vs defense ..etc."
   ]
  },
  {
   "cell_type": "code",
   "execution_count": 71,
   "metadata": {
    "collapsed": false
   },
   "outputs": [
    {
     "data": {
      "text/plain": [
       "Counter({0: 22,\n",
       "         1: 24113,\n",
       "         3: 95306,\n",
       "         5: 2892,\n",
       "         6: 15787,\n",
       "         7: 58435,\n",
       "         8: 23311,\n",
       "         9: 2738,\n",
       "         10: 31029,\n",
       "         11: 11632,\n",
       "         None: 20130})"
      ]
     },
     "execution_count": 71,
     "metadata": {},
     "output_type": "execute_result"
    }
   ],
   "source": [
    "cols = \", \".join([\"away_player_Y\"+str(i) for i in range(1,12)])\n",
    "c.execute('SELECT {0:s} FROM Match'.\\\n",
    "         format(\", \".join([\"away_player_Y\"+str(i) for i in range(1,12)])))\n",
    "aa = c.fetchall()\n",
    "\n",
    "bb = np.array([a for row in aa for a in row])\n",
    "from collections import Counter\n",
    "Counter(bb)"
   ]
  },
  {
   "cell_type": "markdown",
   "metadata": {},
   "source": [
    "With motivation to keep the distribution as even as possible, we have:  \n",
    "1 - goalie  \n",
    "3 - defence  \n",
    "5, 6, 7 - mid  \n",
    "8, 9, 10, 11 - forward  \n",
    "\n",
    "Will have to be careful with the incomplete ones. For example we have some as follows:"
   ]
  },
  {
   "cell_type": "code",
   "execution_count": 74,
   "metadata": {
    "collapsed": false
   },
   "outputs": [
    {
     "data": {
      "text/plain": [
       "[(0, 0, None, None, None, None, None, None, None, None, None),\n",
       " (0, 0, None, None, None, None, None, None, None, None, None),\n",
       " (0, 0, None, None, None, None, None, None, None, None, None),\n",
       " (0, 0, None, None, None, None, None, None, None, None, None),\n",
       " (0, 0, None, None, None, None, None, None, None, None, None),\n",
       " (0, 0, None, None, None, None, None, None, None, None, None),\n",
       " (0, 0, None, None, None, None, None, None, None, None, None),\n",
       " (0, 0, None, None, None, None, None, None, None, None, None),\n",
       " (0, 0, None, None, None, None, None, None, None, None, None),\n",
       " (0, 0, None, None, None, None, None, None, None, None, None),\n",
       " (0, 0, None, None, None, None, None, None, None, None, None)]"
      ]
     },
     "execution_count": 74,
     "metadata": {},
     "output_type": "execute_result"
    }
   ],
   "source": [
    "[row for row in aa if row[0]==0]"
   ]
  },
  {
   "cell_type": "code",
   "execution_count": 144,
   "metadata": {
    "collapsed": false
   },
   "outputs": [
    {
     "name": "stdout",
     "output_type": "stream",
     "text": [
      "[(None, None, None, None, None, None, None, None, None, None, None), (None, None, None, None, None, None, None, None, None, None, None), (None, None, None, None, None, None, None, None, None, None, None), (None, None, None, None, None, None, None, None, None, None, None), (None, None, None, None, None, None, None, None, None, None, None), (None, None, None, None, None, None, None, None, None, None, None), (None, None, None, None, None, None, None, None, None, None, None), (None, None, None, None, None, None, None, None, None, None, None), (None, None, None, None, None, None, None, None, None, None, None), (None, None, None, None, None, None, None, None, None, None, None)]\n",
      "Ellipsis\n"
     ]
    }
   ],
   "source": [
    "print([row for row in aa if row[0]==None][:10])\n",
    "print('...')"
   ]
  },
  {
   "cell_type": "code",
   "execution_count": 157,
   "metadata": {
    "collapsed": false
   },
   "outputs": [
    {
     "name": "stdout",
     "output_type": "stream",
     "text": [
      "G\n",
      "38289\n",
      "[61 62 53 65 63]\n",
      "[ 0.  0.  0.  0.  0.]\n",
      "\n",
      "D\n",
      "38292\n",
      "[67 51 32 67 54 None 31 None 31 46 54 56 55 None 64 None 60 None 62 67 30\n",
      " 78 82 None 80 65 72 None]\n",
      "[ 0.  0.  0.  0.  0.  0.  0.  0.  0.  0.  0.  0.  0.  0.  0.  0.  0.  0.\n",
      "  0.  0.  0.  0.  0.  0.  0.  0.  0.  0.]\n",
      "LookupError\n",
      "Found null EA stats entry at stat_id=135847\n"
     ]
    },
    {
     "name": "stderr",
     "output_type": "stream",
     "text": [
      "  File \"<ipython-input-157-156781fcc063>\", line 116, in <module>\n",
      "    getTeamScores(i, 'home', EA_stats)\n",
      "  File \"<ipython-input-157-156781fcc063>\", line 84, in getTeamScores\n",
      "    raise LookupError('Found null EA stats entry at stat_id={}'.                                  format(best_date_id))\n"
     ]
    }
   ],
   "source": [
    "def getTeamScores(match_id, team, EA_stats,\n",
    "                  group='forward_mid_defense_goalie'):\n",
    "    ''' Return the cumulative average team scores for \n",
    "    a given EA Sports FIFA statistic.\n",
    "    team : str\n",
    "        'home' or 'away'\n",
    "    EA_stat : dict\n",
    "        Names of statistics to cumulate for goalie and players.\n",
    "        e.g. {'player': 'overall_rating, heading_accuracy',\n",
    "              'goalie': 'gk_diving, gk_handling'}\n",
    "    group : str\n",
    "        How to group scores:\n",
    "        'forward_mid_defense_goalie': output 4 values\n",
    "        'all': output 1 value (currently not implemented)\n",
    "    '''\n",
    "    \n",
    "    if team == 'home':\n",
    "        player_cols = ', '.join(['home_player_'+str(i) for i in range(1,12)])\n",
    "        player_Y_cols = ', '.join(['home_player_Y'+str(i) for i in range(1,12)])\n",
    "    elif team == 'away':\n",
    "        player_cols = ', '.join(['away_player_'+str(i) for i in range(1,12)])\n",
    "        player_Y_cols = ', '.join(['away_player_Y'+str(i) for i in range(1,12)])\n",
    "        \n",
    "    # Get the player ids from the Match table\n",
    "    c.execute('SELECT {0:s} FROM Match WHERE id={1:d}'.\\\n",
    "             format(player_cols, match_id))\n",
    "    player_api_id = np.array(c.fetchall()[0])\n",
    "    \n",
    "    # Exit if all items in the list are null\n",
    "    if False not in [p==0 or p==None for p in player_api_id]:\n",
    "        raise LookupError('Found null EA stats entry at match_id={}'.\\\n",
    "                                   format(match_id))\n",
    "    \n",
    "    # Get the player positions from the Match table\n",
    "    # We only care about the Y position to designate\n",
    "    # forwards, midfielders, defense, and goalie\n",
    "    c.execute('SELECT {0:s} FROM Match WHERE id={1:d}'.\\\n",
    "             format(player_Y_cols, match_id))\n",
    "    player_Y = c.fetchall()[0]\n",
    "    def givePosition(Y):\n",
    "        if Y == 1:\n",
    "            return 'G'\n",
    "        elif Y == 3:\n",
    "            return 'D'\n",
    "        elif Y == 5 or Y == 6 or Y == 7:\n",
    "            return 'M'\n",
    "        elif Y == 8 or Y == 9 or Y == 10 or Y == 11:\n",
    "            return 'F'\n",
    "        else:\n",
    "            sys.exit('Unknown value for Y: {}'.\\\n",
    "                    format(Y))\n",
    "    player_pos = np.array([givePosition(Y) for Y in player_Y])\n",
    "    \n",
    "    # Get the match date\n",
    "    def toDatetime(datetime):\n",
    "        return dt.datetime.strptime(datetime, '%Y-%m-%d %H:%M:%S')\n",
    "    c.execute('SELECT date FROM Match WHERE id={}'.\\\n",
    "             format(match_id))\n",
    "    match_date = toDatetime(c.fetchall()[0][0])\n",
    "    \n",
    "    # Lookup the EA Sports stats for each player\n",
    "    # The stats are time dependent so we have to\n",
    "    # find the ones closest to the match date\n",
    "    def getBestDate(player_id, match_date):\n",
    "        c.execute('SELECT id FROM Player_Stats WHERE player_api_id={}'.\\\n",
    "                 format(player_id))\n",
    "        ids = np.array([i[0] for i in c.fetchall()])\n",
    "        c.execute('SELECT date_stat FROM Player_Stats WHERE player_api_id={}'.\\\n",
    "                 format(player_id))\n",
    "        dates = [toDatetime(d[0]) for d in c.fetchall()]\n",
    "        dates_delta = np.array([abs(d-match_date) for d in dates])\n",
    "        return ids[dates_delta==dates_delta.min()][0]\n",
    "    positions = ('G', 'D', 'M', 'F')\n",
    "    average_stats = {}\n",
    "    for position in positions:\n",
    "        print(position)\n",
    "        if position == 'G':\n",
    "            stats = EA_stats['goalie']\n",
    "        else:\n",
    "            stats = EA_stats['player']\n",
    "        position_ids = player_api_id[player_pos==position]\n",
    "        average_stats[position] = np.zeros(len(stats.split(',')))\n",
    "        for player_id in position_ids:\n",
    "            print(player_id)\n",
    "            best_date_id = getBestDate(player_id, match_date)\n",
    "            c.execute('SELECT {0:s} FROM Player_Stats WHERE id={1:d}'.\\\n",
    "                     format(stats, best_date_id))\n",
    "            query = np.array(c.fetchall()[0])\n",
    "            print(query)\n",
    "            print(average_stats[position])\n",
    "            if sum([q==None for q in query]):\n",
    "                raise LookupError('Found null EA stats entry at stat_id={}'.\\\n",
    "                                  format(best_date_id))\n",
    "#                 sys.exit('Found null EA stats entry at stat_id={}'.\\\n",
    "#                         format(best_date_id))\n",
    "            average_stats[position] += query\n",
    "            print('')\n",
    "        average_stats[position] /= len(position_ids) # take average\n",
    "\n",
    "    return average_stats\n",
    "            \n",
    "            \n",
    "EA_stats = {'player': ', '.join(['overall_rating', #'attacking_work_rate', 'defensive_work_rate',\n",
    "                                  'crossing', 'finishing', 'heading_accuracy', 'short_passing',\n",
    "                                  'volleys', 'dribbling', 'curve', 'free_kick_accuracy',\n",
    "                                  'long_passing', 'ball_control', 'acceleration', 'sprint_speed',\n",
    "                                  'agility', 'reactions', 'balance', 'shot_power', 'jumping',\n",
    "                                  'stamina', 'strength', 'long_shots', 'interceptions',\n",
    "                                  'positioning', 'vision', 'penalties', 'marking',\n",
    "                                  'standing_tackle', 'sliding_tackle']),\n",
    "            'goalie': ', '.join(['gk_diving', 'gk_handling', 'gk_kicking',\n",
    "                                 'gk_positioning', 'gk_reflexes'])}\n",
    "\n",
    "def print_exception():\n",
    "    print(str(e))\n",
    "    with open('errors.out', 'w') as f:\n",
    "        f.write(str(e)); f.write('\\n')\n",
    "    ex_type, ex, tb = sys.exc_info()\n",
    "    traceback.print_tb(tb)\n",
    "\n",
    "# for i in np.arange(1, 1000, 100):\n",
    "if True:\n",
    "    i=401\n",
    "    try:\n",
    "        getTeamScores(i, 'home', EA_stats)\n",
    "    except LookupError as e:\n",
    "        print('LookupError')\n",
    "        print_exception()\n",
    "    except Exception as e:\n",
    "        print_exception()"
   ]
  },
  {
   "cell_type": "code",
   "execution_count": null,
   "metadata": {
    "collapsed": true
   },
   "outputs": [],
   "source": [
    "try:\n",
    "    getTeamScores(1, 'home', EA_stats)\n",
    "except LookupError as e:\n",
    "    print('LookupError')\n",
    "    print_exception()\n",
    "except Exception as e:\n",
    "    print_exception()"
   ]
  },
  {
   "cell_type": "markdown",
   "metadata": {},
   "source": [
    "Exceptions are raised from rows with ALL null elements. If we encoutner a row with some Null values we'll deal with it. There are many cases like this, and in particular at the start of the database index."
   ]
  },
  {
   "cell_type": "code",
   "execution_count": 149,
   "metadata": {
    "collapsed": false
   },
   "outputs": [
    {
     "name": "stdout",
     "output_type": "stream",
     "text": [
      "G\n",
      "38289\n",
      "operands could not be broadcast together with shapes (4,) (5,) (4,) \n"
     ]
    },
    {
     "name": "stderr",
     "output_type": "stream",
     "text": [
      "  File \"<ipython-input-149-e8cd4ae57199>\", line 5, in <module>\n",
      "    getTeamScores(i, 'home', EA_stats)\n",
      "  File \"<ipython-input-148-fea005edc4c4>\", line 84, in getTeamScores\n",
      "    average_stats[position] += query\n"
     ]
    }
   ],
   "source": [
    "# for i in np.arange(1, 1000, 100):\n",
    "if True:\n",
    "    i=401\n",
    "    try:\n",
    "        getTeamScores(i, 'home', EA_stats)\n",
    "    except LookupError as e:\n",
    "        print('LookupError')\n",
    "        print_exception()\n",
    "    except Exception as e:\n",
    "        print_exception()"
   ]
  },
  {
   "cell_type": "markdown",
   "metadata": {},
   "source": [
    "#### The model?\n",
    "- Logistic regression one vs all?\n",
    "    - not good with mixed data (some discrete (categorical) and some continuous)\n",
    "- Decision trees?\n",
    "    - Andrew insists I use boosted trees (XGBoost)"
   ]
  },
  {
   "cell_type": "code",
   "execution_count": null,
   "metadata": {
    "collapsed": false
   },
   "outputs": [],
   "source": []
  },
  {
   "cell_type": "code",
   "execution_count": null,
   "metadata": {
    "collapsed": true
   },
   "outputs": [],
   "source": []
  }
 ],
 "metadata": {
  "kernelspec": {
   "display_name": "Python 3",
   "language": "python",
   "name": "python3"
  },
  "language_info": {
   "codemirror_mode": {
    "name": "ipython",
    "version": 3
   },
   "file_extension": ".py",
   "mimetype": "text/x-python",
   "name": "python",
   "nbconvert_exporter": "python",
   "pygments_lexer": "ipython3",
   "version": "3.5.1"
  }
 },
 "nbformat": 4,
 "nbformat_minor": 0
}
