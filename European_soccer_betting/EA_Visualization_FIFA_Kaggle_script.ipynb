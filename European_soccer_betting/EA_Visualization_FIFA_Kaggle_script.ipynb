{
 "cells": [
  {
   "cell_type": "markdown",
   "metadata": {
    "_cell_guid": "554c0be6-85d0-78b5-de27-126222b9c30c"
   },
   "source": [
    "## Using EA player statistics to predict match results (win/draw/loss)\n",
    "We'll use logistic regression and random forests to classify game results with `scikit-learn`."
   ]
  },
  {
   "cell_type": "code",
   "execution_count": 1,
   "metadata": {
    "_cell_guid": "6f97dfb4-7dcb-4288-7227-5f8441563272",
    "collapsed": true
   },
   "outputs": [],
   "source": [
    "import sqlite3\n",
    "import pandas as pd\n",
    "import numpy as np\n",
    "import matplotlib.pyplot as plt\n",
    "%matplotlib inline\n",
    "import seaborn as sns\n",
    "import datetime as dt"
   ]
  },
  {
   "cell_type": "markdown",
   "metadata": {
    "_cell_guid": "80a9d86f-739d-0217-915b-809e09c6022f"
   },
   "source": [
    "\n",
    "### Dataframe manipulations (SQLite and Pandas)"
   ]
  },
  {
   "cell_type": "code",
   "execution_count": 2,
   "metadata": {
    "_cell_guid": "8c149a15-d9dc-ec27-20fd-df4b01a7a714",
    "collapsed": true
   },
   "outputs": [],
   "source": [
    "conn = sqlite3.connect('../input/database.sqlite')\n",
    "c = conn.cursor()"
   ]
  },
  {
   "cell_type": "markdown",
   "metadata": {
    "_cell_guid": "95e0478b-f464-91ad-aca4-d9f40eea8de7"
   },
   "source": [
    "**League ID dictionary**\n"
   ]
  },
  {
   "cell_type": "code",
   "execution_count": 3,
   "metadata": {
    "_cell_guid": "85b6603c-6480-2663-38c1-5d30b0087b0b",
    "collapsed": true
   },
   "outputs": [],
   "source": [
    "ids = [i[0] for i in c.execute('SELECT id FROM League').fetchall()]\n",
    "names = [i[0] for i in c.execute('SELECT name FROM League').fetchall()]\n",
    "id_league = {i: n for i, n in zip(ids, names)}\n",
    "id_league"
   ]
  },
  {
   "cell_type": "code",
   "execution_count": 4,
   "metadata": {
    "_cell_guid": "67d2188d-8f26-9880-2151-bce249f46ca2",
    "collapsed": true
   },
   "outputs": [],
   "source": [
    "# Country ID\n",
    "# Country id\n",
    "ids = [i[0] for i in c.execute('SELECT id FROM Country').fetchall()]\n",
    "names = [i[0] for i in c.execute('SELECT name FROM Country').fetchall()]\n",
    "id_country = {i: n for i, n in zip(ids, names)};"
   ]
  },
  {
   "cell_type": "markdown",
   "metadata": {
    "_cell_guid": "10b1f61c-304d-a1ac-80a9-0b3428d17a10"
   },
   "source": [
    "**What EA Sports FIFA stats do we have?**"
   ]
  },
  {
   "cell_type": "code",
   "execution_count": 5,
   "metadata": {
    "_cell_guid": "dc0b0a09-0189-ea27-db3f-d158c517d23f",
    "collapsed": true
   },
   "outputs": [],
   "source": [
    "c.execute('PRAGMA TABLE_INFO(Player_Stats)').fetchall()"
   ]
  },
  {
   "cell_type": "markdown",
   "metadata": {
    "_cell_guid": "a4e92175-839e-d91d-4b88-72ba47ae0db8"
   },
   "source": [
    "**Getting player stats for each game in the database**\n"
   ]
  },
  {
   "cell_type": "markdown",
   "metadata": {
    "_cell_guid": "1b578824-235d-2169-a8b6-9974f28adf33"
   },
   "source": [
    "For each game we'll determine the mean overall_rating statistic for __4 player groups__: \n",
    "\n",
    " - F=forward (striker), M=midfield, D=defense, G=goalie.\n",
    "\n",
    "Doing this task requires us to iterate over the Match table and get the stats for each player on the home and away teams using the Player_Stats table. Multiple rows of statistics exist for each player and we'll select the one whose datestamp most closely aligns with the game date.\n",
    "\n",
    "The player position is determined using the player's 'Y' coordinate from the Match table. These coordinates are integers ranging from 1 to 11 (0 and None are assumed to be unknown). Based on the distribution below we'll define positions as follows:\n",
    "\n",
    " - Y=1 -> G\n",
    " - Y=3 -> D   \n",
    " - Y=5-7 -> M   \n",
    " - Y=8-11 -> F   \n"
   ]
  },
  {
   "cell_type": "code",
   "execution_count": 6,
   "metadata": {
    "_cell_guid": "90bd73a1-f412-a07c-d837-54e8436b2a8d",
    "collapsed": true
   },
   "outputs": [],
   "source": [
    "cols = \", \".join([\"home_player_Y\"+str(i) for i in range(1,12)])\n",
    "c.execute('SELECT {0:s} FROM Match'.\\\n",
    "         format(cols))\n",
    "Y_array = c.fetchall()\n",
    "\n",
    "Y = np.array([a for row in Y_array for a in row]) # flatten\n",
    "from collections import Counter\n",
    "print('Player Y value: # of instances in database (home players)')\n",
    "Counter(Y)"
   ]
  },
  {
   "cell_type": "markdown",
   "metadata": {
    "_cell_guid": "dd053529-13d1-0c83-313a-4ac626e4947a"
   },
   "source": [
    "__Warning__: _very ugly function below to pool EA player stats for each game into a list. You may want to_ __skip down to the next section where we start visualizing the data.__"
   ]
  },
  {
   "cell_type": "code",
   "execution_count": 7,
   "metadata": {
    "_cell_guid": "7159f436-708b-59da-9afc-0a4ff3ed64df",
    "collapsed": true
   },
   "outputs": [],
   "source": [
    "EA_stats = {'player': ', '.join(['overall_rating']), #'attacking_work_rate', 'defensive_work_rate',\n",
    "#                                   'crossing', 'finishing', 'heading_accuracy', 'short_passing',\n",
    "#                                   'volleys', 'dribbling', 'curve', 'free_kick_accuracy',\n",
    "#                                   'long_passing', 'ball_control', 'acceleration', 'sprint_speed',\n",
    "#                                   'agility', 'reactions', 'balance', 'shot_power', 'jumping',\n",
    "#                                   'stamina', 'strength', 'long_shots', 'interceptions',\n",
    "#                                   'positioning', 'vision', 'penalties', 'marking',\n",
    "#                                   'standing_tackle', 'sliding_tackle']),\n",
    "            'goalie': ', '.join(['gk_diving', 'gk_handling', 'gk_kicking',\n",
    "                                 'gk_positioning', 'gk_reflexes'])}\n",
    "\n",
    "\n",
    "def getTeamScores(match_id, team, EA_stats,\n",
    "                  printout=False,\n",
    "                  group='forward_mid_defense_goalie'):\n",
    "    ''' Return the cumulative average team scores for \n",
    "    a given EA Sports FIFA statistic. If particular EA\n",
    "    stats are not in the database that stat is taken as\n",
    "    the overall player rating. If any positional stat is\n",
    "    unavailable (i.e. no goalie information) that stat is\n",
    "    taken as the average of the others for that team.\n",
    "    team : str\n",
    "        'home' or 'away'\n",
    "    EA_stat : dict\n",
    "        Names of statistics to cumulate for goalie and players.\n",
    "        e.g. {'player': 'overall_rating, heading_accuracy',\n",
    "              'goalie': 'gk_diving, gk_handling'}\n",
    "    printout : boolean\n",
    "        Option to print out debug information,\n",
    "        defaults to False.\n",
    "    group : str\n",
    "        How to group scores:\n",
    "        'forward_mid_defense_goalie': output 4 values\n",
    "        'all': output 1 value (currently not implemented)\n",
    "    '''\n",
    "    \n",
    "    if team == 'home':\n",
    "        player_cols = ', '.join(['home_player_'+str(i) for i in range(1,12)])\n",
    "        player_Y_cols = np.array(['home_player_Y'+str(i) for i in range(1,12)])\n",
    "    elif team == 'away':\n",
    "        player_cols = ', '.join(['away_player_'+str(i) for i in range(1,12)])\n",
    "        player_Y_cols = np.array(['away_player_Y'+str(i) for i in range(1,12)])\n",
    "        \n",
    "    # Get the player ids from the Match table\n",
    "    c.execute('SELECT {0:s} FROM Match WHERE id={1:d}'.\\\n",
    "             format(player_cols, match_id))\n",
    "    player_api_id = np.array(c.fetchall()[0])\n",
    "    \n",
    "    # Return dictionary of NaN if all items in the list are null\n",
    "    # WARNING: I've hard-coded this dictionary\n",
    "    if False not in [p==0 or p==None for p in player_api_id]:\n",
    "#         raise LookupError('No player data found for Match table row_id={}'.\\\n",
    "#                                    format(match_id))\n",
    "        return {'F': np.array([np.nan]), 'M': np.array([np.nan]),\n",
    "                'D': np.array([np.nan]), 'G': np.array([np.nan])}\n",
    "        \n",
    "    # Remove any empty player entries (if player_api_id == None or nan)\n",
    "    empty_mask = player_api_id != np.array(None)\n",
    "    player_api_id = player_api_id[empty_mask]\n",
    "    player_Y_cols = ', '.join(player_Y_cols[empty_mask])\n",
    "    \n",
    "    # Get the player positions from the Match table\n",
    "    # We only care about the Y position to designate\n",
    "    # forwards, midfielders, defense, and goalie\n",
    "    \n",
    "    c.execute('SELECT {0:s} FROM Match WHERE id={1:d}'.\\\n",
    "             format(player_Y_cols, match_id))\n",
    "    player_Y = c.fetchall()[0]\n",
    "    \n",
    "    def givePosition(Y):\n",
    "        ''' Input the Y position of the player (as opposed\n",
    "        to the lateral X position) and return the categorical\n",
    "        position. '''\n",
    "        if Y == 1:\n",
    "            return 'G'\n",
    "        elif Y == 3:\n",
    "            return 'D'\n",
    "        elif Y == 5 or Y == 6 or Y == 7:\n",
    "            return 'M'\n",
    "        elif Y == 8 or Y == 9 or Y == 10 or Y == 11:\n",
    "            return 'F'\n",
    "        else:\n",
    "#            sys.exit('Unknown value for Y: {}'.\\\n",
    "#                    format(Y))\n",
    "            return 'NaN'\n",
    "\n",
    "    player_pos = np.array([givePosition(Y) for Y in player_Y])\n",
    "    \n",
    "    # Get the match date\n",
    "    \n",
    "    def toDatetime(datetime):\n",
    "        ''' Convert string date to datetime object. '''\n",
    "        return dt.datetime.strptime(datetime, '%Y-%m-%d %H:%M:%S')\n",
    "\n",
    "    c.execute('SELECT date FROM Match WHERE id={}'.\\\n",
    "             format(match_id))\n",
    "    match_date = toDatetime(c.fetchall()[0][0])\n",
    "    \n",
    "    # Lookup the EA Sports stats for each player\n",
    "    # The stats are time dependent so we have to\n",
    "    # find the ones closest to the match date\n",
    "    \n",
    "    def getBestDate(player_id, match_date):\n",
    "        ''' Find most suitable player stats to use based\n",
    "        on date of match and return the corresponding row\n",
    "        id from the Player_Stats table. ''' \n",
    "        c.execute('SELECT id FROM Player_Stats WHERE player_api_id={}'.\\\n",
    "                 format(player_id))\n",
    "        ids = np.array([i[0] for i in c.fetchall()])\n",
    "        c.execute('SELECT date_stat FROM Player_Stats WHERE player_api_id={}'.\\\n",
    "                 format(player_id))\n",
    "        dates = [toDatetime(d[0]) for d in c.fetchall()]\n",
    "        dates_delta = np.array([abs(d-match_date) for d in dates])\n",
    "        return ids[dates_delta==dates_delta.min()][0]\n",
    "    \n",
    "    def fill_empty_stats(stats, stat_names):\n",
    "        ''' Input the incomplete EA player stats and corresponing\n",
    "        names, return the filled in stats list. Filling with\n",
    "        overall_rating or averaging otherwise (i.e. for goalies\n",
    "        where there is no overall_rating stat). '''\n",
    "        if not np.sum([s==0 or s==None for s in stats]):\n",
    "            return stats\n",
    "        stats_dict = {sn: s for sn, s in zip(stat_names, stats)}\n",
    "        try:\n",
    "            fill = stats_dict['overall_rating']\n",
    "        except:\n",
    "            # Either a goalie or player with no overall rating\n",
    "            # Filling with average of other stats\n",
    "            fill = np.mean([s for s in stats if s!=0 and s!=None])\n",
    "        filled_stats = []\n",
    "        for s in stats:\n",
    "            if s==None or s==0:\n",
    "                filled_stats.append(fill)\n",
    "            else:\n",
    "                filled_stats.append(s)\n",
    "        return filled_stats\n",
    "    \n",
    "    positions = ('G', 'D', 'M', 'F')\n",
    "    average_stats = {}\n",
    "    for position in positions:\n",
    "        if printout: print(position)\n",
    "        if position == 'G':\n",
    "            stats = EA_stats['goalie']\n",
    "        else:\n",
    "            stats = EA_stats['player']\n",
    "        position_ids = player_api_id[player_pos==position]\n",
    "        average_stats[position] = np.zeros(len(stats.split(',')))\n",
    "        for player_id in position_ids:\n",
    "            if printout: print(player_id)\n",
    "            best_date_id = getBestDate(player_id, match_date)\n",
    "            c.execute('SELECT {0:s} FROM Player_Stats WHERE id={1:d}'.\\\n",
    "                     format(stats, best_date_id))\n",
    "            query = np.array(c.fetchall()[0])\n",
    "            query = fill_empty_stats(query, stats.split(', '))\n",
    "            if printout: print(query)\n",
    "            if sum([q==None or q==0 for q in query]):\n",
    "                raise LookupError('Found null EA stats entry at stat_id={}'.\\\n",
    "                                  format(best_date_id))\n",
    "#                 sys.exit('Found null EA stats entry at stat_id={}'.\\\n",
    "#                         format(best_date_id))\n",
    "            average_stats[position] += query\n",
    "            if printout: print('')\n",
    "        average_stats[position] /= len(position_ids) # take average\n",
    "            \n",
    "    # Take average of goalie stats\n",
    "    try:\n",
    "        average_stats['G'] = np.array([average_stats['G'].mean()])\n",
    "    except:\n",
    "        # Missing info: (average_stats['G']) = 0\n",
    "        pass\n",
    "    \n",
    "    # Insert missing stats\n",
    "    insert_value = np.mean([v[0] for v in average_stats.values() if not np.isnan(v)])\n",
    "    for k, v in average_stats.items():\n",
    "        if np.isnan(v[0]):\n",
    "            average_stats[k] = np.array([insert_value])\n",
    "    \n",
    "#     # Return a dictionary of numeric results as strings for storing in SQL table\n",
    "#     return {key: ' '.join([str(v) for v in value]) for key, value in average_stats.items()}\n",
    "#     ''' THE LINE ABOVE NEEDS A FIX - UNABLE TO ADD STRINGS LIKE THIS TO SQL TABLE '''        \n",
    "    return average_stats"
   ]
  },
  {
   "cell_type": "code",
   "execution_count": 8,
   "metadata": {
    "_cell_guid": "4d9a3132-918a-9838-51ce-0e3af2de1768",
    "collapsed": true
   },
   "outputs": [],
   "source": [
    "# Test of the function above\n",
    "avg = getTeamScores(999, 'home', EA_stats, printout=True)\n",
    "avg"
   ]
  },
  {
   "cell_type": "code",
   "execution_count": 9,
   "metadata": {
    "_cell_guid": "b69c7aba-2db3-b026-d93e-a58bca11de6d",
    "collapsed": true
   },
   "outputs": [],
   "source": [
    "# Null test of the function above\n",
    "avg = getTeamScores(5, 'home', EA_stats, printout=True)\n",
    "avg"
   ]
  },
  {
   "cell_type": "markdown",
   "metadata": {
    "_cell_guid": "c41ddf9b-034a-9fff-2c1b-25515cf36c64"
   },
   "source": [
    "Iterate through table rows and store results in lists.\n"
   ]
  },
  {
   "cell_type": "code",
   "execution_count": 10,
   "metadata": {
    "_cell_guid": "24557671-4c83-bac8-a1f4-c0bb6c0f8c94",
    "collapsed": true
   },
   "outputs": [],
   "source": [
    "# Get row ids for our Match table\n",
    "all_ids = c.execute('SELECT id FROM Match').fetchall()\n",
    "all_ids = [i[0] for i in sorted(all_ids)]\n",
    "\n",
    "hF, hM, hD, hG = [], [], [], []\n",
    "aF, aM, aD, aG = [], [], [], []\n",
    "for i in all_ids:\n",
    "    h_stats = getTeamScores(i, 'home', EA_stats, printout=False)\n",
    "    hF.append(h_stats['F'][0])\n",
    "    hM.append(h_stats['M'][0])\n",
    "    hD.append(h_stats['D'][0])\n",
    "    hG.append(h_stats['G'][0])\n",
    "    a_stats = getTeamScores(i, 'away', EA_stats, printout=False)\n",
    "    aF.append(a_stats['F'][0])\n",
    "    aM.append(a_stats['M'][0])\n",
    "    aD.append(a_stats['D'][0])\n",
    "    aG.append(a_stats['G'][0])"
   ]
  },
  {
   "cell_type": "markdown",
   "metadata": {
    "_cell_guid": "d571385e-60d1-faf7-cba6-c1e2bf653822"
   },
   "source": [
    "Load results into a Pandas dataframe along with desired columns from Match"
   ]
  },
  {
   "cell_type": "code",
   "execution_count": 11,
   "metadata": {
    "_cell_guid": "e544399b-0810-7d15-42e0-47547ffac584",
    "collapsed": true
   },
   "outputs": [],
   "source": [
    "df = pd.read_sql(sql='SELECT {} FROM Match'.\\\n",
    "                 format('id, country_id, league_id, season, stage, '+\\\n",
    "                        'date, home_team_api_id, away_team_api_id, '+\\\n",
    "                        'home_team_goal, away_team_goal'),\n",
    "                 con=conn)"
   ]
  },
  {
   "cell_type": "code",
   "execution_count": 12,
   "metadata": {
    "_cell_guid": "138d3fb3-ce6e-fe33-7354-457431df5562",
    "collapsed": true
   },
   "outputs": [],
   "source": [
    "features = ['home_F_stats', 'home_M_stats', 'home_D_stats', 'home_G_stats',\n",
    "            'away_F_stats', 'away_M_stats', 'away_D_stats', 'away_G_stats']\n",
    "\n",
    "data = [hF, hM, hD, hG, aF, aM, aD, aG]\n",
    "\n",
    "for f, d in zip(features, data):\n",
    "    df[f] = d"
   ]
  },
  {
   "cell_type": "code",
   "execution_count": 13,
   "metadata": {
    "_cell_guid": "e26c9e59-1b94-4018-3f96-12ca99962b94",
    "collapsed": true
   },
   "outputs": [],
   "source": [
    "df.head()"
   ]
  },
  {
   "cell_type": "markdown",
   "metadata": {
    "_cell_guid": "6a8daae2-01f7-0cff-8dd3-29a88f4de9ec"
   },
   "source": [
    "Let's do some dataframe manipulations:\n",
    "\n",
    " - getting rid of the NaN rows\n",
    " - converting to datetimes\n",
    " - add league and country names\n",
    " - calculate averages of EA stats"
   ]
  },
  {
   "cell_type": "code",
   "execution_count": 14,
   "metadata": {
    "_cell_guid": "56e2b34d-4f90-3fea-d4bf-4791bb2fb2c6",
    "collapsed": true
   },
   "outputs": [],
   "source": [
    "# Dropping NaNs\n",
    "df = df.dropna()\n",
    "\n",
    "# Adding a game state column:\n",
    "# a list of the form [H, D, A]\n",
    "#\n",
    "# state = [1, 0, 0], result = 1 => Home team win\n",
    "# state = [0, 1, 0], result = 2 => Draw\n",
    "# state = [0, 0, 1], result = 3 => Away team win\n",
    "H = lambda x: x[0] > x[1]\n",
    "D = lambda x: x[0] == x[1]\n",
    "A = lambda x: x[0] < x[1]\n",
    "state, result = [], []\n",
    "for goals in df[['home_team_goal', 'away_team_goal']].values:\n",
    "    r = np.array([H(goals), D(goals), A(goals)])\n",
    "    state.append(r)\n",
    "    if (r == [1, 0, 0]).sum() == 3:\n",
    "        result.append(1)\n",
    "    elif (r == [0, 1, 0]).sum() == 3:\n",
    "        result.append(2)\n",
    "    elif (r == [0, 0, 1]).sum() == 3:\n",
    "        result.append(3)\n",
    "df['game_state'] = state\n",
    "df['game_result'] = result\n",
    "\n",
    "# Convert to datetimes\n",
    "df['date'] = pd.to_datetime(df['date'])\n",
    "\n",
    "# Map leagues names using dictionaries from earlier\n",
    "df['country'] = df['country_id'].map(id_country)\n",
    "df['league'] = df['league_id'].map(id_league)\n",
    "\n",
    "# Average stats for teams (for each game)\n",
    "f = lambda x: np.mean(x)\n",
    "df['home_mean_stats'] = list(map(f, df[['home_F_stats', 'home_M_stats',\n",
    "                                        'home_D_stats', 'home_G_stats']].values))\n",
    "df['away_mean_stats'] = list(map(f, df[['away_F_stats', 'away_M_stats',\n",
    "                                        'away_D_stats', 'away_G_stats']].values));"
   ]
  },
  {
   "cell_type": "code",
   "execution_count": 15,
   "metadata": {
    "_cell_guid": "91bb1ed1-8cb0-538d-e826-7135c5a1e603",
    "collapsed": true
   },
   "outputs": [],
   "source": [
    "# Here is what we have ...\n",
    "df.dtypes"
   ]
  },
  {
   "cell_type": "markdown",
   "metadata": {
    "_cell_guid": "02715f6d-c681-6c70-599e-8ad3d0cde524"
   },
   "source": [
    "\n",
    "### Visualizing EA Sports FIFA stats"
   ]
  },
  {
   "cell_type": "markdown",
   "metadata": {
    "_cell_guid": "b2de5a65-5ac6-3686-b5e3-f53094076d8f"
   },
   "source": [
    "If you've read how we got the stats for our dataframe df, then you know we averaged player stats for both teams in each game and binned the results for forwards **F**, midfielders **M**, defence **D**, and goalies **G**. We also have columns in `df` named `home_mean_stats` and `away_mean_stats` for the average of these 4 quantities.\n"
   ]
  },
  {
   "cell_type": "markdown",
   "metadata": {
    "_cell_guid": "21c026ae-b823-284a-8d1f-4b77814c5691"
   },
   "source": [
    "\n",
    "Looking for correlations among our positional EA stats for each team. Using `seaborn`'s `pairplot` function we can easily do this, plus generate histograms on the diagonal (where scatter plots would be pointless)."
   ]
  },
  {
   "cell_type": "code",
   "execution_count": 16,
   "metadata": {
    "_cell_guid": "d07adae3-a0ea-c6ad-0b95-931b42b1424f",
    "collapsed": true
   },
   "outputs": [],
   "source": [
    "sns.pairplot(data=df[features])\n",
    "plt.suptitle('EA Sports FIFA positional game ratings correlations', fontsize=30, y=1.02);\n",
    "plt.show();"
   ]
  },
  {
   "cell_type": "markdown",
   "metadata": {
    "_cell_guid": "4297ea18-1c66-a9a5-3f1b-5fbb29a199d2"
   },
   "source": [
    "\n",
    "The figure above can be understood in terms of 4, 4x4 quadrants.\n",
    "\n",
    "The top left quadrant shows how home scores are largely correlated with eachother, the same is true for away teams as seen in the bottom right quadrant.\n",
    "\n",
    "The other two quadrants are also redundant, looking at these we see a nicely distributed dataset. Looking at the histrograms we see that our features are normally distributed meaning we have a good amount of data from which to draw accurate conclusions."
   ]
  },
  {
   "cell_type": "markdown",
   "metadata": {
    "_cell_guid": "128995d2-32d0-4c71-45bc-2ef0ba81d2a0"
   },
   "source": [
    "Now let's plot the **game frequency** for all leagues. With our data we can look back to the 2008/2009 season."
   ]
  },
  {
   "cell_type": "code",
   "execution_count": 17,
   "metadata": {
    "_cell_guid": "39d81f03-30af-3f0e-c80c-ee8c8aa4e1e8",
    "collapsed": true
   },
   "outputs": [],
   "source": [
    "df.date.hist(bins=100)\n",
    "plt.title('Frequency of games in all countries')\n",
    "plot_width = (df.date.max() - df.date.min()).days\n",
    "bin_width = plot_width/100\n",
    "print('bin_width = {0:.1f} days'.format(bin_width))\n",
    "plt.show();"
   ]
  },
  {
   "cell_type": "markdown",
   "metadata": {
    "_cell_guid": "2405d77a-bb9b-4884-b852-a2a02d6eee11"
   },
   "source": [
    "Let's split the leagues up and visualize how our data is divided. We'll plot the **frequency of games for each league**."
   ]
  },
  {
   "cell_type": "code",
   "execution_count": 18,
   "metadata": {
    "_cell_guid": "af759ec8-71d9-c3d3-2ba5-b138d5bd857f",
    "collapsed": true
   },
   "outputs": [],
   "source": [
    "g = sns.FacetGrid(df, col='league', col_wrap=4)\n",
    "g.map(plt.hist, 'date', bins=100)\n",
    "for ax in g.axes.flat:  \n",
    "    plt.setp(ax.get_xticklabels(), rotation=45)\n",
    "plt.suptitle('Game frequency by league', fontsize=20, y=1.04);"
   ]
  },
  {
   "cell_type": "markdown",
   "metadata": {
    "_cell_guid": "2f12dd8e-754e-1cfb-39af-6464742d0fd6"
   },
   "source": [
    "Exactly how does the amount of data from each league compare?"
   ]
  },
  {
   "cell_type": "code",
   "execution_count": 19,
   "metadata": {
    "_cell_guid": "b47cd40b-d43b-8c46-656e-f88c74423853",
    "collapsed": true
   },
   "outputs": [],
   "source": [
    "league = np.unique(df.league.values)\n",
    "N_entries = np.array([len(df[(df.league == L)]) for L in league])\n",
    "N_entries = N_entries/N_entries.sum()\n",
    "ax = sns.barplot(league, N_entries)\n",
    "ax.set_ylabel('Percentage of data - total')\n",
    "plt.setp(ax.get_xticklabels(), rotation=45, ha='right')\n",
    "plt.title('Amount of game data from each league')\n",
    "plt.show();"
   ]
  },
  {
   "cell_type": "code",
   "execution_count": 20,
   "metadata": {
    "_cell_guid": "bdd8f10a-938a-b46a-5e67-2083a282d036",
    "collapsed": true
   },
   "outputs": [],
   "source": [
    "league = np.unique(df.league.values)\n",
    "N_entries = np.array([len(df[(df.league == L)&(df.season == '2015/2016')]) for L in league])\n",
    "N_entries = N_entries/N_entries.sum()\n",
    "ax = sns.barplot(league, N_entries)\n",
    "ax.set_ylabel('Percentage of data - 2015/2016')\n",
    "plt.setp(ax.get_xticklabels(), rotation=45, ha='right')\n",
    "plt.title('Amount of 2015/2016 game data from each league')\n",
    "plt.show();"
   ]
  },
  {
   "cell_type": "markdown",
   "metadata": {
    "_cell_guid": "665c265c-0f42-7609-9258-aaffaea5e082"
   },
   "source": [
    "As promised, we'll compare the mean EA rank for players on teams in the different leagues. Using data from every match in the dataframe, we'll look at a **violin plot of mean player stat distributions**.\n"
   ]
  },
  {
   "cell_type": "code",
   "execution_count": 21,
   "metadata": {
    "_cell_guid": "e03d8dcc-de0c-16f5-251d-12474ad73cab",
    "collapsed": true
   },
   "outputs": [],
   "source": [
    "fig = plt.figure(figsize=(12, 10))\n",
    "sns.violinplot(x='home_mean_stats', y='league', data=df)\n",
    "plt.title('Average EA Sports FIFA player ratings per team since 2009', y=1.02);"
   ]
  },
  {
   "cell_type": "markdown",
   "metadata": {
    "_cell_guid": "d473e02a-ac93-f6c7-3308-95b07d02f725"
   },
   "source": [
    "Another **violin plot, this time using data from only this season**.\n"
   ]
  },
  {
   "cell_type": "code",
   "execution_count": 22,
   "metadata": {
    "_cell_guid": "6faf457c-f00e-daa1-8e8b-d07a4bbba89e",
    "collapsed": true
   },
   "outputs": [],
   "source": [
    "fig = plt.figure(figsize=(12, 10))\n",
    "sns.violinplot(x='home_mean_stats', y='league', data=df[(df.season=='2015/2016')])\n",
    "plt.title('Average EA Sports FIFA player ratings per team in 2015/2016', y=1.02);"
   ]
  },
  {
   "cell_type": "code",
   "execution_count": 23,
   "metadata": {
    "_cell_guid": "4fbf4c87-3b93-e1de-8a29-8dddbb9e514f",
    "collapsed": true
   },
   "outputs": [],
   "source": []
  }
 ],
 "metadata": {
  "_change_revision": 135,
  "_is_fork": false,
  "kernelspec": {
   "display_name": "Python 3",
   "language": "python",
   "name": "python3"
  },
  "language_info": {
   "codemirror_mode": {
    "name": "ipython",
    "version": 3
   },
   "file_extension": ".py",
   "mimetype": "text/x-python",
   "name": "python",
   "nbconvert_exporter": "python",
   "pygments_lexer": "ipython3",
   "version": "3.5.1"
  }
 },
 "nbformat": 4,
 "nbformat_minor": 0
}
