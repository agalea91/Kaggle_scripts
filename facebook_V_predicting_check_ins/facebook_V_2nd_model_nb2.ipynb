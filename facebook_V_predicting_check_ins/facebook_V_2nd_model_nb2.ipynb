{
 "cells": [
  {
   "cell_type": "code",
   "execution_count": 1,
   "metadata": {
    "collapsed": true
   },
   "outputs": [],
   "source": [
    "import sys\n",
    "sys.path.append('C:\\Anaconda3\\Lib\\site-packages')\n",
    "\n",
    "import pandas as pd\n",
    "import numpy as np\n",
    "import matplotlib.pyplot as plt\n",
    "%matplotlib inline\n",
    "\n",
    "from tqdm import tqdm, tqdm_notebook\n",
    "\n",
    "from sklearn.cross_validation import train_test_split\n",
    "from sklearn.preprocessing import StandardScaler\n",
    "from sklearn.neighbors import KNeighborsClassifier\n",
    "from sklearn.metrics import accuracy_score\n",
    "from sklearn.pipeline import Pipeline\n",
    "from sklearn.grid_search import GridSearchCV"
   ]
  },
  {
   "cell_type": "code",
   "execution_count": 2,
   "metadata": {
    "collapsed": true
   },
   "outputs": [],
   "source": [
    "df = pd.read_csv('train.csv')"
   ]
  },
  {
   "cell_type": "code",
   "execution_count": 3,
   "metadata": {
    "collapsed": false
   },
   "outputs": [
    {
     "data": {
      "text/html": [
       "<div>\n",
       "<table border=\"1\" class=\"dataframe\">\n",
       "  <thead>\n",
       "    <tr style=\"text-align: right;\">\n",
       "      <th></th>\n",
       "      <th>row_id</th>\n",
       "      <th>x</th>\n",
       "      <th>y</th>\n",
       "      <th>accuracy</th>\n",
       "      <th>time</th>\n",
       "    </tr>\n",
       "  </thead>\n",
       "  <tbody>\n",
       "    <tr>\n",
       "      <th>0</th>\n",
       "      <td>0</td>\n",
       "      <td>0.1675</td>\n",
       "      <td>1.3608</td>\n",
       "      <td>107</td>\n",
       "      <td>930883</td>\n",
       "    </tr>\n",
       "    <tr>\n",
       "      <th>1</th>\n",
       "      <td>1</td>\n",
       "      <td>7.3909</td>\n",
       "      <td>2.5301</td>\n",
       "      <td>35</td>\n",
       "      <td>893017</td>\n",
       "    </tr>\n",
       "    <tr>\n",
       "      <th>2</th>\n",
       "      <td>2</td>\n",
       "      <td>8.0978</td>\n",
       "      <td>2.3473</td>\n",
       "      <td>62</td>\n",
       "      <td>976933</td>\n",
       "    </tr>\n",
       "    <tr>\n",
       "      <th>3</th>\n",
       "      <td>3</td>\n",
       "      <td>0.9990</td>\n",
       "      <td>1.0591</td>\n",
       "      <td>62</td>\n",
       "      <td>907285</td>\n",
       "    </tr>\n",
       "    <tr>\n",
       "      <th>4</th>\n",
       "      <td>4</td>\n",
       "      <td>0.6670</td>\n",
       "      <td>9.7254</td>\n",
       "      <td>40</td>\n",
       "      <td>914399</td>\n",
       "    </tr>\n",
       "  </tbody>\n",
       "</table>\n",
       "</div>"
      ],
      "text/plain": [
       "   row_id       x       y  accuracy    time\n",
       "0       0  0.1675  1.3608       107  930883\n",
       "1       1  7.3909  2.5301        35  893017\n",
       "2       2  8.0978  2.3473        62  976933\n",
       "3       3  0.9990  1.0591        62  907285\n",
       "4       4  0.6670  9.7254        40  914399"
      ]
     },
     "execution_count": 3,
     "metadata": {},
     "output_type": "execute_result"
    }
   ],
   "source": [
    "df_test = pd.read_csv('test.csv')\n",
    "df_test.head()"
   ]
  },
  {
   "cell_type": "code",
   "execution_count": 4,
   "metadata": {
    "collapsed": true
   },
   "outputs": [],
   "source": [
    "features = ['x', 'y']\n",
    "X_train = df[features]\n",
    "y_train = df.place_id.values\n",
    "\n",
    "std_scaler = StandardScaler().fit(X_train)\n",
    "X_train_std = std_scaler.transform(X_train)"
   ]
  },
  {
   "cell_type": "code",
   "execution_count": 5,
   "metadata": {
    "collapsed": false
   },
   "outputs": [
    {
     "data": {
      "text/plain": [
       "KNeighborsClassifier(algorithm='auto', leaf_size=30, metric='minkowski',\n",
       "           metric_params=None, n_jobs=1, n_neighbors=15, p=2,\n",
       "           weights='uniform')"
      ]
     },
     "execution_count": 5,
     "metadata": {},
     "output_type": "execute_result"
    }
   ],
   "source": [
    "clf = KNeighborsClassifier(n_neighbors=15)\n",
    "clf.fit(X_train_std, y_train)"
   ]
  },
  {
   "cell_type": "code",
   "execution_count": 6,
   "metadata": {
    "collapsed": true
   },
   "outputs": [],
   "source": [
    "features = ['x', 'y']\n",
    "X_test = df_test[features]\n",
    "X_test_std = std_scaler.transform(X_test)"
   ]
  },
  {
   "cell_type": "code",
   "execution_count": 7,
   "metadata": {
    "collapsed": true
   },
   "outputs": [],
   "source": [
    "def write_predictions(file, clf, x1, x2):\n",
    "    with open(file, 'w') as f:\n",
    "        f.write('row_id,place_id\\n')\n",
    "        for r_id, x, y in tqdm_notebook(zip(df_test.row_id.values[3457975:],\n",
    "                              x1,\n",
    "                              x2)):\n",
    "            p_id = sorted([(clf.classes_[i], p) for i, p in enumerate(clf.predict_proba([[x, y]])[0])],\n",
    "                          key=lambda x: x[1], reverse=True)[:3]\n",
    "            f.write('{0:d},{1:d} {2:d} {3:d}\\n'.format(r_id,\n",
    "                                                       p_id[0][0],\n",
    "                                                       p_id[1][0],\n",
    "                                                       p_id[2][0]))"
   ]
  },
  {
   "cell_type": "code",
   "execution_count": 8,
   "metadata": {
    "collapsed": false
   },
   "outputs": [
    {
     "name": "stderr",
     "output_type": "stream",
     "text": [
      "Exception ignored in: <bound method tqdm.__del__ of 2949060it [00:00, 15943520.38it/s]>\n",
      "Traceback (most recent call last):\n",
      "  File \"C:\\Anaconda3\\Lib\\site-packages\\tqdm\\_tqdm.py\", line 521, in __del__\n",
      "    "
     ]
    },
    {
     "name": "stdout",
     "output_type": "stream",
     "text": [
      "\n"
     ]
    },
    {
     "name": "stderr",
     "output_type": "stream",
     "text": [
      "self.close()\n",
      "  File \"C:\\Anaconda3\\Lib\\site-packages\\tqdm\\_tqdm_notebook.py\", line 203, in close\n",
      "    if self.n < self.total:\n",
      "TypeError: unorderable types: int() < NoneType()\n"
     ]
    },
    {
     "ename": "KeyboardInterrupt",
     "evalue": "",
     "output_type": "error",
     "traceback": [
      "\u001b[1;31m---------------------------------------------------------------------------\u001b[0m",
      "\u001b[1;31mKeyboardInterrupt\u001b[0m                         Traceback (most recent call last)",
      "\u001b[1;32m<ipython-input-8-dd0f5304224e>\u001b[0m in \u001b[0;36m<module>\u001b[1;34m()\u001b[0m\n\u001b[1;32m----> 1\u001b[1;33m \u001b[0mwrite_predictions\u001b[0m\u001b[1;33m(\u001b[0m\u001b[1;34m'submission_3_2.csv'\u001b[0m\u001b[1;33m,\u001b[0m \u001b[0mclf\u001b[0m\u001b[1;33m,\u001b[0m \u001b[0mX_test_std\u001b[0m\u001b[1;33m[\u001b[0m\u001b[1;36m3457975\u001b[0m\u001b[1;33m:\u001b[0m\u001b[1;33m,\u001b[0m\u001b[1;36m0\u001b[0m\u001b[1;33m]\u001b[0m\u001b[1;33m,\u001b[0m \u001b[0mX_test_std\u001b[0m\u001b[1;33m[\u001b[0m\u001b[1;36m3457975\u001b[0m\u001b[1;33m:\u001b[0m\u001b[1;33m,\u001b[0m\u001b[1;36m1\u001b[0m\u001b[1;33m]\u001b[0m\u001b[1;33m)\u001b[0m\u001b[1;33m\u001b[0m\u001b[0m\n\u001b[0m",
      "\u001b[1;32m<ipython-input-7-d16d35e98e65>\u001b[0m in \u001b[0;36mwrite_predictions\u001b[1;34m(file, clf, x1, x2)\u001b[0m\n\u001b[0;32m      5\u001b[0m                               \u001b[0mx1\u001b[0m\u001b[1;33m,\u001b[0m\u001b[1;33m\u001b[0m\u001b[0m\n\u001b[0;32m      6\u001b[0m                               x2)):\n\u001b[1;32m----> 7\u001b[1;33m             p_id = sorted([(clf.classes_[i], p) for i, p in enumerate(clf.predict_proba([[x, y]])[0])],\n\u001b[0m\u001b[0;32m      8\u001b[0m                           key=lambda x: x[1], reverse=True)[:3]\n\u001b[0;32m      9\u001b[0m             f.write('{0:d},{1:d} {2:d} {3:d}\\n'.format(r_id,\n",
      "\u001b[1;32m<ipython-input-7-d16d35e98e65>\u001b[0m in \u001b[0;36m<listcomp>\u001b[1;34m(.0)\u001b[0m\n\u001b[0;32m      5\u001b[0m                               \u001b[0mx1\u001b[0m\u001b[1;33m,\u001b[0m\u001b[1;33m\u001b[0m\u001b[0m\n\u001b[0;32m      6\u001b[0m                               x2)):\n\u001b[1;32m----> 7\u001b[1;33m             p_id = sorted([(clf.classes_[i], p) for i, p in enumerate(clf.predict_proba([[x, y]])[0])],\n\u001b[0m\u001b[0;32m      8\u001b[0m                           key=lambda x: x[1], reverse=True)[:3]\n\u001b[0;32m      9\u001b[0m             f.write('{0:d},{1:d} {2:d} {3:d}\\n'.format(r_id,\n",
      "\u001b[1;31mKeyboardInterrupt\u001b[0m: "
     ]
    }
   ],
   "source": [
    "write_predictions('submission_3_2.csv', clf, X_test_std[3457975:,0], X_test_std[3457975:,1])"
   ]
  },
  {
   "cell_type": "code",
   "execution_count": null,
   "metadata": {
    "collapsed": false
   },
   "outputs": [],
   "source": []
  },
  {
   "cell_type": "code",
   "execution_count": null,
   "metadata": {
    "collapsed": true
   },
   "outputs": [],
   "source": []
  }
 ],
 "metadata": {
  "kernelspec": {
   "display_name": "Python 3",
   "language": "python",
   "name": "python3"
  },
  "language_info": {
   "codemirror_mode": {
    "name": "ipython",
    "version": 3
   },
   "file_extension": ".py",
   "mimetype": "text/x-python",
   "name": "python",
   "nbconvert_exporter": "python",
   "pygments_lexer": "ipython3",
   "version": "3.5.1"
  }
 },
 "nbformat": 4,
 "nbformat_minor": 0
}
